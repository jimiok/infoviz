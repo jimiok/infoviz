{
 "cells": [
  {
   "cell_type": "code",
   "execution_count": 12,
   "metadata": {},
   "outputs": [],
   "source": [
    "import pandas as pd\n",
    "import plotly.express as px"
   ]
  },
  {
   "cell_type": "code",
   "execution_count": 10,
   "metadata": {},
   "outputs": [],
   "source": [
    "# Replace 'your_file.csv' with the path to your CSV file\n",
    "df = pd.read_csv('undata.csv', encoding='ISO-8859-1')"
   ]
  },
  {
   "cell_type": "code",
   "execution_count": 11,
   "metadata": {},
   "outputs": [
    {
     "data": {
      "text/html": [
       "<div>\n",
       "<style scoped>\n",
       "    .dataframe tbody tr th:only-of-type {\n",
       "        vertical-align: middle;\n",
       "    }\n",
       "\n",
       "    .dataframe tbody tr th {\n",
       "        vertical-align: top;\n",
       "    }\n",
       "\n",
       "    .dataframe thead th {\n",
       "        text-align: right;\n",
       "    }\n",
       "</style>\n",
       "<table border=\"1\" class=\"dataframe\">\n",
       "  <thead>\n",
       "    <tr style=\"text-align: right;\">\n",
       "      <th></th>\n",
       "      <th>Region/Country/Area</th>\n",
       "      <th>Year</th>\n",
       "      <th>Series</th>\n",
       "      <th>Value</th>\n",
       "      <th>Footnotes</th>\n",
       "      <th>Source</th>\n",
       "    </tr>\n",
       "  </thead>\n",
       "  <tbody>\n",
       "    <tr>\n",
       "      <th>1</th>\n",
       "      <td>Total, all countries or areas</td>\n",
       "      <td>2010</td>\n",
       "      <td>Safely managed drinking water sources, urban (...</td>\n",
       "      <td>79.7</td>\n",
       "      <td>NaN</td>\n",
       "      <td>World Health Organization (WHO) and United Nat...</td>\n",
       "    </tr>\n",
       "    <tr>\n",
       "      <th>1</th>\n",
       "      <td>Total, all countries or areas</td>\n",
       "      <td>2010</td>\n",
       "      <td>Safely managed drinking water sources, rural (...</td>\n",
       "      <td>51.3</td>\n",
       "      <td>NaN</td>\n",
       "      <td>World Health Organization (WHO) and United Nat...</td>\n",
       "    </tr>\n",
       "    <tr>\n",
       "      <th>1</th>\n",
       "      <td>Total, all countries or areas</td>\n",
       "      <td>2010</td>\n",
       "      <td>Safely managed drinking water sources, total (...</td>\n",
       "      <td>65.9</td>\n",
       "      <td>NaN</td>\n",
       "      <td>World Health Organization (WHO) and United Nat...</td>\n",
       "    </tr>\n",
       "    <tr>\n",
       "      <th>1</th>\n",
       "      <td>Total, all countries or areas</td>\n",
       "      <td>2010</td>\n",
       "      <td>Safely managed sanitation facilities, urban (P...</td>\n",
       "      <td>41.8</td>\n",
       "      <td>NaN</td>\n",
       "      <td>World Health Organization (WHO) and United Nat...</td>\n",
       "    </tr>\n",
       "    <tr>\n",
       "      <th>1</th>\n",
       "      <td>Total, all countries or areas</td>\n",
       "      <td>2010</td>\n",
       "      <td>Safely managed sanitation facilities, rural (P...</td>\n",
       "      <td>28.4</td>\n",
       "      <td>NaN</td>\n",
       "      <td>World Health Organization (WHO) and United Nat...</td>\n",
       "    </tr>\n",
       "  </tbody>\n",
       "</table>\n",
       "</div>"
      ],
      "text/plain": [
       "             Region/Country/Area  Year  \\\n",
       "1  Total, all countries or areas  2010   \n",
       "1  Total, all countries or areas  2010   \n",
       "1  Total, all countries or areas  2010   \n",
       "1  Total, all countries or areas  2010   \n",
       "1  Total, all countries or areas  2010   \n",
       "\n",
       "                                              Series  Value Footnotes  \\\n",
       "1  Safely managed drinking water sources, urban (...   79.7       NaN   \n",
       "1  Safely managed drinking water sources, rural (...   51.3       NaN   \n",
       "1  Safely managed drinking water sources, total (...   65.9       NaN   \n",
       "1  Safely managed sanitation facilities, urban (P...   41.8       NaN   \n",
       "1  Safely managed sanitation facilities, rural (P...   28.4       NaN   \n",
       "\n",
       "                                              Source  \n",
       "1  World Health Organization (WHO) and United Nat...  \n",
       "1  World Health Organization (WHO) and United Nat...  \n",
       "1  World Health Organization (WHO) and United Nat...  \n",
       "1  World Health Organization (WHO) and United Nat...  \n",
       "1  World Health Organization (WHO) and United Nat...  "
      ]
     },
     "execution_count": 11,
     "metadata": {},
     "output_type": "execute_result"
    }
   ],
   "source": [
    "df.head()"
   ]
  },
  {
   "cell_type": "code",
   "execution_count": 12,
   "metadata": {},
   "outputs": [],
   "source": [
    "df.columns = ['Region/Country/Area', 'Year', 'Series', 'Value', 'Footnotes', 'Source']"
   ]
  },
  {
   "cell_type": "code",
   "execution_count": 13,
   "metadata": {},
   "outputs": [
    {
     "name": "stdout",
     "output_type": "stream",
     "text": [
      "['Safely managed drinking water sources, urban (Proportion of population with access)'\n",
      " 'Safely managed drinking water sources, rural (Proportion of population with access)'\n",
      " 'Safely managed drinking water sources, total (Proportion of population with access)'\n",
      " 'Safely managed sanitation facilities, urban (Proportion of population with access)'\n",
      " 'Safely managed sanitation facilities, rural (Proportion of population with access)'\n",
      " 'Safely managed sanitation facilities, total (Proportion of population with access)']\n"
     ]
    }
   ],
   "source": [
    "# List unique Series types\n",
    "print(df['Series'].unique())\n"
   ]
  },
  {
   "cell_type": "code",
   "execution_count": 15,
   "metadata": {},
   "outputs": [],
   "source": [
    "df['Category'] = df['Series'].apply(lambda x: 'Drinking Water' if 'drinking water' in x else 'Sanitation')\n",
    "df['Area'] = df['Series'].apply(lambda x: 'Urban' if 'urban' in x else 'Rural' if 'rural' in x else 'Total')\n"
   ]
  },
  {
   "cell_type": "code",
   "execution_count": 16,
   "metadata": {},
   "outputs": [
    {
     "data": {
      "text/html": [
       "<div>\n",
       "<style scoped>\n",
       "    .dataframe tbody tr th:only-of-type {\n",
       "        vertical-align: middle;\n",
       "    }\n",
       "\n",
       "    .dataframe tbody tr th {\n",
       "        vertical-align: top;\n",
       "    }\n",
       "\n",
       "    .dataframe thead th {\n",
       "        text-align: right;\n",
       "    }\n",
       "</style>\n",
       "<table border=\"1\" class=\"dataframe\">\n",
       "  <thead>\n",
       "    <tr style=\"text-align: right;\">\n",
       "      <th></th>\n",
       "      <th>Region/Country/Area</th>\n",
       "      <th>Year</th>\n",
       "      <th>Series</th>\n",
       "      <th>Value</th>\n",
       "      <th>Footnotes</th>\n",
       "      <th>Source</th>\n",
       "      <th>Category</th>\n",
       "      <th>Area</th>\n",
       "    </tr>\n",
       "  </thead>\n",
       "  <tbody>\n",
       "    <tr>\n",
       "      <th>1</th>\n",
       "      <td>Total, all countries or areas</td>\n",
       "      <td>2010</td>\n",
       "      <td>Safely managed drinking water sources, urban (...</td>\n",
       "      <td>79.7</td>\n",
       "      <td>NaN</td>\n",
       "      <td>World Health Organization (WHO) and United Nat...</td>\n",
       "      <td>Drinking Water</td>\n",
       "      <td>Urban</td>\n",
       "    </tr>\n",
       "    <tr>\n",
       "      <th>1</th>\n",
       "      <td>Total, all countries or areas</td>\n",
       "      <td>2010</td>\n",
       "      <td>Safely managed drinking water sources, rural (...</td>\n",
       "      <td>51.3</td>\n",
       "      <td>NaN</td>\n",
       "      <td>World Health Organization (WHO) and United Nat...</td>\n",
       "      <td>Drinking Water</td>\n",
       "      <td>Rural</td>\n",
       "    </tr>\n",
       "    <tr>\n",
       "      <th>1</th>\n",
       "      <td>Total, all countries or areas</td>\n",
       "      <td>2010</td>\n",
       "      <td>Safely managed drinking water sources, total (...</td>\n",
       "      <td>65.9</td>\n",
       "      <td>NaN</td>\n",
       "      <td>World Health Organization (WHO) and United Nat...</td>\n",
       "      <td>Drinking Water</td>\n",
       "      <td>Total</td>\n",
       "    </tr>\n",
       "    <tr>\n",
       "      <th>1</th>\n",
       "      <td>Total, all countries or areas</td>\n",
       "      <td>2010</td>\n",
       "      <td>Safely managed sanitation facilities, urban (P...</td>\n",
       "      <td>41.8</td>\n",
       "      <td>NaN</td>\n",
       "      <td>World Health Organization (WHO) and United Nat...</td>\n",
       "      <td>Sanitation</td>\n",
       "      <td>Urban</td>\n",
       "    </tr>\n",
       "    <tr>\n",
       "      <th>1</th>\n",
       "      <td>Total, all countries or areas</td>\n",
       "      <td>2010</td>\n",
       "      <td>Safely managed sanitation facilities, rural (P...</td>\n",
       "      <td>28.4</td>\n",
       "      <td>NaN</td>\n",
       "      <td>World Health Organization (WHO) and United Nat...</td>\n",
       "      <td>Sanitation</td>\n",
       "      <td>Rural</td>\n",
       "    </tr>\n",
       "  </tbody>\n",
       "</table>\n",
       "</div>"
      ],
      "text/plain": [
       "             Region/Country/Area  Year  \\\n",
       "1  Total, all countries or areas  2010   \n",
       "1  Total, all countries or areas  2010   \n",
       "1  Total, all countries or areas  2010   \n",
       "1  Total, all countries or areas  2010   \n",
       "1  Total, all countries or areas  2010   \n",
       "\n",
       "                                              Series  Value Footnotes  \\\n",
       "1  Safely managed drinking water sources, urban (...   79.7       NaN   \n",
       "1  Safely managed drinking water sources, rural (...   51.3       NaN   \n",
       "1  Safely managed drinking water sources, total (...   65.9       NaN   \n",
       "1  Safely managed sanitation facilities, urban (P...   41.8       NaN   \n",
       "1  Safely managed sanitation facilities, rural (P...   28.4       NaN   \n",
       "\n",
       "                                              Source        Category   Area  \n",
       "1  World Health Organization (WHO) and United Nat...  Drinking Water  Urban  \n",
       "1  World Health Organization (WHO) and United Nat...  Drinking Water  Rural  \n",
       "1  World Health Organization (WHO) and United Nat...  Drinking Water  Total  \n",
       "1  World Health Organization (WHO) and United Nat...      Sanitation  Urban  \n",
       "1  World Health Organization (WHO) and United Nat...      Sanitation  Rural  "
      ]
     },
     "execution_count": 16,
     "metadata": {},
     "output_type": "execute_result"
    }
   ],
   "source": [
    "df.head()"
   ]
  },
  {
   "cell_type": "code",
   "execution_count": 19,
   "metadata": {},
   "outputs": [],
   "source": [
    "df.drop(columns=['Series'], inplace=True)"
   ]
  },
  {
   "cell_type": "code",
   "execution_count": 21,
   "metadata": {},
   "outputs": [
    {
     "data": {
      "text/html": [
       "<div>\n",
       "<style scoped>\n",
       "    .dataframe tbody tr th:only-of-type {\n",
       "        vertical-align: middle;\n",
       "    }\n",
       "\n",
       "    .dataframe tbody tr th {\n",
       "        vertical-align: top;\n",
       "    }\n",
       "\n",
       "    .dataframe thead th {\n",
       "        text-align: right;\n",
       "    }\n",
       "</style>\n",
       "<table border=\"1\" class=\"dataframe\">\n",
       "  <thead>\n",
       "    <tr style=\"text-align: right;\">\n",
       "      <th></th>\n",
       "      <th>Region/Country/Area</th>\n",
       "      <th>Year</th>\n",
       "      <th>Value</th>\n",
       "      <th>Footnotes</th>\n",
       "      <th>Source</th>\n",
       "      <th>Category</th>\n",
       "      <th>Area</th>\n",
       "    </tr>\n",
       "  </thead>\n",
       "  <tbody>\n",
       "    <tr>\n",
       "      <th>1</th>\n",
       "      <td>Total, all countries or areas</td>\n",
       "      <td>2010</td>\n",
       "      <td>79.7</td>\n",
       "      <td>NaN</td>\n",
       "      <td>World Health Organization (WHO) and United Nat...</td>\n",
       "      <td>Drinking Water</td>\n",
       "      <td>Urban</td>\n",
       "    </tr>\n",
       "    <tr>\n",
       "      <th>1</th>\n",
       "      <td>Total, all countries or areas</td>\n",
       "      <td>2010</td>\n",
       "      <td>51.3</td>\n",
       "      <td>NaN</td>\n",
       "      <td>World Health Organization (WHO) and United Nat...</td>\n",
       "      <td>Drinking Water</td>\n",
       "      <td>Rural</td>\n",
       "    </tr>\n",
       "    <tr>\n",
       "      <th>1</th>\n",
       "      <td>Total, all countries or areas</td>\n",
       "      <td>2010</td>\n",
       "      <td>65.9</td>\n",
       "      <td>NaN</td>\n",
       "      <td>World Health Organization (WHO) and United Nat...</td>\n",
       "      <td>Drinking Water</td>\n",
       "      <td>Total</td>\n",
       "    </tr>\n",
       "    <tr>\n",
       "      <th>1</th>\n",
       "      <td>Total, all countries or areas</td>\n",
       "      <td>2010</td>\n",
       "      <td>41.8</td>\n",
       "      <td>NaN</td>\n",
       "      <td>World Health Organization (WHO) and United Nat...</td>\n",
       "      <td>Sanitation</td>\n",
       "      <td>Urban</td>\n",
       "    </tr>\n",
       "    <tr>\n",
       "      <th>1</th>\n",
       "      <td>Total, all countries or areas</td>\n",
       "      <td>2010</td>\n",
       "      <td>28.4</td>\n",
       "      <td>NaN</td>\n",
       "      <td>World Health Organization (WHO) and United Nat...</td>\n",
       "      <td>Sanitation</td>\n",
       "      <td>Rural</td>\n",
       "    </tr>\n",
       "  </tbody>\n",
       "</table>\n",
       "</div>"
      ],
      "text/plain": [
       "             Region/Country/Area  Year  Value Footnotes  \\\n",
       "1  Total, all countries or areas  2010   79.7       NaN   \n",
       "1  Total, all countries or areas  2010   51.3       NaN   \n",
       "1  Total, all countries or areas  2010   65.9       NaN   \n",
       "1  Total, all countries or areas  2010   41.8       NaN   \n",
       "1  Total, all countries or areas  2010   28.4       NaN   \n",
       "\n",
       "                                              Source        Category   Area  \n",
       "1  World Health Organization (WHO) and United Nat...  Drinking Water  Urban  \n",
       "1  World Health Organization (WHO) and United Nat...  Drinking Water  Rural  \n",
       "1  World Health Organization (WHO) and United Nat...  Drinking Water  Total  \n",
       "1  World Health Organization (WHO) and United Nat...      Sanitation  Urban  \n",
       "1  World Health Organization (WHO) and United Nat...      Sanitation  Rural  "
      ]
     },
     "execution_count": 21,
     "metadata": {},
     "output_type": "execute_result"
    }
   ],
   "source": [
    "df.head()"
   ]
  },
  {
   "cell_type": "code",
   "execution_count": 22,
   "metadata": {},
   "outputs": [],
   "source": [
    "df.to_pickle(\"data.pkl\")"
   ]
  },
  {
   "cell_type": "code",
   "execution_count": 11,
   "metadata": {},
   "outputs": [],
   "source": [
    "# Replace 'your_file.csv' with the path to your CSV file\n",
    "df_water = pd.read_csv('who_water.csv', encoding='ISO-8859-1')"
   ]
  },
  {
   "cell_type": "code",
   "execution_count": 4,
   "metadata": {},
   "outputs": [
    {
     "data": {
      "text/html": [
       "<div>\n",
       "<style scoped>\n",
       "    .dataframe tbody tr th:only-of-type {\n",
       "        vertical-align: middle;\n",
       "    }\n",
       "\n",
       "    .dataframe tbody tr th {\n",
       "        vertical-align: top;\n",
       "    }\n",
       "\n",
       "    .dataframe thead th {\n",
       "        text-align: right;\n",
       "    }\n",
       "</style>\n",
       "<table border=\"1\" class=\"dataframe\">\n",
       "  <thead>\n",
       "    <tr style=\"text-align: right;\">\n",
       "      <th></th>\n",
       "      <th>IND_ID</th>\n",
       "      <th>IND_CODE</th>\n",
       "      <th>IND_UUID</th>\n",
       "      <th>IND_PER_CODE</th>\n",
       "      <th>DIM_TIME</th>\n",
       "      <th>DIM_TIME_TYPE</th>\n",
       "      <th>DIM_GEO_CODE_M49</th>\n",
       "      <th>DIM_GEO_CODE_TYPE</th>\n",
       "      <th>DIM_PUBLISH_STATE_CODE</th>\n",
       "      <th>IND_NAME</th>\n",
       "      <th>GEO_NAME_SHORT</th>\n",
       "      <th>DIM_DEG_URB</th>\n",
       "      <th>PERCENT_POP_N</th>\n",
       "    </tr>\n",
       "  </thead>\n",
       "  <tbody>\n",
       "    <tr>\n",
       "      <th>0</th>\n",
       "      <td>1548EA3WSH_WATER_SAFELY_MANAGED</td>\n",
       "      <td>WSH_WATER_SAFELY_MANAGED</td>\n",
       "      <td>1548EA3</td>\n",
       "      <td>WSH_WATER_SAFELY_MANAGED</td>\n",
       "      <td>2021</td>\n",
       "      <td>YEAR</td>\n",
       "      <td>384</td>\n",
       "      <td>COUNTRY</td>\n",
       "      <td>PUBLISHED</td>\n",
       "      <td>Population using safely managed drinking-water...</td>\n",
       "      <td>CÃ´te d'Ivoire</td>\n",
       "      <td>RURAL</td>\n",
       "      <td>27.28902</td>\n",
       "    </tr>\n",
       "    <tr>\n",
       "      <th>1</th>\n",
       "      <td>1548EA3WSH_WATER_SAFELY_MANAGED</td>\n",
       "      <td>WSH_WATER_SAFELY_MANAGED</td>\n",
       "      <td>1548EA3</td>\n",
       "      <td>WSH_WATER_SAFELY_MANAGED</td>\n",
       "      <td>2019</td>\n",
       "      <td>YEAR</td>\n",
       "      <td>454</td>\n",
       "      <td>COUNTRY</td>\n",
       "      <td>PUBLISHED</td>\n",
       "      <td>Population using safely managed drinking-water...</td>\n",
       "      <td>Malawi</td>\n",
       "      <td>RURAL</td>\n",
       "      <td>8.76283</td>\n",
       "    </tr>\n",
       "    <tr>\n",
       "      <th>2</th>\n",
       "      <td>1548EA3WSH_WATER_SAFELY_MANAGED</td>\n",
       "      <td>WSH_WATER_SAFELY_MANAGED</td>\n",
       "      <td>1548EA3</td>\n",
       "      <td>WSH_WATER_SAFELY_MANAGED</td>\n",
       "      <td>2006</td>\n",
       "      <td>YEAR</td>\n",
       "      <td>704</td>\n",
       "      <td>COUNTRY</td>\n",
       "      <td>PUBLISHED</td>\n",
       "      <td>Population using safely managed drinking-water...</td>\n",
       "      <td>Viet Nam</td>\n",
       "      <td>RURAL</td>\n",
       "      <td>39.32455</td>\n",
       "    </tr>\n",
       "    <tr>\n",
       "      <th>3</th>\n",
       "      <td>1548EA3WSH_WATER_SAFELY_MANAGED</td>\n",
       "      <td>WSH_WATER_SAFELY_MANAGED</td>\n",
       "      <td>1548EA3</td>\n",
       "      <td>WSH_WATER_SAFELY_MANAGED</td>\n",
       "      <td>2001</td>\n",
       "      <td>YEAR</td>\n",
       "      <td>954</td>\n",
       "      <td>WHOREGION</td>\n",
       "      <td>PUBLISHED</td>\n",
       "      <td>Population using safely managed drinking-water...</td>\n",
       "      <td>Americas</td>\n",
       "      <td>RURAL</td>\n",
       "      <td>45.12751</td>\n",
       "    </tr>\n",
       "    <tr>\n",
       "      <th>4</th>\n",
       "      <td>1548EA3WSH_WATER_SAFELY_MANAGED</td>\n",
       "      <td>WSH_WATER_SAFELY_MANAGED</td>\n",
       "      <td>1548EA3</td>\n",
       "      <td>WSH_WATER_SAFELY_MANAGED</td>\n",
       "      <td>2006</td>\n",
       "      <td>YEAR</td>\n",
       "      <td>454</td>\n",
       "      <td>COUNTRY</td>\n",
       "      <td>PUBLISHED</td>\n",
       "      <td>Population using safely managed drinking-water...</td>\n",
       "      <td>Malawi</td>\n",
       "      <td>RURAL</td>\n",
       "      <td>3.66475</td>\n",
       "    </tr>\n",
       "  </tbody>\n",
       "</table>\n",
       "</div>"
      ],
      "text/plain": [
       "                            IND_ID                  IND_CODE IND_UUID  \\\n",
       "0  1548EA3WSH_WATER_SAFELY_MANAGED  WSH_WATER_SAFELY_MANAGED  1548EA3   \n",
       "1  1548EA3WSH_WATER_SAFELY_MANAGED  WSH_WATER_SAFELY_MANAGED  1548EA3   \n",
       "2  1548EA3WSH_WATER_SAFELY_MANAGED  WSH_WATER_SAFELY_MANAGED  1548EA3   \n",
       "3  1548EA3WSH_WATER_SAFELY_MANAGED  WSH_WATER_SAFELY_MANAGED  1548EA3   \n",
       "4  1548EA3WSH_WATER_SAFELY_MANAGED  WSH_WATER_SAFELY_MANAGED  1548EA3   \n",
       "\n",
       "               IND_PER_CODE  DIM_TIME DIM_TIME_TYPE  DIM_GEO_CODE_M49  \\\n",
       "0  WSH_WATER_SAFELY_MANAGED      2021          YEAR               384   \n",
       "1  WSH_WATER_SAFELY_MANAGED      2019          YEAR               454   \n",
       "2  WSH_WATER_SAFELY_MANAGED      2006          YEAR               704   \n",
       "3  WSH_WATER_SAFELY_MANAGED      2001          YEAR               954   \n",
       "4  WSH_WATER_SAFELY_MANAGED      2006          YEAR               454   \n",
       "\n",
       "  DIM_GEO_CODE_TYPE DIM_PUBLISH_STATE_CODE  \\\n",
       "0           COUNTRY              PUBLISHED   \n",
       "1           COUNTRY              PUBLISHED   \n",
       "2           COUNTRY              PUBLISHED   \n",
       "3         WHOREGION              PUBLISHED   \n",
       "4           COUNTRY              PUBLISHED   \n",
       "\n",
       "                                            IND_NAME  GEO_NAME_SHORT  \\\n",
       "0  Population using safely managed drinking-water...  CÃ´te d'Ivoire   \n",
       "1  Population using safely managed drinking-water...          Malawi   \n",
       "2  Population using safely managed drinking-water...        Viet Nam   \n",
       "3  Population using safely managed drinking-water...        Americas   \n",
       "4  Population using safely managed drinking-water...          Malawi   \n",
       "\n",
       "  DIM_DEG_URB  PERCENT_POP_N  \n",
       "0       RURAL       27.28902  \n",
       "1       RURAL        8.76283  \n",
       "2       RURAL       39.32455  \n",
       "3       RURAL       45.12751  \n",
       "4       RURAL        3.66475  "
      ]
     },
     "execution_count": 4,
     "metadata": {},
     "output_type": "execute_result"
    }
   ],
   "source": [
    "df_water.head()"
   ]
  },
  {
   "cell_type": "code",
   "execution_count": 34,
   "metadata": {},
   "outputs": [],
   "source": [
    "df_water_filtered = df_water[df_water[\"DIM_GEO_CODE_TYPE\"] == \"COUNTRY\"]"
   ]
  },
  {
   "cell_type": "code",
   "execution_count": 15,
   "metadata": {},
   "outputs": [
    {
     "data": {
      "text/plain": [
       "array(['Population using safely managed drinking-water services'],\n",
       "      dtype=object)"
      ]
     },
     "execution_count": 15,
     "metadata": {},
     "output_type": "execute_result"
    }
   ],
   "source": [
    "df_water_filtered[\"IND_NAME\"].unique()"
   ]
  },
  {
   "cell_type": "code",
   "execution_count": 8,
   "metadata": {},
   "outputs": [],
   "source": [
    "ind_name = \"Population using safely managed drinking-water services\""
   ]
  },
  {
   "cell_type": "code",
   "execution_count": 35,
   "metadata": {},
   "outputs": [],
   "source": [
    "df_water_filtered = df_water_filtered.drop([\"DIM_PUBLISH_STATE_CODE\", \"IND_ID\", \"IND_CODE\", \"IND_UUID\", \"IND_PER_CODE\", \"IND_NAME\", \"DIM_TIME_TYPE\"], axis=1)"
   ]
  },
  {
   "cell_type": "code",
   "execution_count": 44,
   "metadata": {},
   "outputs": [],
   "source": [
    "df_water_filtered.to_pickle(\"who_water_data.pkl\")"
   ]
  },
  {
   "cell_type": "code",
   "execution_count": 36,
   "metadata": {},
   "outputs": [
    {
     "data": {
      "text/html": [
       "<div>\n",
       "<style scoped>\n",
       "    .dataframe tbody tr th:only-of-type {\n",
       "        vertical-align: middle;\n",
       "    }\n",
       "\n",
       "    .dataframe tbody tr th {\n",
       "        vertical-align: top;\n",
       "    }\n",
       "\n",
       "    .dataframe thead th {\n",
       "        text-align: right;\n",
       "    }\n",
       "</style>\n",
       "<table border=\"1\" class=\"dataframe\">\n",
       "  <thead>\n",
       "    <tr style=\"text-align: right;\">\n",
       "      <th></th>\n",
       "      <th>DIM_TIME</th>\n",
       "      <th>DIM_GEO_CODE_M49</th>\n",
       "      <th>DIM_GEO_CODE_TYPE</th>\n",
       "      <th>GEO_NAME_SHORT</th>\n",
       "      <th>DIM_DEG_URB</th>\n",
       "      <th>PERCENT_POP_N</th>\n",
       "    </tr>\n",
       "  </thead>\n",
       "  <tbody>\n",
       "    <tr>\n",
       "      <th>0</th>\n",
       "      <td>2021</td>\n",
       "      <td>384</td>\n",
       "      <td>COUNTRY</td>\n",
       "      <td>CÃ´te d'Ivoire</td>\n",
       "      <td>RURAL</td>\n",
       "      <td>27.28902</td>\n",
       "    </tr>\n",
       "    <tr>\n",
       "      <th>1</th>\n",
       "      <td>2019</td>\n",
       "      <td>454</td>\n",
       "      <td>COUNTRY</td>\n",
       "      <td>Malawi</td>\n",
       "      <td>RURAL</td>\n",
       "      <td>8.76283</td>\n",
       "    </tr>\n",
       "    <tr>\n",
       "      <th>2</th>\n",
       "      <td>2006</td>\n",
       "      <td>704</td>\n",
       "      <td>COUNTRY</td>\n",
       "      <td>Viet Nam</td>\n",
       "      <td>RURAL</td>\n",
       "      <td>39.32455</td>\n",
       "    </tr>\n",
       "    <tr>\n",
       "      <th>4</th>\n",
       "      <td>2006</td>\n",
       "      <td>454</td>\n",
       "      <td>COUNTRY</td>\n",
       "      <td>Malawi</td>\n",
       "      <td>RURAL</td>\n",
       "      <td>3.66475</td>\n",
       "    </tr>\n",
       "    <tr>\n",
       "      <th>5</th>\n",
       "      <td>2017</td>\n",
       "      <td>524</td>\n",
       "      <td>COUNTRY</td>\n",
       "      <td>Nepal</td>\n",
       "      <td>RURAL</td>\n",
       "      <td>20.70841</td>\n",
       "    </tr>\n",
       "  </tbody>\n",
       "</table>\n",
       "</div>"
      ],
      "text/plain": [
       "   DIM_TIME  DIM_GEO_CODE_M49 DIM_GEO_CODE_TYPE  GEO_NAME_SHORT DIM_DEG_URB  \\\n",
       "0      2021               384           COUNTRY  CÃ´te d'Ivoire       RURAL   \n",
       "1      2019               454           COUNTRY          Malawi       RURAL   \n",
       "2      2006               704           COUNTRY        Viet Nam       RURAL   \n",
       "4      2006               454           COUNTRY          Malawi       RURAL   \n",
       "5      2017               524           COUNTRY           Nepal       RURAL   \n",
       "\n",
       "   PERCENT_POP_N  \n",
       "0       27.28902  \n",
       "1        8.76283  \n",
       "2       39.32455  \n",
       "4        3.66475  \n",
       "5       20.70841  "
      ]
     },
     "execution_count": 36,
     "metadata": {},
     "output_type": "execute_result"
    }
   ],
   "source": [
    "df_water_filtered.head()"
   ]
  },
  {
   "cell_type": "code",
   "execution_count": 40,
   "metadata": {},
   "outputs": [],
   "source": [
    "df_yearly = df_water_filtered[(df_water_filtered[\"DIM_GEO_CODE_TYPE\"] == \"COUNTRY\") & (df_water_filtered[\"DIM_DEG_URB\"] == \"TOTAL\") & (df_water_filtered[\"DIM_TIME\"] == 2008)]"
   ]
  },
  {
   "cell_type": "code",
   "execution_count": 38,
   "metadata": {},
   "outputs": [
    {
     "data": {
      "application/vnd.plotly.v1+json": {
       "config": {
        "plotlyServerURL": "https://plot.ly"
       },
       "data": [
        {
         "coloraxis": "coloraxis",
         "geo": "geo",
         "hovertemplate": "<b>%{hovertext}</b><br><br>GEO_NAME_SHORT=%{location}<br>PERCENT_POP_N=%{z}<extra></extra>",
         "hovertext": [
          "Viet Nam",
          "Latvia",
          "Germany",
          "Azerbaijan",
          "Iraq",
          "Madagascar",
          "Bulgaria",
          "Guinea-Bissau",
          "Uganda",
          "Brazil",
          "Lao People's Democratic Republic",
          "Israel",
          "Estonia",
          "Senegal",
          "Kazakhstan",
          "Guatemala",
          "Chile",
          "Morocco",
          "Italy",
          "Romania",
          "Austria",
          "Suriname",
          "Turkmenistan",
          "Ukraine",
          "San Marino",
          "Samoa",
          "Chad",
          "Sri Lanka",
          "Andorra",
          "Albania",
          "Japan",
          "Togo",
          "Tunisia",
          "Sao Tome and Principe",
          "Tajikistan",
          "Jordan",
          "Costa Rica",
          "Czechia",
          "Belarus",
          "Belgium",
          "Kuwait",
          "North Macedonia",
          "Bhutan",
          "France",
          "Mexico",
          "Russian Federation",
          "Democratic People's Republic of Korea",
          "Tonga",
          "Cambodia",
          "Dominican Republic",
          "Malta",
          "Niue",
          "Greece",
          "Lebanon",
          "Iceland",
          "Democratic Republic of the Congo",
          "Lesotho",
          "Slovenia",
          "Luxembourg",
          "Finland",
          "Kiribati",
          "Lithuania",
          "Ireland",
          "Philippines",
          "Honduras",
          "Norway",
          "Monaco",
          "Nepal",
          "Montenegro",
          "Nicaragua",
          "Congo",
          "Georgia",
          "Zimbabwe",
          "United States of America",
          "Tuvalu",
          "Republic of Korea",
          "Portugal",
          "Sierra Leone",
          "Bahrain",
          "Singapore",
          "Oman",
          "Mongolia",
          "Canada",
          "Bangladesh",
          "CÃ´te d'Ivoire",
          "Republic of Moldova",
          "Armenia",
          "Kyrgyzstan",
          "Poland",
          "Indonesia",
          "New Zealand",
          "Denmark",
          "Afghanistan",
          "Ghana",
          "Qatar",
          "Ethiopia",
          "Spain",
          "Uzbekistan",
          "Cyprus",
          "Sweden",
          "United Kingdom of Great Britain and Northern Ireland",
          "Nigeria",
          "Slovakia",
          "Iran (Islamic Republic of)",
          "Bosnia and Herzegovina",
          "Algeria",
          "Serbia",
          "Palau",
          "Switzerland",
          "Gambia",
          "Hungary",
          "Malaysia",
          "Ecuador",
          "Myanmar",
          "Malawi",
          "Fiji",
          "Netherlands (Kingdom of the)",
          "Pakistan",
          "Paraguay",
          "United Republic of Tanzania",
          "Peru",
          "Central African Republic",
          "Colombia"
         ],
         "locationmode": "country names",
         "locations": [
          "Viet Nam",
          "Latvia",
          "Germany",
          "Azerbaijan",
          "Iraq",
          "Madagascar",
          "Bulgaria",
          "Guinea-Bissau",
          "Uganda",
          "Brazil",
          "Lao People's Democratic Republic",
          "Israel",
          "Estonia",
          "Senegal",
          "Kazakhstan",
          "Guatemala",
          "Chile",
          "Morocco",
          "Italy",
          "Romania",
          "Austria",
          "Suriname",
          "Turkmenistan",
          "Ukraine",
          "San Marino",
          "Samoa",
          "Chad",
          "Sri Lanka",
          "Andorra",
          "Albania",
          "Japan",
          "Togo",
          "Tunisia",
          "Sao Tome and Principe",
          "Tajikistan",
          "Jordan",
          "Costa Rica",
          "Czechia",
          "Belarus",
          "Belgium",
          "Kuwait",
          "North Macedonia",
          "Bhutan",
          "France",
          "Mexico",
          "Russian Federation",
          "Democratic People's Republic of Korea",
          "Tonga",
          "Cambodia",
          "Dominican Republic",
          "Malta",
          "Niue",
          "Greece",
          "Lebanon",
          "Iceland",
          "Democratic Republic of the Congo",
          "Lesotho",
          "Slovenia",
          "Luxembourg",
          "Finland",
          "Kiribati",
          "Lithuania",
          "Ireland",
          "Philippines",
          "Honduras",
          "Norway",
          "Monaco",
          "Nepal",
          "Montenegro",
          "Nicaragua",
          "Congo",
          "Georgia",
          "Zimbabwe",
          "United States of America",
          "Tuvalu",
          "Republic of Korea",
          "Portugal",
          "Sierra Leone",
          "Bahrain",
          "Singapore",
          "Oman",
          "Mongolia",
          "Canada",
          "Bangladesh",
          "CÃ´te d'Ivoire",
          "Republic of Moldova",
          "Armenia",
          "Kyrgyzstan",
          "Poland",
          "Indonesia",
          "New Zealand",
          "Denmark",
          "Afghanistan",
          "Ghana",
          "Qatar",
          "Ethiopia",
          "Spain",
          "Uzbekistan",
          "Cyprus",
          "Sweden",
          "United Kingdom of Great Britain and Northern Ireland",
          "Nigeria",
          "Slovakia",
          "Iran (Islamic Republic of)",
          "Bosnia and Herzegovina",
          "Algeria",
          "Serbia",
          "Palau",
          "Switzerland",
          "Gambia",
          "Hungary",
          "Malaysia",
          "Ecuador",
          "Myanmar",
          "Malawi",
          "Fiji",
          "Netherlands (Kingdom of the)",
          "Pakistan",
          "Paraguay",
          "United Republic of Tanzania",
          "Peru",
          "Central African Republic",
          "Colombia"
         ],
         "name": "",
         "type": "choropleth",
         "z": [
          56.73035,
          96.53996,
          99.91265,
          70.67331,
          59.66446,
          20.76353,
          95.96708,
          23.5168,
          16.74508,
          85.92162,
          17.6819,
          99.49996,
          96.99839,
          26.06015,
          89.33464,
          55.76824,
          98.77137,
          73.91218,
          92.96736,
          81.98883,
          98.90064,
          55.76043,
          94.83424,
          87.9775,
          100,
          62.10706,
          6.15788,
          47.59142,
          90.64,
          70.67454,
          98.61118,
          18.84102,
          73.90693,
          35.86638,
          55.23686,
          85.71684,
          80.51605,
          97.88247,
          92.93711,
          99.72281,
          100,
          80.3805,
          69.13716,
          99.50978,
          42.8921,
          76.04064,
          66.3809,
          29.49296,
          27.90377,
          44.77879,
          99.80769,
          93.5415,
          98.93044,
          47.7,
          100,
          11.18567,
          27.52168,
          98.27432,
          99.52007,
          99.63793,
          13.97535,
          94.92379,
          95.85354,
          47.42813,
          64.39129,
          98.93168,
          100,
          17.70712,
          85.0722,
          55.51592,
          45.8969,
          68.62339,
          26.57385,
          97.16496,
          8.62598,
          99.12891,
          95.01444,
          9.71431,
          98.90398,
          100,
          90.55716,
          37.39738,
          99.03895,
          58.656,
          43.64164,
          74.49594,
          82.68582,
          76.33854,
          89.61919,
          29.71392,
          99.10429,
          99.91882,
          28.40251,
          42.33546,
          96.64293,
          12.3362,
          99.56148,
          77.78847,
          99.76517,
          99.72807,
          99.82841,
          27.85349,
          99.11353,
          93.95266,
          88.13888,
          72.24815,
          75.00595,
          87.96424,
          96.7,
          46.4953,
          99.10948,
          93.81822,
          66.82667,
          56.77103,
          16.4864,
          41.61065,
          99.97026,
          48.54683,
          64.08422,
          10.70838,
          51.40621,
          6.18332,
          73.41323
         ]
        }
       ],
       "layout": {
        "coloraxis": {
         "colorbar": {
          "title": {
           "text": "PERCENT_POP_N"
          }
         },
         "colorscale": [
          [
           0,
           "rgb(247,251,255)"
          ],
          [
           0.125,
           "rgb(222,235,247)"
          ],
          [
           0.25,
           "rgb(198,219,239)"
          ],
          [
           0.375,
           "rgb(158,202,225)"
          ],
          [
           0.5,
           "rgb(107,174,214)"
          ],
          [
           0.625,
           "rgb(66,146,198)"
          ],
          [
           0.75,
           "rgb(33,113,181)"
          ],
          [
           0.875,
           "rgb(8,81,156)"
          ],
          [
           1,
           "rgb(8,48,107)"
          ]
         ]
        },
        "geo": {
         "center": {},
         "coastlinecolor": "Black",
         "domain": {
          "x": [
           0,
           1
          ],
          "y": [
           0,
           1
          ]
         },
         "landcolor": "lightgray",
         "showcoastlines": true,
         "showland": true
        },
        "legend": {
         "tracegroupgap": 0
        },
        "margin": {
         "b": 0,
         "l": 0,
         "r": 0,
         "t": 0
        },
        "template": {
         "data": {
          "bar": [
           {
            "error_x": {
             "color": "#2a3f5f"
            },
            "error_y": {
             "color": "#2a3f5f"
            },
            "marker": {
             "line": {
              "color": "#E5ECF6",
              "width": 0.5
             },
             "pattern": {
              "fillmode": "overlay",
              "size": 10,
              "solidity": 0.2
             }
            },
            "type": "bar"
           }
          ],
          "barpolar": [
           {
            "marker": {
             "line": {
              "color": "#E5ECF6",
              "width": 0.5
             },
             "pattern": {
              "fillmode": "overlay",
              "size": 10,
              "solidity": 0.2
             }
            },
            "type": "barpolar"
           }
          ],
          "carpet": [
           {
            "aaxis": {
             "endlinecolor": "#2a3f5f",
             "gridcolor": "white",
             "linecolor": "white",
             "minorgridcolor": "white",
             "startlinecolor": "#2a3f5f"
            },
            "baxis": {
             "endlinecolor": "#2a3f5f",
             "gridcolor": "white",
             "linecolor": "white",
             "minorgridcolor": "white",
             "startlinecolor": "#2a3f5f"
            },
            "type": "carpet"
           }
          ],
          "choropleth": [
           {
            "colorbar": {
             "outlinewidth": 0,
             "ticks": ""
            },
            "type": "choropleth"
           }
          ],
          "contour": [
           {
            "colorbar": {
             "outlinewidth": 0,
             "ticks": ""
            },
            "colorscale": [
             [
              0,
              "#0d0887"
             ],
             [
              0.1111111111111111,
              "#46039f"
             ],
             [
              0.2222222222222222,
              "#7201a8"
             ],
             [
              0.3333333333333333,
              "#9c179e"
             ],
             [
              0.4444444444444444,
              "#bd3786"
             ],
             [
              0.5555555555555556,
              "#d8576b"
             ],
             [
              0.6666666666666666,
              "#ed7953"
             ],
             [
              0.7777777777777778,
              "#fb9f3a"
             ],
             [
              0.8888888888888888,
              "#fdca26"
             ],
             [
              1,
              "#f0f921"
             ]
            ],
            "type": "contour"
           }
          ],
          "contourcarpet": [
           {
            "colorbar": {
             "outlinewidth": 0,
             "ticks": ""
            },
            "type": "contourcarpet"
           }
          ],
          "heatmap": [
           {
            "colorbar": {
             "outlinewidth": 0,
             "ticks": ""
            },
            "colorscale": [
             [
              0,
              "#0d0887"
             ],
             [
              0.1111111111111111,
              "#46039f"
             ],
             [
              0.2222222222222222,
              "#7201a8"
             ],
             [
              0.3333333333333333,
              "#9c179e"
             ],
             [
              0.4444444444444444,
              "#bd3786"
             ],
             [
              0.5555555555555556,
              "#d8576b"
             ],
             [
              0.6666666666666666,
              "#ed7953"
             ],
             [
              0.7777777777777778,
              "#fb9f3a"
             ],
             [
              0.8888888888888888,
              "#fdca26"
             ],
             [
              1,
              "#f0f921"
             ]
            ],
            "type": "heatmap"
           }
          ],
          "heatmapgl": [
           {
            "colorbar": {
             "outlinewidth": 0,
             "ticks": ""
            },
            "colorscale": [
             [
              0,
              "#0d0887"
             ],
             [
              0.1111111111111111,
              "#46039f"
             ],
             [
              0.2222222222222222,
              "#7201a8"
             ],
             [
              0.3333333333333333,
              "#9c179e"
             ],
             [
              0.4444444444444444,
              "#bd3786"
             ],
             [
              0.5555555555555556,
              "#d8576b"
             ],
             [
              0.6666666666666666,
              "#ed7953"
             ],
             [
              0.7777777777777778,
              "#fb9f3a"
             ],
             [
              0.8888888888888888,
              "#fdca26"
             ],
             [
              1,
              "#f0f921"
             ]
            ],
            "type": "heatmapgl"
           }
          ],
          "histogram": [
           {
            "marker": {
             "pattern": {
              "fillmode": "overlay",
              "size": 10,
              "solidity": 0.2
             }
            },
            "type": "histogram"
           }
          ],
          "histogram2d": [
           {
            "colorbar": {
             "outlinewidth": 0,
             "ticks": ""
            },
            "colorscale": [
             [
              0,
              "#0d0887"
             ],
             [
              0.1111111111111111,
              "#46039f"
             ],
             [
              0.2222222222222222,
              "#7201a8"
             ],
             [
              0.3333333333333333,
              "#9c179e"
             ],
             [
              0.4444444444444444,
              "#bd3786"
             ],
             [
              0.5555555555555556,
              "#d8576b"
             ],
             [
              0.6666666666666666,
              "#ed7953"
             ],
             [
              0.7777777777777778,
              "#fb9f3a"
             ],
             [
              0.8888888888888888,
              "#fdca26"
             ],
             [
              1,
              "#f0f921"
             ]
            ],
            "type": "histogram2d"
           }
          ],
          "histogram2dcontour": [
           {
            "colorbar": {
             "outlinewidth": 0,
             "ticks": ""
            },
            "colorscale": [
             [
              0,
              "#0d0887"
             ],
             [
              0.1111111111111111,
              "#46039f"
             ],
             [
              0.2222222222222222,
              "#7201a8"
             ],
             [
              0.3333333333333333,
              "#9c179e"
             ],
             [
              0.4444444444444444,
              "#bd3786"
             ],
             [
              0.5555555555555556,
              "#d8576b"
             ],
             [
              0.6666666666666666,
              "#ed7953"
             ],
             [
              0.7777777777777778,
              "#fb9f3a"
             ],
             [
              0.8888888888888888,
              "#fdca26"
             ],
             [
              1,
              "#f0f921"
             ]
            ],
            "type": "histogram2dcontour"
           }
          ],
          "mesh3d": [
           {
            "colorbar": {
             "outlinewidth": 0,
             "ticks": ""
            },
            "type": "mesh3d"
           }
          ],
          "parcoords": [
           {
            "line": {
             "colorbar": {
              "outlinewidth": 0,
              "ticks": ""
             }
            },
            "type": "parcoords"
           }
          ],
          "pie": [
           {
            "automargin": true,
            "type": "pie"
           }
          ],
          "scatter": [
           {
            "fillpattern": {
             "fillmode": "overlay",
             "size": 10,
             "solidity": 0.2
            },
            "type": "scatter"
           }
          ],
          "scatter3d": [
           {
            "line": {
             "colorbar": {
              "outlinewidth": 0,
              "ticks": ""
             }
            },
            "marker": {
             "colorbar": {
              "outlinewidth": 0,
              "ticks": ""
             }
            },
            "type": "scatter3d"
           }
          ],
          "scattercarpet": [
           {
            "marker": {
             "colorbar": {
              "outlinewidth": 0,
              "ticks": ""
             }
            },
            "type": "scattercarpet"
           }
          ],
          "scattergeo": [
           {
            "marker": {
             "colorbar": {
              "outlinewidth": 0,
              "ticks": ""
             }
            },
            "type": "scattergeo"
           }
          ],
          "scattergl": [
           {
            "marker": {
             "colorbar": {
              "outlinewidth": 0,
              "ticks": ""
             }
            },
            "type": "scattergl"
           }
          ],
          "scattermapbox": [
           {
            "marker": {
             "colorbar": {
              "outlinewidth": 0,
              "ticks": ""
             }
            },
            "type": "scattermapbox"
           }
          ],
          "scatterpolar": [
           {
            "marker": {
             "colorbar": {
              "outlinewidth": 0,
              "ticks": ""
             }
            },
            "type": "scatterpolar"
           }
          ],
          "scatterpolargl": [
           {
            "marker": {
             "colorbar": {
              "outlinewidth": 0,
              "ticks": ""
             }
            },
            "type": "scatterpolargl"
           }
          ],
          "scatterternary": [
           {
            "marker": {
             "colorbar": {
              "outlinewidth": 0,
              "ticks": ""
             }
            },
            "type": "scatterternary"
           }
          ],
          "surface": [
           {
            "colorbar": {
             "outlinewidth": 0,
             "ticks": ""
            },
            "colorscale": [
             [
              0,
              "#0d0887"
             ],
             [
              0.1111111111111111,
              "#46039f"
             ],
             [
              0.2222222222222222,
              "#7201a8"
             ],
             [
              0.3333333333333333,
              "#9c179e"
             ],
             [
              0.4444444444444444,
              "#bd3786"
             ],
             [
              0.5555555555555556,
              "#d8576b"
             ],
             [
              0.6666666666666666,
              "#ed7953"
             ],
             [
              0.7777777777777778,
              "#fb9f3a"
             ],
             [
              0.8888888888888888,
              "#fdca26"
             ],
             [
              1,
              "#f0f921"
             ]
            ],
            "type": "surface"
           }
          ],
          "table": [
           {
            "cells": {
             "fill": {
              "color": "#EBF0F8"
             },
             "line": {
              "color": "white"
             }
            },
            "header": {
             "fill": {
              "color": "#C8D4E3"
             },
             "line": {
              "color": "white"
             }
            },
            "type": "table"
           }
          ]
         },
         "layout": {
          "annotationdefaults": {
           "arrowcolor": "#2a3f5f",
           "arrowhead": 0,
           "arrowwidth": 1
          },
          "autotypenumbers": "strict",
          "coloraxis": {
           "colorbar": {
            "outlinewidth": 0,
            "ticks": ""
           }
          },
          "colorscale": {
           "diverging": [
            [
             0,
             "#8e0152"
            ],
            [
             0.1,
             "#c51b7d"
            ],
            [
             0.2,
             "#de77ae"
            ],
            [
             0.3,
             "#f1b6da"
            ],
            [
             0.4,
             "#fde0ef"
            ],
            [
             0.5,
             "#f7f7f7"
            ],
            [
             0.6,
             "#e6f5d0"
            ],
            [
             0.7,
             "#b8e186"
            ],
            [
             0.8,
             "#7fbc41"
            ],
            [
             0.9,
             "#4d9221"
            ],
            [
             1,
             "#276419"
            ]
           ],
           "sequential": [
            [
             0,
             "#0d0887"
            ],
            [
             0.1111111111111111,
             "#46039f"
            ],
            [
             0.2222222222222222,
             "#7201a8"
            ],
            [
             0.3333333333333333,
             "#9c179e"
            ],
            [
             0.4444444444444444,
             "#bd3786"
            ],
            [
             0.5555555555555556,
             "#d8576b"
            ],
            [
             0.6666666666666666,
             "#ed7953"
            ],
            [
             0.7777777777777778,
             "#fb9f3a"
            ],
            [
             0.8888888888888888,
             "#fdca26"
            ],
            [
             1,
             "#f0f921"
            ]
           ],
           "sequentialminus": [
            [
             0,
             "#0d0887"
            ],
            [
             0.1111111111111111,
             "#46039f"
            ],
            [
             0.2222222222222222,
             "#7201a8"
            ],
            [
             0.3333333333333333,
             "#9c179e"
            ],
            [
             0.4444444444444444,
             "#bd3786"
            ],
            [
             0.5555555555555556,
             "#d8576b"
            ],
            [
             0.6666666666666666,
             "#ed7953"
            ],
            [
             0.7777777777777778,
             "#fb9f3a"
            ],
            [
             0.8888888888888888,
             "#fdca26"
            ],
            [
             1,
             "#f0f921"
            ]
           ]
          },
          "colorway": [
           "#636efa",
           "#EF553B",
           "#00cc96",
           "#ab63fa",
           "#FFA15A",
           "#19d3f3",
           "#FF6692",
           "#B6E880",
           "#FF97FF",
           "#FECB52"
          ],
          "font": {
           "color": "#2a3f5f"
          },
          "geo": {
           "bgcolor": "white",
           "lakecolor": "white",
           "landcolor": "#E5ECF6",
           "showlakes": true,
           "showland": true,
           "subunitcolor": "white"
          },
          "hoverlabel": {
           "align": "left"
          },
          "hovermode": "closest",
          "mapbox": {
           "style": "light"
          },
          "paper_bgcolor": "white",
          "plot_bgcolor": "#E5ECF6",
          "polar": {
           "angularaxis": {
            "gridcolor": "white",
            "linecolor": "white",
            "ticks": ""
           },
           "bgcolor": "#E5ECF6",
           "radialaxis": {
            "gridcolor": "white",
            "linecolor": "white",
            "ticks": ""
           }
          },
          "scene": {
           "xaxis": {
            "backgroundcolor": "#E5ECF6",
            "gridcolor": "white",
            "gridwidth": 2,
            "linecolor": "white",
            "showbackground": true,
            "ticks": "",
            "zerolinecolor": "white"
           },
           "yaxis": {
            "backgroundcolor": "#E5ECF6",
            "gridcolor": "white",
            "gridwidth": 2,
            "linecolor": "white",
            "showbackground": true,
            "ticks": "",
            "zerolinecolor": "white"
           },
           "zaxis": {
            "backgroundcolor": "#E5ECF6",
            "gridcolor": "white",
            "gridwidth": 2,
            "linecolor": "white",
            "showbackground": true,
            "ticks": "",
            "zerolinecolor": "white"
           }
          },
          "shapedefaults": {
           "line": {
            "color": "#2a3f5f"
           }
          },
          "ternary": {
           "aaxis": {
            "gridcolor": "white",
            "linecolor": "white",
            "ticks": ""
           },
           "baxis": {
            "gridcolor": "white",
            "linecolor": "white",
            "ticks": ""
           },
           "bgcolor": "#E5ECF6",
           "caxis": {
            "gridcolor": "white",
            "linecolor": "white",
            "ticks": ""
           }
          },
          "title": {
           "x": 0.05
          },
          "xaxis": {
           "automargin": true,
           "gridcolor": "white",
           "linecolor": "white",
           "ticks": "",
           "title": {
            "standoff": 15
           },
           "zerolinecolor": "white",
           "zerolinewidth": 2
          },
          "yaxis": {
           "automargin": true,
           "gridcolor": "white",
           "linecolor": "white",
           "ticks": "",
           "title": {
            "standoff": 15
           },
           "zerolinecolor": "white",
           "zerolinewidth": 2
          }
         }
        },
        "title": {
         "text": "Data by Country"
        }
       }
      },
      "text/html": [
       "<div>                            <div id=\"ae8d7420-0c07-45ae-8466-47cd3e28043d\" class=\"plotly-graph-div\" style=\"height:525px; width:100%;\"></div>            <script type=\"text/javascript\">                require([\"plotly\"], function(Plotly) {                    window.PLOTLYENV=window.PLOTLYENV || {};                                    if (document.getElementById(\"ae8d7420-0c07-45ae-8466-47cd3e28043d\")) {                    Plotly.newPlot(                        \"ae8d7420-0c07-45ae-8466-47cd3e28043d\",                        [{\"coloraxis\":\"coloraxis\",\"geo\":\"geo\",\"hovertemplate\":\"\\u003cb\\u003e%{hovertext}\\u003c\\u002fb\\u003e\\u003cbr\\u003e\\u003cbr\\u003eGEO_NAME_SHORT=%{location}\\u003cbr\\u003ePERCENT_POP_N=%{z}\\u003cextra\\u003e\\u003c\\u002fextra\\u003e\",\"hovertext\":[\"Viet Nam\",\"Latvia\",\"Germany\",\"Azerbaijan\",\"Iraq\",\"Madagascar\",\"Bulgaria\",\"Guinea-Bissau\",\"Uganda\",\"Brazil\",\"Lao People's Democratic Republic\",\"Israel\",\"Estonia\",\"Senegal\",\"Kazakhstan\",\"Guatemala\",\"Chile\",\"Morocco\",\"Italy\",\"Romania\",\"Austria\",\"Suriname\",\"Turkmenistan\",\"Ukraine\",\"San Marino\",\"Samoa\",\"Chad\",\"Sri Lanka\",\"Andorra\",\"Albania\",\"Japan\",\"Togo\",\"Tunisia\",\"Sao Tome and Principe\",\"Tajikistan\",\"Jordan\",\"Costa Rica\",\"Czechia\",\"Belarus\",\"Belgium\",\"Kuwait\",\"North Macedonia\",\"Bhutan\",\"France\",\"Mexico\",\"Russian Federation\",\"Democratic People's Republic of Korea\",\"Tonga\",\"Cambodia\",\"Dominican Republic\",\"Malta\",\"Niue\",\"Greece\",\"Lebanon\",\"Iceland\",\"Democratic Republic of the Congo\",\"Lesotho\",\"Slovenia\",\"Luxembourg\",\"Finland\",\"Kiribati\",\"Lithuania\",\"Ireland\",\"Philippines\",\"Honduras\",\"Norway\",\"Monaco\",\"Nepal\",\"Montenegro\",\"Nicaragua\",\"Congo\",\"Georgia\",\"Zimbabwe\",\"United States of America\",\"Tuvalu\",\"Republic of Korea\",\"Portugal\",\"Sierra Leone\",\"Bahrain\",\"Singapore\",\"Oman\",\"Mongolia\",\"Canada\",\"Bangladesh\",\"C\\u00c3\\u00b4te d'Ivoire\",\"Republic of Moldova\",\"Armenia\",\"Kyrgyzstan\",\"Poland\",\"Indonesia\",\"New Zealand\",\"Denmark\",\"Afghanistan\",\"Ghana\",\"Qatar\",\"Ethiopia\",\"Spain\",\"Uzbekistan\",\"Cyprus\",\"Sweden\",\"United Kingdom of Great Britain and Northern Ireland\",\"Nigeria\",\"Slovakia\",\"Iran (Islamic Republic of)\",\"Bosnia and Herzegovina\",\"Algeria\",\"Serbia\",\"Palau\",\"Switzerland\",\"Gambia\",\"Hungary\",\"Malaysia\",\"Ecuador\",\"Myanmar\",\"Malawi\",\"Fiji\",\"Netherlands (Kingdom of the)\",\"Pakistan\",\"Paraguay\",\"United Republic of Tanzania\",\"Peru\",\"Central African Republic\",\"Colombia\"],\"locationmode\":\"country names\",\"locations\":[\"Viet Nam\",\"Latvia\",\"Germany\",\"Azerbaijan\",\"Iraq\",\"Madagascar\",\"Bulgaria\",\"Guinea-Bissau\",\"Uganda\",\"Brazil\",\"Lao People's Democratic Republic\",\"Israel\",\"Estonia\",\"Senegal\",\"Kazakhstan\",\"Guatemala\",\"Chile\",\"Morocco\",\"Italy\",\"Romania\",\"Austria\",\"Suriname\",\"Turkmenistan\",\"Ukraine\",\"San Marino\",\"Samoa\",\"Chad\",\"Sri Lanka\",\"Andorra\",\"Albania\",\"Japan\",\"Togo\",\"Tunisia\",\"Sao Tome and Principe\",\"Tajikistan\",\"Jordan\",\"Costa Rica\",\"Czechia\",\"Belarus\",\"Belgium\",\"Kuwait\",\"North Macedonia\",\"Bhutan\",\"France\",\"Mexico\",\"Russian Federation\",\"Democratic People's Republic of Korea\",\"Tonga\",\"Cambodia\",\"Dominican Republic\",\"Malta\",\"Niue\",\"Greece\",\"Lebanon\",\"Iceland\",\"Democratic Republic of the Congo\",\"Lesotho\",\"Slovenia\",\"Luxembourg\",\"Finland\",\"Kiribati\",\"Lithuania\",\"Ireland\",\"Philippines\",\"Honduras\",\"Norway\",\"Monaco\",\"Nepal\",\"Montenegro\",\"Nicaragua\",\"Congo\",\"Georgia\",\"Zimbabwe\",\"United States of America\",\"Tuvalu\",\"Republic of Korea\",\"Portugal\",\"Sierra Leone\",\"Bahrain\",\"Singapore\",\"Oman\",\"Mongolia\",\"Canada\",\"Bangladesh\",\"C\\u00c3\\u00b4te d'Ivoire\",\"Republic of Moldova\",\"Armenia\",\"Kyrgyzstan\",\"Poland\",\"Indonesia\",\"New Zealand\",\"Denmark\",\"Afghanistan\",\"Ghana\",\"Qatar\",\"Ethiopia\",\"Spain\",\"Uzbekistan\",\"Cyprus\",\"Sweden\",\"United Kingdom of Great Britain and Northern Ireland\",\"Nigeria\",\"Slovakia\",\"Iran (Islamic Republic of)\",\"Bosnia and Herzegovina\",\"Algeria\",\"Serbia\",\"Palau\",\"Switzerland\",\"Gambia\",\"Hungary\",\"Malaysia\",\"Ecuador\",\"Myanmar\",\"Malawi\",\"Fiji\",\"Netherlands (Kingdom of the)\",\"Pakistan\",\"Paraguay\",\"United Republic of Tanzania\",\"Peru\",\"Central African Republic\",\"Colombia\"],\"name\":\"\",\"z\":[56.73035,96.53996,99.91265,70.67331,59.66446,20.76353,95.96708,23.5168,16.74508,85.92162,17.6819,99.49996,96.99839,26.06015,89.33464,55.76824,98.77137,73.91218,92.96736,81.98883,98.90064,55.76043,94.83424,87.9775,100.0,62.10706,6.15788,47.59142,90.64,70.67454,98.61118,18.84102,73.90693,35.86638,55.23686,85.71684,80.51605,97.88247,92.93711,99.72281,100.0,80.3805,69.13716,99.50978,42.8921,76.04064,66.3809,29.49296,27.90377,44.77879,99.80769,93.5415,98.93044,47.7,100.0,11.18567,27.52168,98.27432,99.52007,99.63793,13.97535,94.92379,95.85354,47.42813,64.39129,98.93168,100.0,17.70712,85.0722,55.51592,45.8969,68.62339,26.57385,97.16496,8.62598,99.12891,95.01444,9.71431,98.90398,100.0,90.55716,37.39738,99.03895,58.656,43.64164,74.49594,82.68582,76.33854,89.61919,29.71392,99.10429,99.91882,28.40251,42.33546,96.64293,12.3362,99.56148,77.78847,99.76517,99.72807,99.82841,27.85349,99.11353,93.95266,88.13888,72.24815,75.00595,87.96424,96.7,46.4953,99.10948,93.81822,66.82667,56.77103,16.4864,41.61065,99.97026,48.54683,64.08422,10.70838,51.40621,6.18332,73.41323],\"type\":\"choropleth\"}],                        {\"template\":{\"data\":{\"histogram2dcontour\":[{\"type\":\"histogram2dcontour\",\"colorbar\":{\"outlinewidth\":0,\"ticks\":\"\"},\"colorscale\":[[0.0,\"#0d0887\"],[0.1111111111111111,\"#46039f\"],[0.2222222222222222,\"#7201a8\"],[0.3333333333333333,\"#9c179e\"],[0.4444444444444444,\"#bd3786\"],[0.5555555555555556,\"#d8576b\"],[0.6666666666666666,\"#ed7953\"],[0.7777777777777778,\"#fb9f3a\"],[0.8888888888888888,\"#fdca26\"],[1.0,\"#f0f921\"]]}],\"choropleth\":[{\"type\":\"choropleth\",\"colorbar\":{\"outlinewidth\":0,\"ticks\":\"\"}}],\"histogram2d\":[{\"type\":\"histogram2d\",\"colorbar\":{\"outlinewidth\":0,\"ticks\":\"\"},\"colorscale\":[[0.0,\"#0d0887\"],[0.1111111111111111,\"#46039f\"],[0.2222222222222222,\"#7201a8\"],[0.3333333333333333,\"#9c179e\"],[0.4444444444444444,\"#bd3786\"],[0.5555555555555556,\"#d8576b\"],[0.6666666666666666,\"#ed7953\"],[0.7777777777777778,\"#fb9f3a\"],[0.8888888888888888,\"#fdca26\"],[1.0,\"#f0f921\"]]}],\"heatmap\":[{\"type\":\"heatmap\",\"colorbar\":{\"outlinewidth\":0,\"ticks\":\"\"},\"colorscale\":[[0.0,\"#0d0887\"],[0.1111111111111111,\"#46039f\"],[0.2222222222222222,\"#7201a8\"],[0.3333333333333333,\"#9c179e\"],[0.4444444444444444,\"#bd3786\"],[0.5555555555555556,\"#d8576b\"],[0.6666666666666666,\"#ed7953\"],[0.7777777777777778,\"#fb9f3a\"],[0.8888888888888888,\"#fdca26\"],[1.0,\"#f0f921\"]]}],\"heatmapgl\":[{\"type\":\"heatmapgl\",\"colorbar\":{\"outlinewidth\":0,\"ticks\":\"\"},\"colorscale\":[[0.0,\"#0d0887\"],[0.1111111111111111,\"#46039f\"],[0.2222222222222222,\"#7201a8\"],[0.3333333333333333,\"#9c179e\"],[0.4444444444444444,\"#bd3786\"],[0.5555555555555556,\"#d8576b\"],[0.6666666666666666,\"#ed7953\"],[0.7777777777777778,\"#fb9f3a\"],[0.8888888888888888,\"#fdca26\"],[1.0,\"#f0f921\"]]}],\"contourcarpet\":[{\"type\":\"contourcarpet\",\"colorbar\":{\"outlinewidth\":0,\"ticks\":\"\"}}],\"contour\":[{\"type\":\"contour\",\"colorbar\":{\"outlinewidth\":0,\"ticks\":\"\"},\"colorscale\":[[0.0,\"#0d0887\"],[0.1111111111111111,\"#46039f\"],[0.2222222222222222,\"#7201a8\"],[0.3333333333333333,\"#9c179e\"],[0.4444444444444444,\"#bd3786\"],[0.5555555555555556,\"#d8576b\"],[0.6666666666666666,\"#ed7953\"],[0.7777777777777778,\"#fb9f3a\"],[0.8888888888888888,\"#fdca26\"],[1.0,\"#f0f921\"]]}],\"surface\":[{\"type\":\"surface\",\"colorbar\":{\"outlinewidth\":0,\"ticks\":\"\"},\"colorscale\":[[0.0,\"#0d0887\"],[0.1111111111111111,\"#46039f\"],[0.2222222222222222,\"#7201a8\"],[0.3333333333333333,\"#9c179e\"],[0.4444444444444444,\"#bd3786\"],[0.5555555555555556,\"#d8576b\"],[0.6666666666666666,\"#ed7953\"],[0.7777777777777778,\"#fb9f3a\"],[0.8888888888888888,\"#fdca26\"],[1.0,\"#f0f921\"]]}],\"mesh3d\":[{\"type\":\"mesh3d\",\"colorbar\":{\"outlinewidth\":0,\"ticks\":\"\"}}],\"scatter\":[{\"fillpattern\":{\"fillmode\":\"overlay\",\"size\":10,\"solidity\":0.2},\"type\":\"scatter\"}],\"parcoords\":[{\"type\":\"parcoords\",\"line\":{\"colorbar\":{\"outlinewidth\":0,\"ticks\":\"\"}}}],\"scatterpolargl\":[{\"type\":\"scatterpolargl\",\"marker\":{\"colorbar\":{\"outlinewidth\":0,\"ticks\":\"\"}}}],\"bar\":[{\"error_x\":{\"color\":\"#2a3f5f\"},\"error_y\":{\"color\":\"#2a3f5f\"},\"marker\":{\"line\":{\"color\":\"#E5ECF6\",\"width\":0.5},\"pattern\":{\"fillmode\":\"overlay\",\"size\":10,\"solidity\":0.2}},\"type\":\"bar\"}],\"scattergeo\":[{\"type\":\"scattergeo\",\"marker\":{\"colorbar\":{\"outlinewidth\":0,\"ticks\":\"\"}}}],\"scatterpolar\":[{\"type\":\"scatterpolar\",\"marker\":{\"colorbar\":{\"outlinewidth\":0,\"ticks\":\"\"}}}],\"histogram\":[{\"marker\":{\"pattern\":{\"fillmode\":\"overlay\",\"size\":10,\"solidity\":0.2}},\"type\":\"histogram\"}],\"scattergl\":[{\"type\":\"scattergl\",\"marker\":{\"colorbar\":{\"outlinewidth\":0,\"ticks\":\"\"}}}],\"scatter3d\":[{\"type\":\"scatter3d\",\"line\":{\"colorbar\":{\"outlinewidth\":0,\"ticks\":\"\"}},\"marker\":{\"colorbar\":{\"outlinewidth\":0,\"ticks\":\"\"}}}],\"scattermapbox\":[{\"type\":\"scattermapbox\",\"marker\":{\"colorbar\":{\"outlinewidth\":0,\"ticks\":\"\"}}}],\"scatterternary\":[{\"type\":\"scatterternary\",\"marker\":{\"colorbar\":{\"outlinewidth\":0,\"ticks\":\"\"}}}],\"scattercarpet\":[{\"type\":\"scattercarpet\",\"marker\":{\"colorbar\":{\"outlinewidth\":0,\"ticks\":\"\"}}}],\"carpet\":[{\"aaxis\":{\"endlinecolor\":\"#2a3f5f\",\"gridcolor\":\"white\",\"linecolor\":\"white\",\"minorgridcolor\":\"white\",\"startlinecolor\":\"#2a3f5f\"},\"baxis\":{\"endlinecolor\":\"#2a3f5f\",\"gridcolor\":\"white\",\"linecolor\":\"white\",\"minorgridcolor\":\"white\",\"startlinecolor\":\"#2a3f5f\"},\"type\":\"carpet\"}],\"table\":[{\"cells\":{\"fill\":{\"color\":\"#EBF0F8\"},\"line\":{\"color\":\"white\"}},\"header\":{\"fill\":{\"color\":\"#C8D4E3\"},\"line\":{\"color\":\"white\"}},\"type\":\"table\"}],\"barpolar\":[{\"marker\":{\"line\":{\"color\":\"#E5ECF6\",\"width\":0.5},\"pattern\":{\"fillmode\":\"overlay\",\"size\":10,\"solidity\":0.2}},\"type\":\"barpolar\"}],\"pie\":[{\"automargin\":true,\"type\":\"pie\"}]},\"layout\":{\"autotypenumbers\":\"strict\",\"colorway\":[\"#636efa\",\"#EF553B\",\"#00cc96\",\"#ab63fa\",\"#FFA15A\",\"#19d3f3\",\"#FF6692\",\"#B6E880\",\"#FF97FF\",\"#FECB52\"],\"font\":{\"color\":\"#2a3f5f\"},\"hovermode\":\"closest\",\"hoverlabel\":{\"align\":\"left\"},\"paper_bgcolor\":\"white\",\"plot_bgcolor\":\"#E5ECF6\",\"polar\":{\"bgcolor\":\"#E5ECF6\",\"angularaxis\":{\"gridcolor\":\"white\",\"linecolor\":\"white\",\"ticks\":\"\"},\"radialaxis\":{\"gridcolor\":\"white\",\"linecolor\":\"white\",\"ticks\":\"\"}},\"ternary\":{\"bgcolor\":\"#E5ECF6\",\"aaxis\":{\"gridcolor\":\"white\",\"linecolor\":\"white\",\"ticks\":\"\"},\"baxis\":{\"gridcolor\":\"white\",\"linecolor\":\"white\",\"ticks\":\"\"},\"caxis\":{\"gridcolor\":\"white\",\"linecolor\":\"white\",\"ticks\":\"\"}},\"coloraxis\":{\"colorbar\":{\"outlinewidth\":0,\"ticks\":\"\"}},\"colorscale\":{\"sequential\":[[0.0,\"#0d0887\"],[0.1111111111111111,\"#46039f\"],[0.2222222222222222,\"#7201a8\"],[0.3333333333333333,\"#9c179e\"],[0.4444444444444444,\"#bd3786\"],[0.5555555555555556,\"#d8576b\"],[0.6666666666666666,\"#ed7953\"],[0.7777777777777778,\"#fb9f3a\"],[0.8888888888888888,\"#fdca26\"],[1.0,\"#f0f921\"]],\"sequentialminus\":[[0.0,\"#0d0887\"],[0.1111111111111111,\"#46039f\"],[0.2222222222222222,\"#7201a8\"],[0.3333333333333333,\"#9c179e\"],[0.4444444444444444,\"#bd3786\"],[0.5555555555555556,\"#d8576b\"],[0.6666666666666666,\"#ed7953\"],[0.7777777777777778,\"#fb9f3a\"],[0.8888888888888888,\"#fdca26\"],[1.0,\"#f0f921\"]],\"diverging\":[[0,\"#8e0152\"],[0.1,\"#c51b7d\"],[0.2,\"#de77ae\"],[0.3,\"#f1b6da\"],[0.4,\"#fde0ef\"],[0.5,\"#f7f7f7\"],[0.6,\"#e6f5d0\"],[0.7,\"#b8e186\"],[0.8,\"#7fbc41\"],[0.9,\"#4d9221\"],[1,\"#276419\"]]},\"xaxis\":{\"gridcolor\":\"white\",\"linecolor\":\"white\",\"ticks\":\"\",\"title\":{\"standoff\":15},\"zerolinecolor\":\"white\",\"automargin\":true,\"zerolinewidth\":2},\"yaxis\":{\"gridcolor\":\"white\",\"linecolor\":\"white\",\"ticks\":\"\",\"title\":{\"standoff\":15},\"zerolinecolor\":\"white\",\"automargin\":true,\"zerolinewidth\":2},\"scene\":{\"xaxis\":{\"backgroundcolor\":\"#E5ECF6\",\"gridcolor\":\"white\",\"linecolor\":\"white\",\"showbackground\":true,\"ticks\":\"\",\"zerolinecolor\":\"white\",\"gridwidth\":2},\"yaxis\":{\"backgroundcolor\":\"#E5ECF6\",\"gridcolor\":\"white\",\"linecolor\":\"white\",\"showbackground\":true,\"ticks\":\"\",\"zerolinecolor\":\"white\",\"gridwidth\":2},\"zaxis\":{\"backgroundcolor\":\"#E5ECF6\",\"gridcolor\":\"white\",\"linecolor\":\"white\",\"showbackground\":true,\"ticks\":\"\",\"zerolinecolor\":\"white\",\"gridwidth\":2}},\"shapedefaults\":{\"line\":{\"color\":\"#2a3f5f\"}},\"annotationdefaults\":{\"arrowcolor\":\"#2a3f5f\",\"arrowhead\":0,\"arrowwidth\":1},\"geo\":{\"bgcolor\":\"white\",\"landcolor\":\"#E5ECF6\",\"subunitcolor\":\"white\",\"showland\":true,\"showlakes\":true,\"lakecolor\":\"white\"},\"title\":{\"x\":0.05},\"mapbox\":{\"style\":\"light\"}}},\"geo\":{\"domain\":{\"x\":[0.0,1.0],\"y\":[0.0,1.0]},\"center\":{},\"showcoastlines\":true,\"coastlinecolor\":\"Black\",\"showland\":true,\"landcolor\":\"lightgray\"},\"coloraxis\":{\"colorbar\":{\"title\":{\"text\":\"PERCENT_POP_N\"}},\"colorscale\":[[0.0,\"rgb(247,251,255)\"],[0.125,\"rgb(222,235,247)\"],[0.25,\"rgb(198,219,239)\"],[0.375,\"rgb(158,202,225)\"],[0.5,\"rgb(107,174,214)\"],[0.625,\"rgb(66,146,198)\"],[0.75,\"rgb(33,113,181)\"],[0.875,\"rgb(8,81,156)\"],[1.0,\"rgb(8,48,107)\"]]},\"legend\":{\"tracegroupgap\":0},\"title\":{\"text\":\"Data by Country\"},\"margin\":{\"r\":0,\"t\":0,\"l\":0,\"b\":0}},                        {\"responsive\": true}                    ).then(function(){\n",
       "                            \n",
       "var gd = document.getElementById('ae8d7420-0c07-45ae-8466-47cd3e28043d');\n",
       "var x = new MutationObserver(function (mutations, observer) {{\n",
       "        var display = window.getComputedStyle(gd).display;\n",
       "        if (!display || display === 'none') {{\n",
       "            console.log([gd, 'removed!']);\n",
       "            Plotly.purge(gd);\n",
       "            observer.disconnect();\n",
       "        }}\n",
       "}});\n",
       "\n",
       "// Listen for the removal of the full notebook cells\n",
       "var notebookContainer = gd.closest('#notebook-container');\n",
       "if (notebookContainer) {{\n",
       "    x.observe(notebookContainer, {childList: true});\n",
       "}}\n",
       "\n",
       "// Listen for the clearing of the current output cell\n",
       "var outputEl = gd.closest('.output');\n",
       "if (outputEl) {{\n",
       "    x.observe(outputEl, {childList: true});\n",
       "}}\n",
       "\n",
       "                        })                };                });            </script>        </div>"
      ]
     },
     "metadata": {},
     "output_type": "display_data"
    }
   ],
   "source": [
    "fig = px.choropleth(df_yearly, \n",
    "                    locations='GEO_NAME_SHORT',  # This should be the country name or ISO code\n",
    "                    locationmode='country names',  # or 'ISO-3' if using 3-letter country codes\n",
    "                    color='PERCENT_POP_N',  # The data column you want to visualize\n",
    "                    hover_name='GEO_NAME_SHORT',  # Column to display as hover text\n",
    "                    color_continuous_scale='Blues',  # Color scale\n",
    "                    title='Data by Country')\n",
    "\n",
    "fig.update_geos(showcoastlines=True, coastlinecolor=\"Black\", showland=True, landcolor=\"lightgray\")\n",
    "fig.update_layout(margin={\"r\":0,\"t\":0,\"l\":0,\"b\":0})\n",
    "\n",
    "\n",
    "fig.show()"
   ]
  },
  {
   "cell_type": "markdown",
   "metadata": {},
   "source": []
  },
  {
   "cell_type": "code",
   "execution_count": 41,
   "metadata": {},
   "outputs": [
    {
     "data": {
      "text/html": [
       "<div>\n",
       "<style scoped>\n",
       "    .dataframe tbody tr th:only-of-type {\n",
       "        vertical-align: middle;\n",
       "    }\n",
       "\n",
       "    .dataframe tbody tr th {\n",
       "        vertical-align: top;\n",
       "    }\n",
       "\n",
       "    .dataframe thead th {\n",
       "        text-align: right;\n",
       "    }\n",
       "</style>\n",
       "<table border=\"1\" class=\"dataframe\">\n",
       "  <thead>\n",
       "    <tr style=\"text-align: right;\">\n",
       "      <th></th>\n",
       "      <th>DIM_TIME</th>\n",
       "      <th>DIM_GEO_CODE_M49</th>\n",
       "      <th>DIM_GEO_CODE_TYPE</th>\n",
       "      <th>GEO_NAME_SHORT</th>\n",
       "      <th>DIM_DEG_URB</th>\n",
       "      <th>PERCENT_POP_N</th>\n",
       "    </tr>\n",
       "  </thead>\n",
       "  <tbody>\n",
       "    <tr>\n",
       "      <th>1895</th>\n",
       "      <td>2008</td>\n",
       "      <td>398</td>\n",
       "      <td>COUNTRY</td>\n",
       "      <td>Kazakhstan</td>\n",
       "      <td>TOTAL</td>\n",
       "      <td>74.56595</td>\n",
       "    </tr>\n",
       "    <tr>\n",
       "      <th>1917</th>\n",
       "      <td>2008</td>\n",
       "      <td>678</td>\n",
       "      <td>COUNTRY</td>\n",
       "      <td>Sao Tome and Principe</td>\n",
       "      <td>TOTAL</td>\n",
       "      <td>29.80322</td>\n",
       "    </tr>\n",
       "    <tr>\n",
       "      <th>1933</th>\n",
       "      <td>2008</td>\n",
       "      <td>704</td>\n",
       "      <td>COUNTRY</td>\n",
       "      <td>Viet Nam</td>\n",
       "      <td>TOTAL</td>\n",
       "      <td>50.13777</td>\n",
       "    </tr>\n",
       "    <tr>\n",
       "      <th>2030</th>\n",
       "      <td>2008</td>\n",
       "      <td>804</td>\n",
       "      <td>COUNTRY</td>\n",
       "      <td>Ukraine</td>\n",
       "      <td>TOTAL</td>\n",
       "      <td>79.62728</td>\n",
       "    </tr>\n",
       "    <tr>\n",
       "      <th>2045</th>\n",
       "      <td>2008</td>\n",
       "      <td>400</td>\n",
       "      <td>COUNTRY</td>\n",
       "      <td>Jordan</td>\n",
       "      <td>TOTAL</td>\n",
       "      <td>59.78105</td>\n",
       "    </tr>\n",
       "    <tr>\n",
       "      <th>...</th>\n",
       "      <td>...</td>\n",
       "      <td>...</td>\n",
       "      <td>...</td>\n",
       "      <td>...</td>\n",
       "      <td>...</td>\n",
       "      <td>...</td>\n",
       "    </tr>\n",
       "    <tr>\n",
       "      <th>4730</th>\n",
       "      <td>2008</td>\n",
       "      <td>492</td>\n",
       "      <td>COUNTRY</td>\n",
       "      <td>Monaco</td>\n",
       "      <td>TOTAL</td>\n",
       "      <td>100.00000</td>\n",
       "    </tr>\n",
       "    <tr>\n",
       "      <th>4760</th>\n",
       "      <td>2008</td>\n",
       "      <td>840</td>\n",
       "      <td>COUNTRY</td>\n",
       "      <td>United States of America</td>\n",
       "      <td>TOTAL</td>\n",
       "      <td>95.38284</td>\n",
       "    </tr>\n",
       "    <tr>\n",
       "      <th>4831</th>\n",
       "      <td>2008</td>\n",
       "      <td>148</td>\n",
       "      <td>COUNTRY</td>\n",
       "      <td>Chad</td>\n",
       "      <td>TOTAL</td>\n",
       "      <td>5.75715</td>\n",
       "    </tr>\n",
       "    <tr>\n",
       "      <th>4839</th>\n",
       "      <td>2008</td>\n",
       "      <td>585</td>\n",
       "      <td>COUNTRY</td>\n",
       "      <td>Palau</td>\n",
       "      <td>TOTAL</td>\n",
       "      <td>73.57509</td>\n",
       "    </tr>\n",
       "    <tr>\n",
       "      <th>4867</th>\n",
       "      <td>2008</td>\n",
       "      <td>218</td>\n",
       "      <td>COUNTRY</td>\n",
       "      <td>Ecuador</td>\n",
       "      <td>TOTAL</td>\n",
       "      <td>62.12471</td>\n",
       "    </tr>\n",
       "  </tbody>\n",
       "</table>\n",
       "<p>124 rows × 6 columns</p>\n",
       "</div>"
      ],
      "text/plain": [
       "      DIM_TIME  DIM_GEO_CODE_M49 DIM_GEO_CODE_TYPE            GEO_NAME_SHORT  \\\n",
       "1895      2008               398           COUNTRY                Kazakhstan   \n",
       "1917      2008               678           COUNTRY     Sao Tome and Principe   \n",
       "1933      2008               704           COUNTRY                  Viet Nam   \n",
       "2030      2008               804           COUNTRY                   Ukraine   \n",
       "2045      2008               400           COUNTRY                    Jordan   \n",
       "...        ...               ...               ...                       ...   \n",
       "4730      2008               492           COUNTRY                    Monaco   \n",
       "4760      2008               840           COUNTRY  United States of America   \n",
       "4831      2008               148           COUNTRY                      Chad   \n",
       "4839      2008               585           COUNTRY                     Palau   \n",
       "4867      2008               218           COUNTRY                   Ecuador   \n",
       "\n",
       "     DIM_DEG_URB  PERCENT_POP_N  \n",
       "1895       TOTAL       74.56595  \n",
       "1917       TOTAL       29.80322  \n",
       "1933       TOTAL       50.13777  \n",
       "2030       TOTAL       79.62728  \n",
       "2045       TOTAL       59.78105  \n",
       "...          ...            ...  \n",
       "4730       TOTAL      100.00000  \n",
       "4760       TOTAL       95.38284  \n",
       "4831       TOTAL        5.75715  \n",
       "4839       TOTAL       73.57509  \n",
       "4867       TOTAL       62.12471  \n",
       "\n",
       "[124 rows x 6 columns]"
      ]
     },
     "execution_count": 41,
     "metadata": {},
     "output_type": "execute_result"
    }
   ],
   "source": [
    "df_yearly"
   ]
  },
  {
   "cell_type": "code",
   "execution_count": 6,
   "metadata": {},
   "outputs": [],
   "source": [
    "excel_data = pd.read_excel(\"data.xlsx\", sheet_name=1)"
   ]
  },
  {
   "cell_type": "code",
   "execution_count": 7,
   "metadata": {},
   "outputs": [
    {
     "data": {
      "text/html": [
       "<div>\n",
       "<style scoped>\n",
       "    .dataframe tbody tr th:only-of-type {\n",
       "        vertical-align: middle;\n",
       "    }\n",
       "\n",
       "    .dataframe tbody tr th {\n",
       "        vertical-align: top;\n",
       "    }\n",
       "\n",
       "    .dataframe thead th {\n",
       "        text-align: right;\n",
       "    }\n",
       "</style>\n",
       "<table border=\"1\" class=\"dataframe\">\n",
       "  <thead>\n",
       "    <tr style=\"text-align: right;\">\n",
       "      <th></th>\n",
       "      <th>Goal</th>\n",
       "      <th>Target</th>\n",
       "      <th>Indicator</th>\n",
       "      <th>SeriesCode</th>\n",
       "      <th>SeriesDescription</th>\n",
       "      <th>GeoAreaCode</th>\n",
       "      <th>GeoAreaName</th>\n",
       "      <th>TimePeriod</th>\n",
       "      <th>Value</th>\n",
       "      <th>Time_Detail</th>\n",
       "      <th>...</th>\n",
       "      <th>UpperBound</th>\n",
       "      <th>LowerBound</th>\n",
       "      <th>BasePeriod</th>\n",
       "      <th>Source</th>\n",
       "      <th>GeoInfoUrl</th>\n",
       "      <th>FootNote</th>\n",
       "      <th>Location</th>\n",
       "      <th>Nature</th>\n",
       "      <th>Reporting Type</th>\n",
       "      <th>Units</th>\n",
       "    </tr>\n",
       "  </thead>\n",
       "  <tbody>\n",
       "    <tr>\n",
       "      <th>0</th>\n",
       "      <td>6</td>\n",
       "      <td>6.1</td>\n",
       "      <td>6.1.1</td>\n",
       "      <td>SH_H2O_SAFE</td>\n",
       "      <td>Proportion of population using safely managed ...</td>\n",
       "      <td>1</td>\n",
       "      <td>World</td>\n",
       "      <td>2000</td>\n",
       "      <td>43.71090</td>\n",
       "      <td>2000</td>\n",
       "      <td>...</td>\n",
       "      <td>NaN</td>\n",
       "      <td>NaN</td>\n",
       "      <td>NaN</td>\n",
       "      <td>WHO/UNICEF Joint Monitoring Programme for Wate...</td>\n",
       "      <td>NaN</td>\n",
       "      <td>NaN</td>\n",
       "      <td>RURAL</td>\n",
       "      <td>N</td>\n",
       "      <td>G</td>\n",
       "      <td>PERCENT</td>\n",
       "    </tr>\n",
       "    <tr>\n",
       "      <th>1</th>\n",
       "      <td>6</td>\n",
       "      <td>6.1</td>\n",
       "      <td>6.1.1</td>\n",
       "      <td>SH_H2O_SAFE</td>\n",
       "      <td>Proportion of population using safely managed ...</td>\n",
       "      <td>1</td>\n",
       "      <td>World</td>\n",
       "      <td>2000</td>\n",
       "      <td>80.48066</td>\n",
       "      <td>2000</td>\n",
       "      <td>...</td>\n",
       "      <td>NaN</td>\n",
       "      <td>NaN</td>\n",
       "      <td>NaN</td>\n",
       "      <td>WHO/UNICEF Joint Monitoring Programme for Wate...</td>\n",
       "      <td>NaN</td>\n",
       "      <td>NaN</td>\n",
       "      <td>URBAN</td>\n",
       "      <td>N</td>\n",
       "      <td>G</td>\n",
       "      <td>PERCENT</td>\n",
       "    </tr>\n",
       "    <tr>\n",
       "      <th>2</th>\n",
       "      <td>6</td>\n",
       "      <td>6.1</td>\n",
       "      <td>6.1.1</td>\n",
       "      <td>SH_H2O_SAFE</td>\n",
       "      <td>Proportion of population using safely managed ...</td>\n",
       "      <td>1</td>\n",
       "      <td>World</td>\n",
       "      <td>2000</td>\n",
       "      <td>60.81622</td>\n",
       "      <td>2000</td>\n",
       "      <td>...</td>\n",
       "      <td>NaN</td>\n",
       "      <td>NaN</td>\n",
       "      <td>NaN</td>\n",
       "      <td>WHO/UNICEF Joint Monitoring Programme for Wate...</td>\n",
       "      <td>NaN</td>\n",
       "      <td>NaN</td>\n",
       "      <td>ALLAREA</td>\n",
       "      <td>N</td>\n",
       "      <td>G</td>\n",
       "      <td>PERCENT</td>\n",
       "    </tr>\n",
       "    <tr>\n",
       "      <th>3</th>\n",
       "      <td>6</td>\n",
       "      <td>6.1</td>\n",
       "      <td>6.1.1</td>\n",
       "      <td>SH_H2O_SAFE</td>\n",
       "      <td>Proportion of population using safely managed ...</td>\n",
       "      <td>1</td>\n",
       "      <td>World</td>\n",
       "      <td>2001</td>\n",
       "      <td>61.13020</td>\n",
       "      <td>2001</td>\n",
       "      <td>...</td>\n",
       "      <td>NaN</td>\n",
       "      <td>NaN</td>\n",
       "      <td>NaN</td>\n",
       "      <td>WHO/UNICEF Joint Monitoring Programme for Wate...</td>\n",
       "      <td>NaN</td>\n",
       "      <td>NaN</td>\n",
       "      <td>ALLAREA</td>\n",
       "      <td>N</td>\n",
       "      <td>G</td>\n",
       "      <td>PERCENT</td>\n",
       "    </tr>\n",
       "    <tr>\n",
       "      <th>4</th>\n",
       "      <td>6</td>\n",
       "      <td>6.1</td>\n",
       "      <td>6.1.1</td>\n",
       "      <td>SH_H2O_SAFE</td>\n",
       "      <td>Proportion of population using safely managed ...</td>\n",
       "      <td>1</td>\n",
       "      <td>World</td>\n",
       "      <td>2001</td>\n",
       "      <td>80.35525</td>\n",
       "      <td>2001</td>\n",
       "      <td>...</td>\n",
       "      <td>NaN</td>\n",
       "      <td>NaN</td>\n",
       "      <td>NaN</td>\n",
       "      <td>WHO/UNICEF Joint Monitoring Programme for Wate...</td>\n",
       "      <td>NaN</td>\n",
       "      <td>NaN</td>\n",
       "      <td>URBAN</td>\n",
       "      <td>N</td>\n",
       "      <td>G</td>\n",
       "      <td>PERCENT</td>\n",
       "    </tr>\n",
       "  </tbody>\n",
       "</table>\n",
       "<p>5 rows × 21 columns</p>\n",
       "</div>"
      ],
      "text/plain": [
       "   Goal  Target Indicator   SeriesCode  \\\n",
       "0     6     6.1     6.1.1  SH_H2O_SAFE   \n",
       "1     6     6.1     6.1.1  SH_H2O_SAFE   \n",
       "2     6     6.1     6.1.1  SH_H2O_SAFE   \n",
       "3     6     6.1     6.1.1  SH_H2O_SAFE   \n",
       "4     6     6.1     6.1.1  SH_H2O_SAFE   \n",
       "\n",
       "                                   SeriesDescription  GeoAreaCode GeoAreaName  \\\n",
       "0  Proportion of population using safely managed ...            1       World   \n",
       "1  Proportion of population using safely managed ...            1       World   \n",
       "2  Proportion of population using safely managed ...            1       World   \n",
       "3  Proportion of population using safely managed ...            1       World   \n",
       "4  Proportion of population using safely managed ...            1       World   \n",
       "\n",
       "   TimePeriod     Value  Time_Detail  ...  UpperBound  LowerBound  BasePeriod  \\\n",
       "0        2000  43.71090         2000  ...         NaN         NaN         NaN   \n",
       "1        2000  80.48066         2000  ...         NaN         NaN         NaN   \n",
       "2        2000  60.81622         2000  ...         NaN         NaN         NaN   \n",
       "3        2001  61.13020         2001  ...         NaN         NaN         NaN   \n",
       "4        2001  80.35525         2001  ...         NaN         NaN         NaN   \n",
       "\n",
       "                                              Source GeoInfoUrl  FootNote  \\\n",
       "0  WHO/UNICEF Joint Monitoring Programme for Wate...        NaN       NaN   \n",
       "1  WHO/UNICEF Joint Monitoring Programme for Wate...        NaN       NaN   \n",
       "2  WHO/UNICEF Joint Monitoring Programme for Wate...        NaN       NaN   \n",
       "3  WHO/UNICEF Joint Monitoring Programme for Wate...        NaN       NaN   \n",
       "4  WHO/UNICEF Joint Monitoring Programme for Wate...        NaN       NaN   \n",
       "\n",
       "   Location Nature Reporting Type    Units  \n",
       "0     RURAL      N              G  PERCENT  \n",
       "1     URBAN      N              G  PERCENT  \n",
       "2   ALLAREA      N              G  PERCENT  \n",
       "3   ALLAREA      N              G  PERCENT  \n",
       "4     URBAN      N              G  PERCENT  \n",
       "\n",
       "[5 rows x 21 columns]"
      ]
     },
     "execution_count": 7,
     "metadata": {},
     "output_type": "execute_result"
    }
   ],
   "source": [
    "excel_data.head()"
   ]
  },
  {
   "cell_type": "code",
   "execution_count": 11,
   "metadata": {},
   "outputs": [],
   "source": [
    "excel_data = excel_data.drop([\"Goal\", \"Target\", \"Indicator\", \"SeriesCode\", \"SeriesDescription\"], axis=1)"
   ]
  },
  {
   "cell_type": "code",
   "execution_count": 12,
   "metadata": {},
   "outputs": [
    {
     "data": {
      "text/html": [
       "<div>\n",
       "<style scoped>\n",
       "    .dataframe tbody tr th:only-of-type {\n",
       "        vertical-align: middle;\n",
       "    }\n",
       "\n",
       "    .dataframe tbody tr th {\n",
       "        vertical-align: top;\n",
       "    }\n",
       "\n",
       "    .dataframe thead th {\n",
       "        text-align: right;\n",
       "    }\n",
       "</style>\n",
       "<table border=\"1\" class=\"dataframe\">\n",
       "  <thead>\n",
       "    <tr style=\"text-align: right;\">\n",
       "      <th></th>\n",
       "      <th>GeoAreaCode</th>\n",
       "      <th>GeoAreaName</th>\n",
       "      <th>TimePeriod</th>\n",
       "      <th>Value</th>\n",
       "      <th>Time_Detail</th>\n",
       "      <th>TimeCoverage</th>\n",
       "      <th>UpperBound</th>\n",
       "      <th>LowerBound</th>\n",
       "      <th>BasePeriod</th>\n",
       "      <th>Source</th>\n",
       "      <th>GeoInfoUrl</th>\n",
       "      <th>FootNote</th>\n",
       "      <th>Location</th>\n",
       "      <th>Nature</th>\n",
       "      <th>Reporting Type</th>\n",
       "      <th>Units</th>\n",
       "    </tr>\n",
       "  </thead>\n",
       "  <tbody>\n",
       "    <tr>\n",
       "      <th>0</th>\n",
       "      <td>1</td>\n",
       "      <td>World</td>\n",
       "      <td>2000</td>\n",
       "      <td>43.71090</td>\n",
       "      <td>2000</td>\n",
       "      <td>NaN</td>\n",
       "      <td>NaN</td>\n",
       "      <td>NaN</td>\n",
       "      <td>NaN</td>\n",
       "      <td>WHO/UNICEF Joint Monitoring Programme for Wate...</td>\n",
       "      <td>NaN</td>\n",
       "      <td>NaN</td>\n",
       "      <td>RURAL</td>\n",
       "      <td>N</td>\n",
       "      <td>G</td>\n",
       "      <td>PERCENT</td>\n",
       "    </tr>\n",
       "    <tr>\n",
       "      <th>1</th>\n",
       "      <td>1</td>\n",
       "      <td>World</td>\n",
       "      <td>2000</td>\n",
       "      <td>80.48066</td>\n",
       "      <td>2000</td>\n",
       "      <td>NaN</td>\n",
       "      <td>NaN</td>\n",
       "      <td>NaN</td>\n",
       "      <td>NaN</td>\n",
       "      <td>WHO/UNICEF Joint Monitoring Programme for Wate...</td>\n",
       "      <td>NaN</td>\n",
       "      <td>NaN</td>\n",
       "      <td>URBAN</td>\n",
       "      <td>N</td>\n",
       "      <td>G</td>\n",
       "      <td>PERCENT</td>\n",
       "    </tr>\n",
       "    <tr>\n",
       "      <th>2</th>\n",
       "      <td>1</td>\n",
       "      <td>World</td>\n",
       "      <td>2000</td>\n",
       "      <td>60.81622</td>\n",
       "      <td>2000</td>\n",
       "      <td>NaN</td>\n",
       "      <td>NaN</td>\n",
       "      <td>NaN</td>\n",
       "      <td>NaN</td>\n",
       "      <td>WHO/UNICEF Joint Monitoring Programme for Wate...</td>\n",
       "      <td>NaN</td>\n",
       "      <td>NaN</td>\n",
       "      <td>ALLAREA</td>\n",
       "      <td>N</td>\n",
       "      <td>G</td>\n",
       "      <td>PERCENT</td>\n",
       "    </tr>\n",
       "    <tr>\n",
       "      <th>3</th>\n",
       "      <td>1</td>\n",
       "      <td>World</td>\n",
       "      <td>2001</td>\n",
       "      <td>61.13020</td>\n",
       "      <td>2001</td>\n",
       "      <td>NaN</td>\n",
       "      <td>NaN</td>\n",
       "      <td>NaN</td>\n",
       "      <td>NaN</td>\n",
       "      <td>WHO/UNICEF Joint Monitoring Programme for Wate...</td>\n",
       "      <td>NaN</td>\n",
       "      <td>NaN</td>\n",
       "      <td>ALLAREA</td>\n",
       "      <td>N</td>\n",
       "      <td>G</td>\n",
       "      <td>PERCENT</td>\n",
       "    </tr>\n",
       "    <tr>\n",
       "      <th>4</th>\n",
       "      <td>1</td>\n",
       "      <td>World</td>\n",
       "      <td>2001</td>\n",
       "      <td>80.35525</td>\n",
       "      <td>2001</td>\n",
       "      <td>NaN</td>\n",
       "      <td>NaN</td>\n",
       "      <td>NaN</td>\n",
       "      <td>NaN</td>\n",
       "      <td>WHO/UNICEF Joint Monitoring Programme for Wate...</td>\n",
       "      <td>NaN</td>\n",
       "      <td>NaN</td>\n",
       "      <td>URBAN</td>\n",
       "      <td>N</td>\n",
       "      <td>G</td>\n",
       "      <td>PERCENT</td>\n",
       "    </tr>\n",
       "  </tbody>\n",
       "</table>\n",
       "</div>"
      ],
      "text/plain": [
       "   GeoAreaCode GeoAreaName  TimePeriod     Value  Time_Detail  TimeCoverage  \\\n",
       "0            1       World        2000  43.71090         2000           NaN   \n",
       "1            1       World        2000  80.48066         2000           NaN   \n",
       "2            1       World        2000  60.81622         2000           NaN   \n",
       "3            1       World        2001  61.13020         2001           NaN   \n",
       "4            1       World        2001  80.35525         2001           NaN   \n",
       "\n",
       "   UpperBound  LowerBound  BasePeriod  \\\n",
       "0         NaN         NaN         NaN   \n",
       "1         NaN         NaN         NaN   \n",
       "2         NaN         NaN         NaN   \n",
       "3         NaN         NaN         NaN   \n",
       "4         NaN         NaN         NaN   \n",
       "\n",
       "                                              Source  GeoInfoUrl  FootNote  \\\n",
       "0  WHO/UNICEF Joint Monitoring Programme for Wate...         NaN       NaN   \n",
       "1  WHO/UNICEF Joint Monitoring Programme for Wate...         NaN       NaN   \n",
       "2  WHO/UNICEF Joint Monitoring Programme for Wate...         NaN       NaN   \n",
       "3  WHO/UNICEF Joint Monitoring Programme for Wate...         NaN       NaN   \n",
       "4  WHO/UNICEF Joint Monitoring Programme for Wate...         NaN       NaN   \n",
       "\n",
       "  Location Nature Reporting Type    Units  \n",
       "0    RURAL      N              G  PERCENT  \n",
       "1    URBAN      N              G  PERCENT  \n",
       "2  ALLAREA      N              G  PERCENT  \n",
       "3  ALLAREA      N              G  PERCENT  \n",
       "4    URBAN      N              G  PERCENT  "
      ]
     },
     "execution_count": 12,
     "metadata": {},
     "output_type": "execute_result"
    }
   ],
   "source": [
    "excel_data.head()"
   ]
  },
  {
   "cell_type": "code",
   "execution_count": 13,
   "metadata": {},
   "outputs": [
    {
     "data": {
      "text/plain": [
       "array(['RURAL', 'URBAN', 'ALLAREA'], dtype=object)"
      ]
     },
     "execution_count": 13,
     "metadata": {},
     "output_type": "execute_result"
    }
   ],
   "source": [
    "excel_data[\"Location\"].unique()"
   ]
  },
  {
   "cell_type": "code",
   "execution_count": 16,
   "metadata": {},
   "outputs": [],
   "source": [
    "excel_data.to_pickle(\"excel_pickle.pkl\")"
   ]
  },
  {
   "cell_type": "code",
   "execution_count": 17,
   "metadata": {},
   "outputs": [],
   "source": [
    "excel_data_filtered = excel_data[(excel_data[\"Location\"] == \"ALLAREA\") & (excel_data[\"TimePeriod\"] == 2008)]"
   ]
  },
  {
   "cell_type": "code",
   "execution_count": 18,
   "metadata": {},
   "outputs": [
    {
     "data": {
      "application/vnd.plotly.v1+json": {
       "config": {
        "plotlyServerURL": "https://plot.ly"
       },
       "data": [
        {
         "coloraxis": "coloraxis",
         "geo": "geo",
         "hovertemplate": "<b>%{hovertext}</b><br><br>GeoAreaName=%{location}<br>Value=%{z}<extra></extra>",
         "hovertext": [
          "World",
          "Afghanistan",
          "South America",
          "Albania",
          "Western Africa",
          "Algeria",
          "Central America",
          "Eastern Africa",
          "Northern Africa",
          "American Samoa",
          "Middle Africa",
          "Andorra",
          "Northern America",
          "Caribbean",
          "Azerbaijan",
          "South-Eastern Asia",
          "Southern Europe",
          "Austria",
          "Bahrain",
          "Bangladesh",
          "Armenia",
          "Belgium",
          "Micronesia",
          "Polynesia",
          "Central and Southern Asia",
          "Bhutan",
          "Bosnia and Herzegovina",
          "Brazil",
          "Bulgaria",
          "Myanmar",
          "Belarus",
          "Cambodia",
          "Canada",
          "Central African Republic",
          "Asia",
          "Central Asia",
          "Sri Lanka",
          "Western Asia",
          "Chad",
          "Europe",
          "Eastern Europe",
          "Chile",
          "Northern Europe",
          "Western Europe",
          "Colombia",
          "Mayotte",
          "Congo",
          "Democratic Republic of the Congo",
          "Costa Rica",
          "Cyprus",
          "Least Developed Countries (LDCs)",
          "Sub-Saharan Africa",
          "Czechia",
          "Denmark",
          "Dominican Republic",
          "Ecuador",
          "Ethiopia",
          "Estonia",
          "Fiji",
          "Finland",
          "France",
          "French Guiana",
          "French Polynesia",
          "Georgia",
          "Gambia",
          "State of Palestine",
          "Germany",
          "Ghana",
          "Gibraltar",
          "Kiribati",
          "Greece",
          "Grenada",
          "Guadeloupe",
          "Guam",
          "Guatemala",
          "Honduras",
          "China, Hong Kong Special Administrative Region",
          "Hungary",
          "Iceland",
          "Indonesia",
          "Iran (Islamic Republic of)",
          "Iraq",
          "Ireland",
          "Israel",
          "Italy",
          "Côte d'Ivoire",
          "Japan",
          "Kazakhstan",
          "Jordan",
          "Democratic People's Republic of Korea",
          "Republic of Korea",
          "Kuwait",
          "Kyrgyzstan",
          "Lao People's Democratic Republic",
          "Latin America and the Caribbean",
          "Lebanon",
          "Lesotho",
          "Latvia",
          "Landlocked developing countries (LLDCs)",
          "Liechtenstein",
          "Lithuania",
          "Luxembourg",
          "China, Macao Special Administrative Region",
          "Madagascar",
          "Malawi",
          "Malaysia",
          "Malta",
          "Martinique",
          "Mexico",
          "Monaco",
          "Mongolia",
          "Republic of Moldova",
          "Montenegro",
          "Morocco",
          "Oman",
          "Europe and Northern America",
          "Nepal",
          "Netherlands (Kingdom of the)",
          "Bonaire, Sint Eustatius and Saba",
          "New Caledonia",
          "New Zealand",
          "Nicaragua",
          "Nigeria",
          "Niue",
          "Norway",
          "Northern Mariana Islands",
          "Palau",
          "Pakistan",
          "Paraguay",
          "Peru",
          "Philippines",
          "Poland",
          "Portugal",
          "Guinea-Bissau",
          "Puerto Rico",
          "Qatar",
          "Réunion",
          "Romania",
          "Russian Federation",
          "Saint Barthélemy",
          "Saint Helena",
          "Saint Martin (French Part)",
          "Saint Pierre and Miquelon",
          "San Marino",
          "Sao Tome and Principe",
          "Senegal",
          "Serbia",
          "Sierra Leone",
          "Singapore",
          "Slovakia",
          "Viet Nam",
          "Slovenia",
          "Zimbabwe",
          "Small island developing States (SIDS)",
          "Spain",
          "Suriname",
          "Northern Africa and Western Asia",
          "Sweden",
          "Eastern and South-Eastern Asia",
          "Switzerland",
          "Tajikistan",
          "Togo",
          "Tonga",
          "Tunisia",
          "Turkmenistan",
          "Tuvalu",
          "Uganda",
          "Ukraine",
          "North Macedonia",
          "United Kingdom of Great Britain and Northern Ireland",
          "United Republic of Tanzania",
          "United States of America",
          "United States Virgin Islands",
          "Uzbekistan",
          "Wallis and Futuna Islands",
          "Samoa"
         ],
         "locationmode": "country names",
         "locations": [
          "World",
          "Afghanistan",
          "South America",
          "Albania",
          "Western Africa",
          "Algeria",
          "Central America",
          "Eastern Africa",
          "Northern Africa",
          "American Samoa",
          "Middle Africa",
          "Andorra",
          "Northern America",
          "Caribbean",
          "Azerbaijan",
          "South-Eastern Asia",
          "Southern Europe",
          "Austria",
          "Bahrain",
          "Bangladesh",
          "Armenia",
          "Belgium",
          "Micronesia",
          "Polynesia",
          "Central and Southern Asia",
          "Bhutan",
          "Bosnia and Herzegovina",
          "Brazil",
          "Bulgaria",
          "Myanmar",
          "Belarus",
          "Cambodia",
          "Canada",
          "Central African Republic",
          "Asia",
          "Central Asia",
          "Sri Lanka",
          "Western Asia",
          "Chad",
          "Europe",
          "Eastern Europe",
          "Chile",
          "Northern Europe",
          "Western Europe",
          "Colombia",
          "Mayotte",
          "Congo",
          "Democratic Republic of the Congo",
          "Costa Rica",
          "Cyprus",
          "Least Developed Countries (LDCs)",
          "Sub-Saharan Africa",
          "Czechia",
          "Denmark",
          "Dominican Republic",
          "Ecuador",
          "Ethiopia",
          "Estonia",
          "Fiji",
          "Finland",
          "France",
          "French Guiana",
          "French Polynesia",
          "Georgia",
          "Gambia",
          "State of Palestine",
          "Germany",
          "Ghana",
          "Gibraltar",
          "Kiribati",
          "Greece",
          "Grenada",
          "Guadeloupe",
          "Guam",
          "Guatemala",
          "Honduras",
          "China, Hong Kong Special Administrative Region",
          "Hungary",
          "Iceland",
          "Indonesia",
          "Iran (Islamic Republic of)",
          "Iraq",
          "Ireland",
          "Israel",
          "Italy",
          "Côte d'Ivoire",
          "Japan",
          "Kazakhstan",
          "Jordan",
          "Democratic People's Republic of Korea",
          "Republic of Korea",
          "Kuwait",
          "Kyrgyzstan",
          "Lao People's Democratic Republic",
          "Latin America and the Caribbean",
          "Lebanon",
          "Lesotho",
          "Latvia",
          "Landlocked developing countries (LLDCs)",
          "Liechtenstein",
          "Lithuania",
          "Luxembourg",
          "China, Macao Special Administrative Region",
          "Madagascar",
          "Malawi",
          "Malaysia",
          "Malta",
          "Martinique",
          "Mexico",
          "Monaco",
          "Mongolia",
          "Republic of Moldova",
          "Montenegro",
          "Morocco",
          "Oman",
          "Europe and Northern America",
          "Nepal",
          "Netherlands (Kingdom of the)",
          "Bonaire, Sint Eustatius and Saba",
          "New Caledonia",
          "New Zealand",
          "Nicaragua",
          "Nigeria",
          "Niue",
          "Norway",
          "Northern Mariana Islands",
          "Palau",
          "Pakistan",
          "Paraguay",
          "Peru",
          "Philippines",
          "Poland",
          "Portugal",
          "Guinea-Bissau",
          "Puerto Rico",
          "Qatar",
          "Réunion",
          "Romania",
          "Russian Federation",
          "Saint Barthélemy",
          "Saint Helena",
          "Saint Martin (French Part)",
          "Saint Pierre and Miquelon",
          "San Marino",
          "Sao Tome and Principe",
          "Senegal",
          "Serbia",
          "Sierra Leone",
          "Singapore",
          "Slovakia",
          "Viet Nam",
          "Slovenia",
          "Zimbabwe",
          "Small island developing States (SIDS)",
          "Spain",
          "Suriname",
          "Northern Africa and Western Asia",
          "Sweden",
          "Eastern and South-Eastern Asia",
          "Switzerland",
          "Tajikistan",
          "Togo",
          "Tonga",
          "Tunisia",
          "Turkmenistan",
          "Tuvalu",
          "Uganda",
          "Ukraine",
          "North Macedonia",
          "United Kingdom of Great Britain and Northern Ireland",
          "United Republic of Tanzania",
          "United States of America",
          "United States Virgin Islands",
          "Uzbekistan",
          "Wallis and Futuna Islands",
          "Samoa"
         ],
         "name": "",
         "type": "choropleth",
         "z": [
          64.87971,
          17.47601,
          75.69284,
          58.32848,
          22.19233,
          74.18282,
          45.73099,
          14.43555,
          69.31757,
          87.7875,
          15.81409,
          90.64,
          95.41278,
          57.24885,
          63.76539,
          37.6774,
          95.89003,
          98.08931,
          98.927,
          55.10288,
          83.29089,
          99.63135,
          61.1826,
          71.72332,
          52.30515,
          25.62333,
          88.30676,
          78.59245,
          93.8327,
          39.82257,
          87.58524,
          20.84621,
          98.41991,
          7.48929,
          61.66911,
          64.75982,
          45.90496,
          72.29871,
          5.75715,
          91.62961,
          81.38181,
          95.54009,
          98.45682,
          99.04814,
          70.88484,
          79.36568,
          36.18792,
          12.07336,
          78.77712,
          97.14498,
          29.06241,
          21.30546,
          97.15083,
          96.00607,
          43.30421,
          62.12471,
          7.01884,
          94.41134,
          40.0519,
          96.98687,
          97.95746,
          89.55046,
          92.02896,
          65.65025,
          32.26797,
          75.77892,
          99.87546,
          21.7173,
          100,
          11.34081,
          99.41645,
          85.94093,
          98.3737,
          98.96202,
          50.69118,
          50.86167,
          99.11464,
          86.92622,
          94.43718,
          26.17304,
          92.02551,
          54.03037,
          83.19453,
          99.67215,
          95.90065,
          24.47429,
          98.04329,
          74.56595,
          59.78105,
          68.20753,
          97.43673,
          100,
          53.77832,
          12.88668,
          73.20843,
          45.29422,
          16.35462,
          93.16433,
          30.50245,
          100,
          78.69247,
          99.8244,
          99.98195,
          12.10538,
          10.15208,
          93.17592,
          100,
          99.28192,
          41.0131,
          100,
          26.47741,
          57.49706,
          84.07976,
          47.73959,
          85.40998,
          93.74727,
          28.85042,
          99.98443,
          89.77307,
          91.04979,
          87.33571,
          49.63554,
          19.17787,
          97.66137,
          99.58311,
          85.39447,
          73.57509,
          36.47391,
          56.54244,
          47.93301,
          44.94614,
          93.1182,
          93.95939,
          20.1478,
          76.0438,
          96.34022,
          97.3136,
          81.81137,
          75.15285,
          99.38399,
          88.77944,
          96.7,
          83.1283,
          100,
          29.80322,
          22.3418,
          74.65524,
          6.72405,
          100,
          96.64649,
          50.13777,
          91.10523,
          28.60652,
          55.13242,
          99.60008,
          53.28897,
          70.90767,
          99.4932,
          73.85641,
          96.7,
          44.93156,
          8.43263,
          29.371,
          73.98867,
          78.30525,
          8.029,
          6.97608,
          79.62728,
          80.34019,
          99.97393,
          7.01043,
          95.38284,
          97.81837,
          64.34665,
          69.0533,
          60.81951
         ]
        }
       ],
       "layout": {
        "coloraxis": {
         "colorbar": {
          "title": {
           "text": "Value"
          }
         },
         "colorscale": [
          [
           0,
           "rgb(247,251,255)"
          ],
          [
           0.125,
           "rgb(222,235,247)"
          ],
          [
           0.25,
           "rgb(198,219,239)"
          ],
          [
           0.375,
           "rgb(158,202,225)"
          ],
          [
           0.5,
           "rgb(107,174,214)"
          ],
          [
           0.625,
           "rgb(66,146,198)"
          ],
          [
           0.75,
           "rgb(33,113,181)"
          ],
          [
           0.875,
           "rgb(8,81,156)"
          ],
          [
           1,
           "rgb(8,48,107)"
          ]
         ]
        },
        "geo": {
         "center": {},
         "coastlinecolor": "Black",
         "domain": {
          "x": [
           0,
           1
          ],
          "y": [
           0,
           1
          ]
         },
         "landcolor": "lightgray",
         "showcoastlines": true,
         "showland": true
        },
        "legend": {
         "tracegroupgap": 0
        },
        "margin": {
         "b": 0,
         "l": 0,
         "r": 0,
         "t": 0
        },
        "template": {
         "data": {
          "bar": [
           {
            "error_x": {
             "color": "#2a3f5f"
            },
            "error_y": {
             "color": "#2a3f5f"
            },
            "marker": {
             "line": {
              "color": "#E5ECF6",
              "width": 0.5
             },
             "pattern": {
              "fillmode": "overlay",
              "size": 10,
              "solidity": 0.2
             }
            },
            "type": "bar"
           }
          ],
          "barpolar": [
           {
            "marker": {
             "line": {
              "color": "#E5ECF6",
              "width": 0.5
             },
             "pattern": {
              "fillmode": "overlay",
              "size": 10,
              "solidity": 0.2
             }
            },
            "type": "barpolar"
           }
          ],
          "carpet": [
           {
            "aaxis": {
             "endlinecolor": "#2a3f5f",
             "gridcolor": "white",
             "linecolor": "white",
             "minorgridcolor": "white",
             "startlinecolor": "#2a3f5f"
            },
            "baxis": {
             "endlinecolor": "#2a3f5f",
             "gridcolor": "white",
             "linecolor": "white",
             "minorgridcolor": "white",
             "startlinecolor": "#2a3f5f"
            },
            "type": "carpet"
           }
          ],
          "choropleth": [
           {
            "colorbar": {
             "outlinewidth": 0,
             "ticks": ""
            },
            "type": "choropleth"
           }
          ],
          "contour": [
           {
            "colorbar": {
             "outlinewidth": 0,
             "ticks": ""
            },
            "colorscale": [
             [
              0,
              "#0d0887"
             ],
             [
              0.1111111111111111,
              "#46039f"
             ],
             [
              0.2222222222222222,
              "#7201a8"
             ],
             [
              0.3333333333333333,
              "#9c179e"
             ],
             [
              0.4444444444444444,
              "#bd3786"
             ],
             [
              0.5555555555555556,
              "#d8576b"
             ],
             [
              0.6666666666666666,
              "#ed7953"
             ],
             [
              0.7777777777777778,
              "#fb9f3a"
             ],
             [
              0.8888888888888888,
              "#fdca26"
             ],
             [
              1,
              "#f0f921"
             ]
            ],
            "type": "contour"
           }
          ],
          "contourcarpet": [
           {
            "colorbar": {
             "outlinewidth": 0,
             "ticks": ""
            },
            "type": "contourcarpet"
           }
          ],
          "heatmap": [
           {
            "colorbar": {
             "outlinewidth": 0,
             "ticks": ""
            },
            "colorscale": [
             [
              0,
              "#0d0887"
             ],
             [
              0.1111111111111111,
              "#46039f"
             ],
             [
              0.2222222222222222,
              "#7201a8"
             ],
             [
              0.3333333333333333,
              "#9c179e"
             ],
             [
              0.4444444444444444,
              "#bd3786"
             ],
             [
              0.5555555555555556,
              "#d8576b"
             ],
             [
              0.6666666666666666,
              "#ed7953"
             ],
             [
              0.7777777777777778,
              "#fb9f3a"
             ],
             [
              0.8888888888888888,
              "#fdca26"
             ],
             [
              1,
              "#f0f921"
             ]
            ],
            "type": "heatmap"
           }
          ],
          "heatmapgl": [
           {
            "colorbar": {
             "outlinewidth": 0,
             "ticks": ""
            },
            "colorscale": [
             [
              0,
              "#0d0887"
             ],
             [
              0.1111111111111111,
              "#46039f"
             ],
             [
              0.2222222222222222,
              "#7201a8"
             ],
             [
              0.3333333333333333,
              "#9c179e"
             ],
             [
              0.4444444444444444,
              "#bd3786"
             ],
             [
              0.5555555555555556,
              "#d8576b"
             ],
             [
              0.6666666666666666,
              "#ed7953"
             ],
             [
              0.7777777777777778,
              "#fb9f3a"
             ],
             [
              0.8888888888888888,
              "#fdca26"
             ],
             [
              1,
              "#f0f921"
             ]
            ],
            "type": "heatmapgl"
           }
          ],
          "histogram": [
           {
            "marker": {
             "pattern": {
              "fillmode": "overlay",
              "size": 10,
              "solidity": 0.2
             }
            },
            "type": "histogram"
           }
          ],
          "histogram2d": [
           {
            "colorbar": {
             "outlinewidth": 0,
             "ticks": ""
            },
            "colorscale": [
             [
              0,
              "#0d0887"
             ],
             [
              0.1111111111111111,
              "#46039f"
             ],
             [
              0.2222222222222222,
              "#7201a8"
             ],
             [
              0.3333333333333333,
              "#9c179e"
             ],
             [
              0.4444444444444444,
              "#bd3786"
             ],
             [
              0.5555555555555556,
              "#d8576b"
             ],
             [
              0.6666666666666666,
              "#ed7953"
             ],
             [
              0.7777777777777778,
              "#fb9f3a"
             ],
             [
              0.8888888888888888,
              "#fdca26"
             ],
             [
              1,
              "#f0f921"
             ]
            ],
            "type": "histogram2d"
           }
          ],
          "histogram2dcontour": [
           {
            "colorbar": {
             "outlinewidth": 0,
             "ticks": ""
            },
            "colorscale": [
             [
              0,
              "#0d0887"
             ],
             [
              0.1111111111111111,
              "#46039f"
             ],
             [
              0.2222222222222222,
              "#7201a8"
             ],
             [
              0.3333333333333333,
              "#9c179e"
             ],
             [
              0.4444444444444444,
              "#bd3786"
             ],
             [
              0.5555555555555556,
              "#d8576b"
             ],
             [
              0.6666666666666666,
              "#ed7953"
             ],
             [
              0.7777777777777778,
              "#fb9f3a"
             ],
             [
              0.8888888888888888,
              "#fdca26"
             ],
             [
              1,
              "#f0f921"
             ]
            ],
            "type": "histogram2dcontour"
           }
          ],
          "mesh3d": [
           {
            "colorbar": {
             "outlinewidth": 0,
             "ticks": ""
            },
            "type": "mesh3d"
           }
          ],
          "parcoords": [
           {
            "line": {
             "colorbar": {
              "outlinewidth": 0,
              "ticks": ""
             }
            },
            "type": "parcoords"
           }
          ],
          "pie": [
           {
            "automargin": true,
            "type": "pie"
           }
          ],
          "scatter": [
           {
            "fillpattern": {
             "fillmode": "overlay",
             "size": 10,
             "solidity": 0.2
            },
            "type": "scatter"
           }
          ],
          "scatter3d": [
           {
            "line": {
             "colorbar": {
              "outlinewidth": 0,
              "ticks": ""
             }
            },
            "marker": {
             "colorbar": {
              "outlinewidth": 0,
              "ticks": ""
             }
            },
            "type": "scatter3d"
           }
          ],
          "scattercarpet": [
           {
            "marker": {
             "colorbar": {
              "outlinewidth": 0,
              "ticks": ""
             }
            },
            "type": "scattercarpet"
           }
          ],
          "scattergeo": [
           {
            "marker": {
             "colorbar": {
              "outlinewidth": 0,
              "ticks": ""
             }
            },
            "type": "scattergeo"
           }
          ],
          "scattergl": [
           {
            "marker": {
             "colorbar": {
              "outlinewidth": 0,
              "ticks": ""
             }
            },
            "type": "scattergl"
           }
          ],
          "scattermapbox": [
           {
            "marker": {
             "colorbar": {
              "outlinewidth": 0,
              "ticks": ""
             }
            },
            "type": "scattermapbox"
           }
          ],
          "scatterpolar": [
           {
            "marker": {
             "colorbar": {
              "outlinewidth": 0,
              "ticks": ""
             }
            },
            "type": "scatterpolar"
           }
          ],
          "scatterpolargl": [
           {
            "marker": {
             "colorbar": {
              "outlinewidth": 0,
              "ticks": ""
             }
            },
            "type": "scatterpolargl"
           }
          ],
          "scatterternary": [
           {
            "marker": {
             "colorbar": {
              "outlinewidth": 0,
              "ticks": ""
             }
            },
            "type": "scatterternary"
           }
          ],
          "surface": [
           {
            "colorbar": {
             "outlinewidth": 0,
             "ticks": ""
            },
            "colorscale": [
             [
              0,
              "#0d0887"
             ],
             [
              0.1111111111111111,
              "#46039f"
             ],
             [
              0.2222222222222222,
              "#7201a8"
             ],
             [
              0.3333333333333333,
              "#9c179e"
             ],
             [
              0.4444444444444444,
              "#bd3786"
             ],
             [
              0.5555555555555556,
              "#d8576b"
             ],
             [
              0.6666666666666666,
              "#ed7953"
             ],
             [
              0.7777777777777778,
              "#fb9f3a"
             ],
             [
              0.8888888888888888,
              "#fdca26"
             ],
             [
              1,
              "#f0f921"
             ]
            ],
            "type": "surface"
           }
          ],
          "table": [
           {
            "cells": {
             "fill": {
              "color": "#EBF0F8"
             },
             "line": {
              "color": "white"
             }
            },
            "header": {
             "fill": {
              "color": "#C8D4E3"
             },
             "line": {
              "color": "white"
             }
            },
            "type": "table"
           }
          ]
         },
         "layout": {
          "annotationdefaults": {
           "arrowcolor": "#2a3f5f",
           "arrowhead": 0,
           "arrowwidth": 1
          },
          "autotypenumbers": "strict",
          "coloraxis": {
           "colorbar": {
            "outlinewidth": 0,
            "ticks": ""
           }
          },
          "colorscale": {
           "diverging": [
            [
             0,
             "#8e0152"
            ],
            [
             0.1,
             "#c51b7d"
            ],
            [
             0.2,
             "#de77ae"
            ],
            [
             0.3,
             "#f1b6da"
            ],
            [
             0.4,
             "#fde0ef"
            ],
            [
             0.5,
             "#f7f7f7"
            ],
            [
             0.6,
             "#e6f5d0"
            ],
            [
             0.7,
             "#b8e186"
            ],
            [
             0.8,
             "#7fbc41"
            ],
            [
             0.9,
             "#4d9221"
            ],
            [
             1,
             "#276419"
            ]
           ],
           "sequential": [
            [
             0,
             "#0d0887"
            ],
            [
             0.1111111111111111,
             "#46039f"
            ],
            [
             0.2222222222222222,
             "#7201a8"
            ],
            [
             0.3333333333333333,
             "#9c179e"
            ],
            [
             0.4444444444444444,
             "#bd3786"
            ],
            [
             0.5555555555555556,
             "#d8576b"
            ],
            [
             0.6666666666666666,
             "#ed7953"
            ],
            [
             0.7777777777777778,
             "#fb9f3a"
            ],
            [
             0.8888888888888888,
             "#fdca26"
            ],
            [
             1,
             "#f0f921"
            ]
           ],
           "sequentialminus": [
            [
             0,
             "#0d0887"
            ],
            [
             0.1111111111111111,
             "#46039f"
            ],
            [
             0.2222222222222222,
             "#7201a8"
            ],
            [
             0.3333333333333333,
             "#9c179e"
            ],
            [
             0.4444444444444444,
             "#bd3786"
            ],
            [
             0.5555555555555556,
             "#d8576b"
            ],
            [
             0.6666666666666666,
             "#ed7953"
            ],
            [
             0.7777777777777778,
             "#fb9f3a"
            ],
            [
             0.8888888888888888,
             "#fdca26"
            ],
            [
             1,
             "#f0f921"
            ]
           ]
          },
          "colorway": [
           "#636efa",
           "#EF553B",
           "#00cc96",
           "#ab63fa",
           "#FFA15A",
           "#19d3f3",
           "#FF6692",
           "#B6E880",
           "#FF97FF",
           "#FECB52"
          ],
          "font": {
           "color": "#2a3f5f"
          },
          "geo": {
           "bgcolor": "white",
           "lakecolor": "white",
           "landcolor": "#E5ECF6",
           "showlakes": true,
           "showland": true,
           "subunitcolor": "white"
          },
          "hoverlabel": {
           "align": "left"
          },
          "hovermode": "closest",
          "mapbox": {
           "style": "light"
          },
          "paper_bgcolor": "white",
          "plot_bgcolor": "#E5ECF6",
          "polar": {
           "angularaxis": {
            "gridcolor": "white",
            "linecolor": "white",
            "ticks": ""
           },
           "bgcolor": "#E5ECF6",
           "radialaxis": {
            "gridcolor": "white",
            "linecolor": "white",
            "ticks": ""
           }
          },
          "scene": {
           "xaxis": {
            "backgroundcolor": "#E5ECF6",
            "gridcolor": "white",
            "gridwidth": 2,
            "linecolor": "white",
            "showbackground": true,
            "ticks": "",
            "zerolinecolor": "white"
           },
           "yaxis": {
            "backgroundcolor": "#E5ECF6",
            "gridcolor": "white",
            "gridwidth": 2,
            "linecolor": "white",
            "showbackground": true,
            "ticks": "",
            "zerolinecolor": "white"
           },
           "zaxis": {
            "backgroundcolor": "#E5ECF6",
            "gridcolor": "white",
            "gridwidth": 2,
            "linecolor": "white",
            "showbackground": true,
            "ticks": "",
            "zerolinecolor": "white"
           }
          },
          "shapedefaults": {
           "line": {
            "color": "#2a3f5f"
           }
          },
          "ternary": {
           "aaxis": {
            "gridcolor": "white",
            "linecolor": "white",
            "ticks": ""
           },
           "baxis": {
            "gridcolor": "white",
            "linecolor": "white",
            "ticks": ""
           },
           "bgcolor": "#E5ECF6",
           "caxis": {
            "gridcolor": "white",
            "linecolor": "white",
            "ticks": ""
           }
          },
          "title": {
           "x": 0.05
          },
          "xaxis": {
           "automargin": true,
           "gridcolor": "white",
           "linecolor": "white",
           "ticks": "",
           "title": {
            "standoff": 15
           },
           "zerolinecolor": "white",
           "zerolinewidth": 2
          },
          "yaxis": {
           "automargin": true,
           "gridcolor": "white",
           "linecolor": "white",
           "ticks": "",
           "title": {
            "standoff": 15
           },
           "zerolinecolor": "white",
           "zerolinewidth": 2
          }
         }
        },
        "title": {
         "text": "Data by Country"
        }
       }
      },
      "text/html": [
       "<div>                            <div id=\"94de13c0-66d5-42ec-a0bc-1c4c1740fc18\" class=\"plotly-graph-div\" style=\"height:525px; width:100%;\"></div>            <script type=\"text/javascript\">                require([\"plotly\"], function(Plotly) {                    window.PLOTLYENV=window.PLOTLYENV || {};                                    if (document.getElementById(\"94de13c0-66d5-42ec-a0bc-1c4c1740fc18\")) {                    Plotly.newPlot(                        \"94de13c0-66d5-42ec-a0bc-1c4c1740fc18\",                        [{\"coloraxis\":\"coloraxis\",\"geo\":\"geo\",\"hovertemplate\":\"\\u003cb\\u003e%{hovertext}\\u003c\\u002fb\\u003e\\u003cbr\\u003e\\u003cbr\\u003eGeoAreaName=%{location}\\u003cbr\\u003eValue=%{z}\\u003cextra\\u003e\\u003c\\u002fextra\\u003e\",\"hovertext\":[\"World\",\"Afghanistan\",\"South America\",\"Albania\",\"Western Africa\",\"Algeria\",\"Central America\",\"Eastern Africa\",\"Northern Africa\",\"American Samoa\",\"Middle Africa\",\"Andorra\",\"Northern America\",\"Caribbean\",\"Azerbaijan\",\"South-Eastern Asia\",\"Southern Europe\",\"Austria\",\"Bahrain\",\"Bangladesh\",\"Armenia\",\"Belgium\",\"Micronesia\",\"Polynesia\",\"Central and Southern Asia\",\"Bhutan\",\"Bosnia and Herzegovina\",\"Brazil\",\"Bulgaria\",\"Myanmar\",\"Belarus\",\"Cambodia\",\"Canada\",\"Central African Republic\",\"Asia\",\"Central Asia\",\"Sri Lanka\",\"Western Asia\",\"Chad\",\"Europe\",\"Eastern Europe\",\"Chile\",\"Northern Europe\",\"Western Europe\",\"Colombia\",\"Mayotte\",\"Congo\",\"Democratic Republic of the Congo\",\"Costa Rica\",\"Cyprus\",\"Least Developed Countries (LDCs)\",\"Sub-Saharan Africa\",\"Czechia\",\"Denmark\",\"Dominican Republic\",\"Ecuador\",\"Ethiopia\",\"Estonia\",\"Fiji\",\"Finland\",\"France\",\"French Guiana\",\"French Polynesia\",\"Georgia\",\"Gambia\",\"State of Palestine\",\"Germany\",\"Ghana\",\"Gibraltar\",\"Kiribati\",\"Greece\",\"Grenada\",\"Guadeloupe\",\"Guam\",\"Guatemala\",\"Honduras\",\"China, Hong Kong Special Administrative Region\",\"Hungary\",\"Iceland\",\"Indonesia\",\"Iran (Islamic Republic of)\",\"Iraq\",\"Ireland\",\"Israel\",\"Italy\",\"C\\u00f4te d'Ivoire\",\"Japan\",\"Kazakhstan\",\"Jordan\",\"Democratic People's Republic of Korea\",\"Republic of Korea\",\"Kuwait\",\"Kyrgyzstan\",\"Lao People's Democratic Republic\",\"Latin America and the Caribbean\",\"Lebanon\",\"Lesotho\",\"Latvia\",\"Landlocked developing countries (LLDCs)\",\"Liechtenstein\",\"Lithuania\",\"Luxembourg\",\"China, Macao Special Administrative Region\",\"Madagascar\",\"Malawi\",\"Malaysia\",\"Malta\",\"Martinique\",\"Mexico\",\"Monaco\",\"Mongolia\",\"Republic of Moldova\",\"Montenegro\",\"Morocco\",\"Oman\",\"Europe and Northern America\",\"Nepal\",\"Netherlands (Kingdom of the)\",\"Bonaire, Sint Eustatius and Saba\",\"New Caledonia\",\"New Zealand\",\"Nicaragua\",\"Nigeria\",\"Niue\",\"Norway\",\"Northern Mariana Islands\",\"Palau\",\"Pakistan\",\"Paraguay\",\"Peru\",\"Philippines\",\"Poland\",\"Portugal\",\"Guinea-Bissau\",\"Puerto Rico\",\"Qatar\",\"R\\u00e9union\",\"Romania\",\"Russian Federation\",\"Saint Barth\\u00e9lemy\",\"Saint Helena\",\"Saint Martin (French Part)\",\"Saint Pierre and Miquelon\",\"San Marino\",\"Sao Tome and Principe\",\"Senegal\",\"Serbia\",\"Sierra Leone\",\"Singapore\",\"Slovakia\",\"Viet Nam\",\"Slovenia\",\"Zimbabwe\",\"Small island developing States (SIDS)\",\"Spain\",\"Suriname\",\"Northern Africa and Western Asia\",\"Sweden\",\"Eastern and South-Eastern Asia\",\"Switzerland\",\"Tajikistan\",\"Togo\",\"Tonga\",\"Tunisia\",\"Turkmenistan\",\"Tuvalu\",\"Uganda\",\"Ukraine\",\"North Macedonia\",\"United Kingdom of Great Britain and Northern Ireland\",\"United Republic of Tanzania\",\"United States of America\",\"United States Virgin Islands\",\"Uzbekistan\",\"Wallis and Futuna Islands\",\"Samoa\"],\"locationmode\":\"country names\",\"locations\":[\"World\",\"Afghanistan\",\"South America\",\"Albania\",\"Western Africa\",\"Algeria\",\"Central America\",\"Eastern Africa\",\"Northern Africa\",\"American Samoa\",\"Middle Africa\",\"Andorra\",\"Northern America\",\"Caribbean\",\"Azerbaijan\",\"South-Eastern Asia\",\"Southern Europe\",\"Austria\",\"Bahrain\",\"Bangladesh\",\"Armenia\",\"Belgium\",\"Micronesia\",\"Polynesia\",\"Central and Southern Asia\",\"Bhutan\",\"Bosnia and Herzegovina\",\"Brazil\",\"Bulgaria\",\"Myanmar\",\"Belarus\",\"Cambodia\",\"Canada\",\"Central African Republic\",\"Asia\",\"Central Asia\",\"Sri Lanka\",\"Western Asia\",\"Chad\",\"Europe\",\"Eastern Europe\",\"Chile\",\"Northern Europe\",\"Western Europe\",\"Colombia\",\"Mayotte\",\"Congo\",\"Democratic Republic of the Congo\",\"Costa Rica\",\"Cyprus\",\"Least Developed Countries (LDCs)\",\"Sub-Saharan Africa\",\"Czechia\",\"Denmark\",\"Dominican Republic\",\"Ecuador\",\"Ethiopia\",\"Estonia\",\"Fiji\",\"Finland\",\"France\",\"French Guiana\",\"French Polynesia\",\"Georgia\",\"Gambia\",\"State of Palestine\",\"Germany\",\"Ghana\",\"Gibraltar\",\"Kiribati\",\"Greece\",\"Grenada\",\"Guadeloupe\",\"Guam\",\"Guatemala\",\"Honduras\",\"China, Hong Kong Special Administrative Region\",\"Hungary\",\"Iceland\",\"Indonesia\",\"Iran (Islamic Republic of)\",\"Iraq\",\"Ireland\",\"Israel\",\"Italy\",\"C\\u00f4te d'Ivoire\",\"Japan\",\"Kazakhstan\",\"Jordan\",\"Democratic People's Republic of Korea\",\"Republic of Korea\",\"Kuwait\",\"Kyrgyzstan\",\"Lao People's Democratic Republic\",\"Latin America and the Caribbean\",\"Lebanon\",\"Lesotho\",\"Latvia\",\"Landlocked developing countries (LLDCs)\",\"Liechtenstein\",\"Lithuania\",\"Luxembourg\",\"China, Macao Special Administrative Region\",\"Madagascar\",\"Malawi\",\"Malaysia\",\"Malta\",\"Martinique\",\"Mexico\",\"Monaco\",\"Mongolia\",\"Republic of Moldova\",\"Montenegro\",\"Morocco\",\"Oman\",\"Europe and Northern America\",\"Nepal\",\"Netherlands (Kingdom of the)\",\"Bonaire, Sint Eustatius and Saba\",\"New Caledonia\",\"New Zealand\",\"Nicaragua\",\"Nigeria\",\"Niue\",\"Norway\",\"Northern Mariana Islands\",\"Palau\",\"Pakistan\",\"Paraguay\",\"Peru\",\"Philippines\",\"Poland\",\"Portugal\",\"Guinea-Bissau\",\"Puerto Rico\",\"Qatar\",\"R\\u00e9union\",\"Romania\",\"Russian Federation\",\"Saint Barth\\u00e9lemy\",\"Saint Helena\",\"Saint Martin (French Part)\",\"Saint Pierre and Miquelon\",\"San Marino\",\"Sao Tome and Principe\",\"Senegal\",\"Serbia\",\"Sierra Leone\",\"Singapore\",\"Slovakia\",\"Viet Nam\",\"Slovenia\",\"Zimbabwe\",\"Small island developing States (SIDS)\",\"Spain\",\"Suriname\",\"Northern Africa and Western Asia\",\"Sweden\",\"Eastern and South-Eastern Asia\",\"Switzerland\",\"Tajikistan\",\"Togo\",\"Tonga\",\"Tunisia\",\"Turkmenistan\",\"Tuvalu\",\"Uganda\",\"Ukraine\",\"North Macedonia\",\"United Kingdom of Great Britain and Northern Ireland\",\"United Republic of Tanzania\",\"United States of America\",\"United States Virgin Islands\",\"Uzbekistan\",\"Wallis and Futuna Islands\",\"Samoa\"],\"name\":\"\",\"z\":[64.87971,17.47601,75.69284,58.32848,22.19233,74.18282,45.73099,14.43555,69.31757,87.7875,15.81409,90.64,95.41278,57.24885,63.76539,37.6774,95.89003,98.08931,98.927,55.10288,83.29089,99.63135,61.1826,71.72332,52.30515,25.62333,88.30676,78.59245,93.8327,39.82257,87.58524,20.84621,98.41991,7.48929,61.66911,64.75982,45.90496,72.29871,5.75715,91.62961,81.38181,95.54009,98.45682,99.04814,70.88484,79.36568,36.18792,12.07336,78.77712,97.14498,29.06241,21.30546,97.15083,96.00607,43.30421,62.12471,7.01884,94.41134,40.0519,96.98687,97.95746,89.55046,92.02896,65.65025,32.26797,75.77892,99.87546,21.7173,100.0,11.34081,99.41645,85.94093,98.3737,98.96202,50.69118,50.86167,99.11464,86.92622,94.43718,26.17304,92.02551,54.03037,83.19453,99.67215,95.90065,24.47429,98.04329,74.56595,59.78105,68.20753,97.43673,100.0,53.77832,12.88668,73.20843,45.29422,16.35462,93.16433,30.50245,100.0,78.69247,99.8244,99.98195,12.10538,10.15208,93.17592,100.0,99.28192,41.0131,100.0,26.47741,57.49706,84.07976,47.73959,85.40998,93.74727,28.85042,99.98443,89.77307,91.04979,87.33571,49.63554,19.17787,97.66137,99.58311,85.39447,73.57509,36.47391,56.54244,47.93301,44.94614,93.1182,93.95939,20.1478,76.0438,96.34022,97.3136,81.81137,75.15285,99.38399,88.77944,96.7,83.1283,100.0,29.80322,22.3418,74.65524,6.72405,100.0,96.64649,50.13777,91.10523,28.60652,55.13242,99.60008,53.28897,70.90767,99.4932,73.85641,96.7,44.93156,8.43263,29.371,73.98867,78.30525,8.029,6.97608,79.62728,80.34019,99.97393,7.01043,95.38284,97.81837,64.34665,69.0533,60.81951],\"type\":\"choropleth\"}],                        {\"template\":{\"data\":{\"histogram2dcontour\":[{\"type\":\"histogram2dcontour\",\"colorbar\":{\"outlinewidth\":0,\"ticks\":\"\"},\"colorscale\":[[0.0,\"#0d0887\"],[0.1111111111111111,\"#46039f\"],[0.2222222222222222,\"#7201a8\"],[0.3333333333333333,\"#9c179e\"],[0.4444444444444444,\"#bd3786\"],[0.5555555555555556,\"#d8576b\"],[0.6666666666666666,\"#ed7953\"],[0.7777777777777778,\"#fb9f3a\"],[0.8888888888888888,\"#fdca26\"],[1.0,\"#f0f921\"]]}],\"choropleth\":[{\"type\":\"choropleth\",\"colorbar\":{\"outlinewidth\":0,\"ticks\":\"\"}}],\"histogram2d\":[{\"type\":\"histogram2d\",\"colorbar\":{\"outlinewidth\":0,\"ticks\":\"\"},\"colorscale\":[[0.0,\"#0d0887\"],[0.1111111111111111,\"#46039f\"],[0.2222222222222222,\"#7201a8\"],[0.3333333333333333,\"#9c179e\"],[0.4444444444444444,\"#bd3786\"],[0.5555555555555556,\"#d8576b\"],[0.6666666666666666,\"#ed7953\"],[0.7777777777777778,\"#fb9f3a\"],[0.8888888888888888,\"#fdca26\"],[1.0,\"#f0f921\"]]}],\"heatmap\":[{\"type\":\"heatmap\",\"colorbar\":{\"outlinewidth\":0,\"ticks\":\"\"},\"colorscale\":[[0.0,\"#0d0887\"],[0.1111111111111111,\"#46039f\"],[0.2222222222222222,\"#7201a8\"],[0.3333333333333333,\"#9c179e\"],[0.4444444444444444,\"#bd3786\"],[0.5555555555555556,\"#d8576b\"],[0.6666666666666666,\"#ed7953\"],[0.7777777777777778,\"#fb9f3a\"],[0.8888888888888888,\"#fdca26\"],[1.0,\"#f0f921\"]]}],\"heatmapgl\":[{\"type\":\"heatmapgl\",\"colorbar\":{\"outlinewidth\":0,\"ticks\":\"\"},\"colorscale\":[[0.0,\"#0d0887\"],[0.1111111111111111,\"#46039f\"],[0.2222222222222222,\"#7201a8\"],[0.3333333333333333,\"#9c179e\"],[0.4444444444444444,\"#bd3786\"],[0.5555555555555556,\"#d8576b\"],[0.6666666666666666,\"#ed7953\"],[0.7777777777777778,\"#fb9f3a\"],[0.8888888888888888,\"#fdca26\"],[1.0,\"#f0f921\"]]}],\"contourcarpet\":[{\"type\":\"contourcarpet\",\"colorbar\":{\"outlinewidth\":0,\"ticks\":\"\"}}],\"contour\":[{\"type\":\"contour\",\"colorbar\":{\"outlinewidth\":0,\"ticks\":\"\"},\"colorscale\":[[0.0,\"#0d0887\"],[0.1111111111111111,\"#46039f\"],[0.2222222222222222,\"#7201a8\"],[0.3333333333333333,\"#9c179e\"],[0.4444444444444444,\"#bd3786\"],[0.5555555555555556,\"#d8576b\"],[0.6666666666666666,\"#ed7953\"],[0.7777777777777778,\"#fb9f3a\"],[0.8888888888888888,\"#fdca26\"],[1.0,\"#f0f921\"]]}],\"surface\":[{\"type\":\"surface\",\"colorbar\":{\"outlinewidth\":0,\"ticks\":\"\"},\"colorscale\":[[0.0,\"#0d0887\"],[0.1111111111111111,\"#46039f\"],[0.2222222222222222,\"#7201a8\"],[0.3333333333333333,\"#9c179e\"],[0.4444444444444444,\"#bd3786\"],[0.5555555555555556,\"#d8576b\"],[0.6666666666666666,\"#ed7953\"],[0.7777777777777778,\"#fb9f3a\"],[0.8888888888888888,\"#fdca26\"],[1.0,\"#f0f921\"]]}],\"mesh3d\":[{\"type\":\"mesh3d\",\"colorbar\":{\"outlinewidth\":0,\"ticks\":\"\"}}],\"scatter\":[{\"fillpattern\":{\"fillmode\":\"overlay\",\"size\":10,\"solidity\":0.2},\"type\":\"scatter\"}],\"parcoords\":[{\"type\":\"parcoords\",\"line\":{\"colorbar\":{\"outlinewidth\":0,\"ticks\":\"\"}}}],\"scatterpolargl\":[{\"type\":\"scatterpolargl\",\"marker\":{\"colorbar\":{\"outlinewidth\":0,\"ticks\":\"\"}}}],\"bar\":[{\"error_x\":{\"color\":\"#2a3f5f\"},\"error_y\":{\"color\":\"#2a3f5f\"},\"marker\":{\"line\":{\"color\":\"#E5ECF6\",\"width\":0.5},\"pattern\":{\"fillmode\":\"overlay\",\"size\":10,\"solidity\":0.2}},\"type\":\"bar\"}],\"scattergeo\":[{\"type\":\"scattergeo\",\"marker\":{\"colorbar\":{\"outlinewidth\":0,\"ticks\":\"\"}}}],\"scatterpolar\":[{\"type\":\"scatterpolar\",\"marker\":{\"colorbar\":{\"outlinewidth\":0,\"ticks\":\"\"}}}],\"histogram\":[{\"marker\":{\"pattern\":{\"fillmode\":\"overlay\",\"size\":10,\"solidity\":0.2}},\"type\":\"histogram\"}],\"scattergl\":[{\"type\":\"scattergl\",\"marker\":{\"colorbar\":{\"outlinewidth\":0,\"ticks\":\"\"}}}],\"scatter3d\":[{\"type\":\"scatter3d\",\"line\":{\"colorbar\":{\"outlinewidth\":0,\"ticks\":\"\"}},\"marker\":{\"colorbar\":{\"outlinewidth\":0,\"ticks\":\"\"}}}],\"scattermapbox\":[{\"type\":\"scattermapbox\",\"marker\":{\"colorbar\":{\"outlinewidth\":0,\"ticks\":\"\"}}}],\"scatterternary\":[{\"type\":\"scatterternary\",\"marker\":{\"colorbar\":{\"outlinewidth\":0,\"ticks\":\"\"}}}],\"scattercarpet\":[{\"type\":\"scattercarpet\",\"marker\":{\"colorbar\":{\"outlinewidth\":0,\"ticks\":\"\"}}}],\"carpet\":[{\"aaxis\":{\"endlinecolor\":\"#2a3f5f\",\"gridcolor\":\"white\",\"linecolor\":\"white\",\"minorgridcolor\":\"white\",\"startlinecolor\":\"#2a3f5f\"},\"baxis\":{\"endlinecolor\":\"#2a3f5f\",\"gridcolor\":\"white\",\"linecolor\":\"white\",\"minorgridcolor\":\"white\",\"startlinecolor\":\"#2a3f5f\"},\"type\":\"carpet\"}],\"table\":[{\"cells\":{\"fill\":{\"color\":\"#EBF0F8\"},\"line\":{\"color\":\"white\"}},\"header\":{\"fill\":{\"color\":\"#C8D4E3\"},\"line\":{\"color\":\"white\"}},\"type\":\"table\"}],\"barpolar\":[{\"marker\":{\"line\":{\"color\":\"#E5ECF6\",\"width\":0.5},\"pattern\":{\"fillmode\":\"overlay\",\"size\":10,\"solidity\":0.2}},\"type\":\"barpolar\"}],\"pie\":[{\"automargin\":true,\"type\":\"pie\"}]},\"layout\":{\"autotypenumbers\":\"strict\",\"colorway\":[\"#636efa\",\"#EF553B\",\"#00cc96\",\"#ab63fa\",\"#FFA15A\",\"#19d3f3\",\"#FF6692\",\"#B6E880\",\"#FF97FF\",\"#FECB52\"],\"font\":{\"color\":\"#2a3f5f\"},\"hovermode\":\"closest\",\"hoverlabel\":{\"align\":\"left\"},\"paper_bgcolor\":\"white\",\"plot_bgcolor\":\"#E5ECF6\",\"polar\":{\"bgcolor\":\"#E5ECF6\",\"angularaxis\":{\"gridcolor\":\"white\",\"linecolor\":\"white\",\"ticks\":\"\"},\"radialaxis\":{\"gridcolor\":\"white\",\"linecolor\":\"white\",\"ticks\":\"\"}},\"ternary\":{\"bgcolor\":\"#E5ECF6\",\"aaxis\":{\"gridcolor\":\"white\",\"linecolor\":\"white\",\"ticks\":\"\"},\"baxis\":{\"gridcolor\":\"white\",\"linecolor\":\"white\",\"ticks\":\"\"},\"caxis\":{\"gridcolor\":\"white\",\"linecolor\":\"white\",\"ticks\":\"\"}},\"coloraxis\":{\"colorbar\":{\"outlinewidth\":0,\"ticks\":\"\"}},\"colorscale\":{\"sequential\":[[0.0,\"#0d0887\"],[0.1111111111111111,\"#46039f\"],[0.2222222222222222,\"#7201a8\"],[0.3333333333333333,\"#9c179e\"],[0.4444444444444444,\"#bd3786\"],[0.5555555555555556,\"#d8576b\"],[0.6666666666666666,\"#ed7953\"],[0.7777777777777778,\"#fb9f3a\"],[0.8888888888888888,\"#fdca26\"],[1.0,\"#f0f921\"]],\"sequentialminus\":[[0.0,\"#0d0887\"],[0.1111111111111111,\"#46039f\"],[0.2222222222222222,\"#7201a8\"],[0.3333333333333333,\"#9c179e\"],[0.4444444444444444,\"#bd3786\"],[0.5555555555555556,\"#d8576b\"],[0.6666666666666666,\"#ed7953\"],[0.7777777777777778,\"#fb9f3a\"],[0.8888888888888888,\"#fdca26\"],[1.0,\"#f0f921\"]],\"diverging\":[[0,\"#8e0152\"],[0.1,\"#c51b7d\"],[0.2,\"#de77ae\"],[0.3,\"#f1b6da\"],[0.4,\"#fde0ef\"],[0.5,\"#f7f7f7\"],[0.6,\"#e6f5d0\"],[0.7,\"#b8e186\"],[0.8,\"#7fbc41\"],[0.9,\"#4d9221\"],[1,\"#276419\"]]},\"xaxis\":{\"gridcolor\":\"white\",\"linecolor\":\"white\",\"ticks\":\"\",\"title\":{\"standoff\":15},\"zerolinecolor\":\"white\",\"automargin\":true,\"zerolinewidth\":2},\"yaxis\":{\"gridcolor\":\"white\",\"linecolor\":\"white\",\"ticks\":\"\",\"title\":{\"standoff\":15},\"zerolinecolor\":\"white\",\"automargin\":true,\"zerolinewidth\":2},\"scene\":{\"xaxis\":{\"backgroundcolor\":\"#E5ECF6\",\"gridcolor\":\"white\",\"linecolor\":\"white\",\"showbackground\":true,\"ticks\":\"\",\"zerolinecolor\":\"white\",\"gridwidth\":2},\"yaxis\":{\"backgroundcolor\":\"#E5ECF6\",\"gridcolor\":\"white\",\"linecolor\":\"white\",\"showbackground\":true,\"ticks\":\"\",\"zerolinecolor\":\"white\",\"gridwidth\":2},\"zaxis\":{\"backgroundcolor\":\"#E5ECF6\",\"gridcolor\":\"white\",\"linecolor\":\"white\",\"showbackground\":true,\"ticks\":\"\",\"zerolinecolor\":\"white\",\"gridwidth\":2}},\"shapedefaults\":{\"line\":{\"color\":\"#2a3f5f\"}},\"annotationdefaults\":{\"arrowcolor\":\"#2a3f5f\",\"arrowhead\":0,\"arrowwidth\":1},\"geo\":{\"bgcolor\":\"white\",\"landcolor\":\"#E5ECF6\",\"subunitcolor\":\"white\",\"showland\":true,\"showlakes\":true,\"lakecolor\":\"white\"},\"title\":{\"x\":0.05},\"mapbox\":{\"style\":\"light\"}}},\"geo\":{\"domain\":{\"x\":[0.0,1.0],\"y\":[0.0,1.0]},\"center\":{},\"showcoastlines\":true,\"coastlinecolor\":\"Black\",\"showland\":true,\"landcolor\":\"lightgray\"},\"coloraxis\":{\"colorbar\":{\"title\":{\"text\":\"Value\"}},\"colorscale\":[[0.0,\"rgb(247,251,255)\"],[0.125,\"rgb(222,235,247)\"],[0.25,\"rgb(198,219,239)\"],[0.375,\"rgb(158,202,225)\"],[0.5,\"rgb(107,174,214)\"],[0.625,\"rgb(66,146,198)\"],[0.75,\"rgb(33,113,181)\"],[0.875,\"rgb(8,81,156)\"],[1.0,\"rgb(8,48,107)\"]]},\"legend\":{\"tracegroupgap\":0},\"title\":{\"text\":\"Data by Country\"},\"margin\":{\"r\":0,\"t\":0,\"l\":0,\"b\":0}},                        {\"responsive\": true}                    ).then(function(){\n",
       "                            \n",
       "var gd = document.getElementById('94de13c0-66d5-42ec-a0bc-1c4c1740fc18');\n",
       "var x = new MutationObserver(function (mutations, observer) {{\n",
       "        var display = window.getComputedStyle(gd).display;\n",
       "        if (!display || display === 'none') {{\n",
       "            console.log([gd, 'removed!']);\n",
       "            Plotly.purge(gd);\n",
       "            observer.disconnect();\n",
       "        }}\n",
       "}});\n",
       "\n",
       "// Listen for the removal of the full notebook cells\n",
       "var notebookContainer = gd.closest('#notebook-container');\n",
       "if (notebookContainer) {{\n",
       "    x.observe(notebookContainer, {childList: true});\n",
       "}}\n",
       "\n",
       "// Listen for the clearing of the current output cell\n",
       "var outputEl = gd.closest('.output');\n",
       "if (outputEl) {{\n",
       "    x.observe(outputEl, {childList: true});\n",
       "}}\n",
       "\n",
       "                        })                };                });            </script>        </div>"
      ]
     },
     "metadata": {},
     "output_type": "display_data"
    }
   ],
   "source": [
    "fig = px.choropleth(excel_data_filtered, \n",
    "                    locations='GeoAreaName',  # This should be the country name or ISO code\n",
    "                    locationmode='country names',  # or 'ISO-3' if using 3-letter country codes\n",
    "                    color='Value',  # The data column you want to visualize\n",
    "                    hover_name='GeoAreaName',  # Column to display as hover text\n",
    "                    color_continuous_scale='Blues',  # Color scale\n",
    "                    title='Data by Country')\n",
    "\n",
    "fig.update_geos(showcoastlines=True, coastlinecolor=\"Black\", showland=True, landcolor=\"lightgray\")\n",
    "fig.update_layout(margin={\"r\":0,\"t\":0,\"l\":0,\"b\":0})\n",
    "\n",
    "\n",
    "fig.show()"
   ]
  },
  {
   "cell_type": "code",
   "execution_count": 20,
   "metadata": {},
   "outputs": [],
   "source": [
    "# Replace 'your_file.csv' with the path to your CSV file\n",
    "df_mortality = pd.read_csv('water_mortality.csv', encoding='ISO-8859-1')"
   ]
  },
  {
   "cell_type": "code",
   "execution_count": 21,
   "metadata": {},
   "outputs": [
    {
     "data": {
      "text/html": [
       "<div>\n",
       "<style scoped>\n",
       "    .dataframe tbody tr th:only-of-type {\n",
       "        vertical-align: middle;\n",
       "    }\n",
       "\n",
       "    .dataframe tbody tr th {\n",
       "        vertical-align: top;\n",
       "    }\n",
       "\n",
       "    .dataframe thead th {\n",
       "        text-align: right;\n",
       "    }\n",
       "</style>\n",
       "<table border=\"1\" class=\"dataframe\">\n",
       "  <thead>\n",
       "    <tr style=\"text-align: right;\">\n",
       "      <th></th>\n",
       "      <th>IND_ID</th>\n",
       "      <th>IND_CODE</th>\n",
       "      <th>IND_UUID</th>\n",
       "      <th>IND_PER_CODE</th>\n",
       "      <th>DIM_TIME</th>\n",
       "      <th>DIM_TIME_TYPE</th>\n",
       "      <th>DIM_GEO_CODE_M49</th>\n",
       "      <th>DIM_GEO_CODE_TYPE</th>\n",
       "      <th>DIM_PUBLISH_STATE_CODE</th>\n",
       "      <th>IND_NAME</th>\n",
       "      <th>GEO_NAME_SHORT</th>\n",
       "      <th>DIM_SEX</th>\n",
       "      <th>RATE_PER_100000_N</th>\n",
       "    </tr>\n",
       "  </thead>\n",
       "  <tbody>\n",
       "    <tr>\n",
       "      <th>0</th>\n",
       "      <td>ED50112SDGWSHBOD</td>\n",
       "      <td>SDGWSHBOD</td>\n",
       "      <td>ED50112</td>\n",
       "      <td>SDGWSHBOD</td>\n",
       "      <td>2019</td>\n",
       "      <td>YEAR</td>\n",
       "      <td>96</td>\n",
       "      <td>COUNTRY</td>\n",
       "      <td>PUBLISHED</td>\n",
       "      <td>Unsafe water, sanitation and hygiene services ...</td>\n",
       "      <td>Brunei Darussalam</td>\n",
       "      <td>FEMALE</td>\n",
       "      <td>1.7</td>\n",
       "    </tr>\n",
       "    <tr>\n",
       "      <th>1</th>\n",
       "      <td>ED50112SDGWSHBOD</td>\n",
       "      <td>SDGWSHBOD</td>\n",
       "      <td>ED50112</td>\n",
       "      <td>SDGWSHBOD</td>\n",
       "      <td>2019</td>\n",
       "      <td>YEAR</td>\n",
       "      <td>862</td>\n",
       "      <td>COUNTRY</td>\n",
       "      <td>PUBLISHED</td>\n",
       "      <td>Unsafe water, sanitation and hygiene services ...</td>\n",
       "      <td>Venezuela (Bolivarian Republic of)</td>\n",
       "      <td>FEMALE</td>\n",
       "      <td>4.9</td>\n",
       "    </tr>\n",
       "    <tr>\n",
       "      <th>2</th>\n",
       "      <td>ED50112SDGWSHBOD</td>\n",
       "      <td>SDGWSHBOD</td>\n",
       "      <td>ED50112</td>\n",
       "      <td>SDGWSHBOD</td>\n",
       "      <td>2019</td>\n",
       "      <td>YEAR</td>\n",
       "      <td>360</td>\n",
       "      <td>COUNTRY</td>\n",
       "      <td>PUBLISHED</td>\n",
       "      <td>Unsafe water, sanitation and hygiene services ...</td>\n",
       "      <td>Indonesia</td>\n",
       "      <td>FEMALE</td>\n",
       "      <td>15.2</td>\n",
       "    </tr>\n",
       "    <tr>\n",
       "      <th>3</th>\n",
       "      <td>ED50112SDGWSHBOD</td>\n",
       "      <td>SDGWSHBOD</td>\n",
       "      <td>ED50112</td>\n",
       "      <td>SDGWSHBOD</td>\n",
       "      <td>2019</td>\n",
       "      <td>YEAR</td>\n",
       "      <td>388</td>\n",
       "      <td>COUNTRY</td>\n",
       "      <td>PUBLISHED</td>\n",
       "      <td>Unsafe water, sanitation and hygiene services ...</td>\n",
       "      <td>Jamaica</td>\n",
       "      <td>FEMALE</td>\n",
       "      <td>2.2</td>\n",
       "    </tr>\n",
       "    <tr>\n",
       "      <th>4</th>\n",
       "      <td>ED50112SDGWSHBOD</td>\n",
       "      <td>SDGWSHBOD</td>\n",
       "      <td>ED50112</td>\n",
       "      <td>SDGWSHBOD</td>\n",
       "      <td>2019</td>\n",
       "      <td>YEAR</td>\n",
       "      <td>36</td>\n",
       "      <td>COUNTRY</td>\n",
       "      <td>PUBLISHED</td>\n",
       "      <td>Unsafe water, sanitation and hygiene services ...</td>\n",
       "      <td>Australia</td>\n",
       "      <td>FEMALE</td>\n",
       "      <td>2.1</td>\n",
       "    </tr>\n",
       "  </tbody>\n",
       "</table>\n",
       "</div>"
      ],
      "text/plain": [
       "             IND_ID   IND_CODE IND_UUID IND_PER_CODE  DIM_TIME DIM_TIME_TYPE  \\\n",
       "0  ED50112SDGWSHBOD  SDGWSHBOD  ED50112    SDGWSHBOD      2019          YEAR   \n",
       "1  ED50112SDGWSHBOD  SDGWSHBOD  ED50112    SDGWSHBOD      2019          YEAR   \n",
       "2  ED50112SDGWSHBOD  SDGWSHBOD  ED50112    SDGWSHBOD      2019          YEAR   \n",
       "3  ED50112SDGWSHBOD  SDGWSHBOD  ED50112    SDGWSHBOD      2019          YEAR   \n",
       "4  ED50112SDGWSHBOD  SDGWSHBOD  ED50112    SDGWSHBOD      2019          YEAR   \n",
       "\n",
       "   DIM_GEO_CODE_M49 DIM_GEO_CODE_TYPE DIM_PUBLISH_STATE_CODE  \\\n",
       "0                96           COUNTRY              PUBLISHED   \n",
       "1               862           COUNTRY              PUBLISHED   \n",
       "2               360           COUNTRY              PUBLISHED   \n",
       "3               388           COUNTRY              PUBLISHED   \n",
       "4                36           COUNTRY              PUBLISHED   \n",
       "\n",
       "                                            IND_NAME  \\\n",
       "0  Unsafe water, sanitation and hygiene services ...   \n",
       "1  Unsafe water, sanitation and hygiene services ...   \n",
       "2  Unsafe water, sanitation and hygiene services ...   \n",
       "3  Unsafe water, sanitation and hygiene services ...   \n",
       "4  Unsafe water, sanitation and hygiene services ...   \n",
       "\n",
       "                       GEO_NAME_SHORT DIM_SEX  RATE_PER_100000_N  \n",
       "0                   Brunei Darussalam  FEMALE                1.7  \n",
       "1  Venezuela (Bolivarian Republic of)  FEMALE                4.9  \n",
       "2                           Indonesia  FEMALE               15.2  \n",
       "3                             Jamaica  FEMALE                2.2  \n",
       "4                           Australia  FEMALE                2.1  "
      ]
     },
     "execution_count": 21,
     "metadata": {},
     "output_type": "execute_result"
    }
   ],
   "source": [
    "df_mortality.head()"
   ]
  },
  {
   "cell_type": "code",
   "execution_count": 23,
   "metadata": {},
   "outputs": [
    {
     "data": {
      "text/html": [
       "<div>\n",
       "<style scoped>\n",
       "    .dataframe tbody tr th:only-of-type {\n",
       "        vertical-align: middle;\n",
       "    }\n",
       "\n",
       "    .dataframe tbody tr th {\n",
       "        vertical-align: top;\n",
       "    }\n",
       "\n",
       "    .dataframe thead th {\n",
       "        text-align: right;\n",
       "    }\n",
       "</style>\n",
       "<table border=\"1\" class=\"dataframe\">\n",
       "  <thead>\n",
       "    <tr style=\"text-align: right;\">\n",
       "      <th></th>\n",
       "      <th>DIM_TIME</th>\n",
       "      <th>DIM_TIME_TYPE</th>\n",
       "      <th>DIM_GEO_CODE_M49</th>\n",
       "      <th>DIM_GEO_CODE_TYPE</th>\n",
       "      <th>IND_NAME</th>\n",
       "      <th>GEO_NAME_SHORT</th>\n",
       "      <th>DIM_SEX</th>\n",
       "      <th>RATE_PER_100000_N</th>\n",
       "    </tr>\n",
       "  </thead>\n",
       "  <tbody>\n",
       "    <tr>\n",
       "      <th>0</th>\n",
       "      <td>2019</td>\n",
       "      <td>YEAR</td>\n",
       "      <td>96</td>\n",
       "      <td>COUNTRY</td>\n",
       "      <td>Unsafe water, sanitation and hygiene services ...</td>\n",
       "      <td>Brunei Darussalam</td>\n",
       "      <td>FEMALE</td>\n",
       "      <td>1.70000</td>\n",
       "    </tr>\n",
       "    <tr>\n",
       "      <th>1</th>\n",
       "      <td>2019</td>\n",
       "      <td>YEAR</td>\n",
       "      <td>862</td>\n",
       "      <td>COUNTRY</td>\n",
       "      <td>Unsafe water, sanitation and hygiene services ...</td>\n",
       "      <td>Venezuela (Bolivarian Republic of)</td>\n",
       "      <td>FEMALE</td>\n",
       "      <td>4.90000</td>\n",
       "    </tr>\n",
       "    <tr>\n",
       "      <th>2</th>\n",
       "      <td>2019</td>\n",
       "      <td>YEAR</td>\n",
       "      <td>360</td>\n",
       "      <td>COUNTRY</td>\n",
       "      <td>Unsafe water, sanitation and hygiene services ...</td>\n",
       "      <td>Indonesia</td>\n",
       "      <td>FEMALE</td>\n",
       "      <td>15.20000</td>\n",
       "    </tr>\n",
       "    <tr>\n",
       "      <th>3</th>\n",
       "      <td>2019</td>\n",
       "      <td>YEAR</td>\n",
       "      <td>388</td>\n",
       "      <td>COUNTRY</td>\n",
       "      <td>Unsafe water, sanitation and hygiene services ...</td>\n",
       "      <td>Jamaica</td>\n",
       "      <td>FEMALE</td>\n",
       "      <td>2.20000</td>\n",
       "    </tr>\n",
       "    <tr>\n",
       "      <th>4</th>\n",
       "      <td>2019</td>\n",
       "      <td>YEAR</td>\n",
       "      <td>36</td>\n",
       "      <td>COUNTRY</td>\n",
       "      <td>Unsafe water, sanitation and hygiene services ...</td>\n",
       "      <td>Australia</td>\n",
       "      <td>FEMALE</td>\n",
       "      <td>2.10000</td>\n",
       "    </tr>\n",
       "    <tr>\n",
       "      <th>...</th>\n",
       "      <td>...</td>\n",
       "      <td>...</td>\n",
       "      <td>...</td>\n",
       "      <td>...</td>\n",
       "      <td>...</td>\n",
       "      <td>...</td>\n",
       "      <td>...</td>\n",
       "      <td>...</td>\n",
       "    </tr>\n",
       "    <tr>\n",
       "      <th>547</th>\n",
       "      <td>2019</td>\n",
       "      <td>YEAR</td>\n",
       "      <td>356</td>\n",
       "      <td>COUNTRY</td>\n",
       "      <td>Unsafe water, sanitation and hygiene services ...</td>\n",
       "      <td>India</td>\n",
       "      <td>TOTAL</td>\n",
       "      <td>36.40000</td>\n",
       "    </tr>\n",
       "    <tr>\n",
       "      <th>548</th>\n",
       "      <td>2019</td>\n",
       "      <td>YEAR</td>\n",
       "      <td>232</td>\n",
       "      <td>COUNTRY</td>\n",
       "      <td>Unsafe water, sanitation and hygiene services ...</td>\n",
       "      <td>Eritrea</td>\n",
       "      <td>TOTAL</td>\n",
       "      <td>66.50000</td>\n",
       "    </tr>\n",
       "    <tr>\n",
       "      <th>549</th>\n",
       "      <td>2019</td>\n",
       "      <td>YEAR</td>\n",
       "      <td>752</td>\n",
       "      <td>COUNTRY</td>\n",
       "      <td>Unsafe water, sanitation and hygiene services ...</td>\n",
       "      <td>Sweden</td>\n",
       "      <td>TOTAL</td>\n",
       "      <td>3.00000</td>\n",
       "    </tr>\n",
       "    <tr>\n",
       "      <th>550</th>\n",
       "      <td>2019</td>\n",
       "      <td>YEAR</td>\n",
       "      <td>1</td>\n",
       "      <td>GLOBAL</td>\n",
       "      <td>Unsafe water, sanitation and hygiene services ...</td>\n",
       "      <td>World</td>\n",
       "      <td>TOTAL</td>\n",
       "      <td>18.26571</td>\n",
       "    </tr>\n",
       "    <tr>\n",
       "      <th>551</th>\n",
       "      <td>2019</td>\n",
       "      <td>YEAR</td>\n",
       "      <td>706</td>\n",
       "      <td>COUNTRY</td>\n",
       "      <td>Unsafe water, sanitation and hygiene services ...</td>\n",
       "      <td>Somalia</td>\n",
       "      <td>TOTAL</td>\n",
       "      <td>99.20000</td>\n",
       "    </tr>\n",
       "  </tbody>\n",
       "</table>\n",
       "<p>552 rows × 8 columns</p>\n",
       "</div>"
      ],
      "text/plain": [
       "     DIM_TIME DIM_TIME_TYPE  DIM_GEO_CODE_M49 DIM_GEO_CODE_TYPE  \\\n",
       "0        2019          YEAR                96           COUNTRY   \n",
       "1        2019          YEAR               862           COUNTRY   \n",
       "2        2019          YEAR               360           COUNTRY   \n",
       "3        2019          YEAR               388           COUNTRY   \n",
       "4        2019          YEAR                36           COUNTRY   \n",
       "..        ...           ...               ...               ...   \n",
       "547      2019          YEAR               356           COUNTRY   \n",
       "548      2019          YEAR               232           COUNTRY   \n",
       "549      2019          YEAR               752           COUNTRY   \n",
       "550      2019          YEAR                 1            GLOBAL   \n",
       "551      2019          YEAR               706           COUNTRY   \n",
       "\n",
       "                                              IND_NAME  \\\n",
       "0    Unsafe water, sanitation and hygiene services ...   \n",
       "1    Unsafe water, sanitation and hygiene services ...   \n",
       "2    Unsafe water, sanitation and hygiene services ...   \n",
       "3    Unsafe water, sanitation and hygiene services ...   \n",
       "4    Unsafe water, sanitation and hygiene services ...   \n",
       "..                                                 ...   \n",
       "547  Unsafe water, sanitation and hygiene services ...   \n",
       "548  Unsafe water, sanitation and hygiene services ...   \n",
       "549  Unsafe water, sanitation and hygiene services ...   \n",
       "550  Unsafe water, sanitation and hygiene services ...   \n",
       "551  Unsafe water, sanitation and hygiene services ...   \n",
       "\n",
       "                         GEO_NAME_SHORT DIM_SEX  RATE_PER_100000_N  \n",
       "0                     Brunei Darussalam  FEMALE            1.70000  \n",
       "1    Venezuela (Bolivarian Republic of)  FEMALE            4.90000  \n",
       "2                             Indonesia  FEMALE           15.20000  \n",
       "3                               Jamaica  FEMALE            2.20000  \n",
       "4                             Australia  FEMALE            2.10000  \n",
       "..                                  ...     ...                ...  \n",
       "547                               India   TOTAL           36.40000  \n",
       "548                             Eritrea   TOTAL           66.50000  \n",
       "549                              Sweden   TOTAL            3.00000  \n",
       "550                               World   TOTAL           18.26571  \n",
       "551                             Somalia   TOTAL           99.20000  \n",
       "\n",
       "[552 rows x 8 columns]"
      ]
     },
     "execution_count": 23,
     "metadata": {},
     "output_type": "execute_result"
    }
   ],
   "source": [
    "df_mortality.drop([\"IND_ID\", \"IND_CODE\", \"IND_UUID\", \"IND_PER_CODE\", \"DIM_PUBLISH_STATE_CODE\"], axis=1)"
   ]
  },
  {
   "cell_type": "code",
   "execution_count": 24,
   "metadata": {},
   "outputs": [],
   "source": [
    "df_mortality.to_pickle(\"mortality_data.pkl\")"
   ]
  },
  {
   "cell_type": "code",
   "execution_count": 6,
   "metadata": {},
   "outputs": [],
   "source": [
    "# Read the CSV file\n",
    "df = pd.read_csv('c6a90482-5e54-4fe5-98c7-02beffecadbc_Data.csv')\n"
   ]
  },
  {
   "cell_type": "code",
   "execution_count": 7,
   "metadata": {},
   "outputs": [
    {
     "data": {
      "text/html": [
       "<div>\n",
       "<style scoped>\n",
       "    .dataframe tbody tr th:only-of-type {\n",
       "        vertical-align: middle;\n",
       "    }\n",
       "\n",
       "    .dataframe tbody tr th {\n",
       "        vertical-align: top;\n",
       "    }\n",
       "\n",
       "    .dataframe thead th {\n",
       "        text-align: right;\n",
       "    }\n",
       "</style>\n",
       "<table border=\"1\" class=\"dataframe\">\n",
       "  <thead>\n",
       "    <tr style=\"text-align: right;\">\n",
       "      <th></th>\n",
       "      <th>Series Name</th>\n",
       "      <th>Series Code</th>\n",
       "      <th>Country Name</th>\n",
       "      <th>Country Code</th>\n",
       "      <th>1960 [YR1960]</th>\n",
       "      <th>1961 [YR1961]</th>\n",
       "      <th>1962 [YR1962]</th>\n",
       "      <th>1963 [YR1963]</th>\n",
       "      <th>1964 [YR1964]</th>\n",
       "      <th>1965 [YR1965]</th>\n",
       "      <th>...</th>\n",
       "      <th>2014 [YR2014]</th>\n",
       "      <th>2015 [YR2015]</th>\n",
       "      <th>2016 [YR2016]</th>\n",
       "      <th>2017 [YR2017]</th>\n",
       "      <th>2018 [YR2018]</th>\n",
       "      <th>2019 [YR2019]</th>\n",
       "      <th>2020 [YR2020]</th>\n",
       "      <th>2021 [YR2021]</th>\n",
       "      <th>2022 [YR2022]</th>\n",
       "      <th>2023 [YR2023]</th>\n",
       "    </tr>\n",
       "  </thead>\n",
       "  <tbody>\n",
       "    <tr>\n",
       "      <th>0</th>\n",
       "      <td>Life expectancy at birth, total (years)</td>\n",
       "      <td>SP.DYN.LE00.IN</td>\n",
       "      <td>Afghanistan</td>\n",
       "      <td>AFG</td>\n",
       "      <td>32.535</td>\n",
       "      <td>33.068</td>\n",
       "      <td>33.547</td>\n",
       "      <td>34.016</td>\n",
       "      <td>34.494</td>\n",
       "      <td>34.953</td>\n",
       "      <td>...</td>\n",
       "      <td>62.545</td>\n",
       "      <td>62.659</td>\n",
       "      <td>63.136</td>\n",
       "      <td>63.016</td>\n",
       "      <td>63.081</td>\n",
       "      <td>63.565</td>\n",
       "      <td>62.575</td>\n",
       "      <td>61.982</td>\n",
       "      <td>62.879</td>\n",
       "      <td>..</td>\n",
       "    </tr>\n",
       "    <tr>\n",
       "      <th>1</th>\n",
       "      <td>Life expectancy at birth, total (years)</td>\n",
       "      <td>SP.DYN.LE00.IN</td>\n",
       "      <td>Africa Eastern and Southern</td>\n",
       "      <td>AFE</td>\n",
       "      <td>44.0855518454965</td>\n",
       "      <td>44.386696928982</td>\n",
       "      <td>44.7521818697994</td>\n",
       "      <td>44.9131593023895</td>\n",
       "      <td>45.4790430350925</td>\n",
       "      <td>45.4983377851245</td>\n",
       "      <td>...</td>\n",
       "      <td>61.3379174832409</td>\n",
       "      <td>61.8564581403595</td>\n",
       "      <td>62.444050201953</td>\n",
       "      <td>62.9223896233502</td>\n",
       "      <td>63.3658626111831</td>\n",
       "      <td>63.7556779176533</td>\n",
       "      <td>63.313860330682</td>\n",
       "      <td>62.4545896453864</td>\n",
       "      <td>62.8990306485382</td>\n",
       "      <td>..</td>\n",
       "    </tr>\n",
       "    <tr>\n",
       "      <th>2</th>\n",
       "      <td>Life expectancy at birth, total (years)</td>\n",
       "      <td>SP.DYN.LE00.IN</td>\n",
       "      <td>Africa Western and Central</td>\n",
       "      <td>AFW</td>\n",
       "      <td>37.8451516181524</td>\n",
       "      <td>38.1649497795417</td>\n",
       "      <td>38.7351018609467</td>\n",
       "      <td>39.0637152759625</td>\n",
       "      <td>39.3353602545353</td>\n",
       "      <td>39.6180376955522</td>\n",
       "      <td>...</td>\n",
       "      <td>55.9222289908432</td>\n",
       "      <td>56.1958723463674</td>\n",
       "      <td>56.5816784850503</td>\n",
       "      <td>56.888445830282</td>\n",
       "      <td>57.1891392680655</td>\n",
       "      <td>57.5557955517512</td>\n",
       "      <td>57.2263727312399</td>\n",
       "      <td>56.9886567820139</td>\n",
       "      <td>57.626176164197</td>\n",
       "      <td>..</td>\n",
       "    </tr>\n",
       "    <tr>\n",
       "      <th>3</th>\n",
       "      <td>Life expectancy at birth, total (years)</td>\n",
       "      <td>SP.DYN.LE00.IN</td>\n",
       "      <td>Albania</td>\n",
       "      <td>ALB</td>\n",
       "      <td>54.439</td>\n",
       "      <td>55.634</td>\n",
       "      <td>56.671</td>\n",
       "      <td>57.844</td>\n",
       "      <td>58.983</td>\n",
       "      <td>60.019</td>\n",
       "      <td>...</td>\n",
       "      <td>78.407</td>\n",
       "      <td>78.644</td>\n",
       "      <td>78.86</td>\n",
       "      <td>79.047</td>\n",
       "      <td>79.184</td>\n",
       "      <td>79.282</td>\n",
       "      <td>76.989</td>\n",
       "      <td>76.463</td>\n",
       "      <td>76.833</td>\n",
       "      <td>..</td>\n",
       "    </tr>\n",
       "    <tr>\n",
       "      <th>4</th>\n",
       "      <td>Life expectancy at birth, total (years)</td>\n",
       "      <td>SP.DYN.LE00.IN</td>\n",
       "      <td>Algeria</td>\n",
       "      <td>DZA</td>\n",
       "      <td>40.532</td>\n",
       "      <td>40.516</td>\n",
       "      <td>39.323</td>\n",
       "      <td>42.908</td>\n",
       "      <td>42.788</td>\n",
       "      <td>42.714</td>\n",
       "      <td>...</td>\n",
       "      <td>75.11</td>\n",
       "      <td>75.622</td>\n",
       "      <td>75.732</td>\n",
       "      <td>75.743</td>\n",
       "      <td>76.066</td>\n",
       "      <td>76.474</td>\n",
       "      <td>74.453</td>\n",
       "      <td>76.377</td>\n",
       "      <td>77.129</td>\n",
       "      <td>..</td>\n",
       "    </tr>\n",
       "    <tr>\n",
       "      <th>...</th>\n",
       "      <td>...</td>\n",
       "      <td>...</td>\n",
       "      <td>...</td>\n",
       "      <td>...</td>\n",
       "      <td>...</td>\n",
       "      <td>...</td>\n",
       "      <td>...</td>\n",
       "      <td>...</td>\n",
       "      <td>...</td>\n",
       "      <td>...</td>\n",
       "      <td>...</td>\n",
       "      <td>...</td>\n",
       "      <td>...</td>\n",
       "      <td>...</td>\n",
       "      <td>...</td>\n",
       "      <td>...</td>\n",
       "      <td>...</td>\n",
       "      <td>...</td>\n",
       "      <td>...</td>\n",
       "      <td>...</td>\n",
       "      <td>...</td>\n",
       "    </tr>\n",
       "    <tr>\n",
       "      <th>261</th>\n",
       "      <td>Life expectancy at birth, total (years)</td>\n",
       "      <td>SP.DYN.LE00.IN</td>\n",
       "      <td>West Bank and Gaza</td>\n",
       "      <td>PSE</td>\n",
       "      <td>..</td>\n",
       "      <td>..</td>\n",
       "      <td>..</td>\n",
       "      <td>..</td>\n",
       "      <td>..</td>\n",
       "      <td>..</td>\n",
       "      <td>...</td>\n",
       "      <td>72.622</td>\n",
       "      <td>74.406</td>\n",
       "      <td>74.554</td>\n",
       "      <td>74.833</td>\n",
       "      <td>74.793</td>\n",
       "      <td>75.241</td>\n",
       "      <td>74.403</td>\n",
       "      <td>73.473</td>\n",
       "      <td>73.444</td>\n",
       "      <td>..</td>\n",
       "    </tr>\n",
       "    <tr>\n",
       "      <th>262</th>\n",
       "      <td>Life expectancy at birth, total (years)</td>\n",
       "      <td>SP.DYN.LE00.IN</td>\n",
       "      <td>World</td>\n",
       "      <td>WLD</td>\n",
       "      <td>50.8943305507684</td>\n",
       "      <td>52.8464774949131</td>\n",
       "      <td>55.2087826873784</td>\n",
       "      <td>55.5424296130641</td>\n",
       "      <td>56.0349528622533</td>\n",
       "      <td>55.8607063131398</td>\n",
       "      <td>...</td>\n",
       "      <td>71.880681611011</td>\n",
       "      <td>72.0941749992632</td>\n",
       "      <td>72.3442006684463</td>\n",
       "      <td>72.5413583850165</td>\n",
       "      <td>72.7830363532923</td>\n",
       "      <td>72.9790204176782</td>\n",
       "      <td>72.242504599067</td>\n",
       "      <td>71.3271567374629</td>\n",
       "      <td>71.9963523835841</td>\n",
       "      <td>..</td>\n",
       "    </tr>\n",
       "    <tr>\n",
       "      <th>263</th>\n",
       "      <td>Life expectancy at birth, total (years)</td>\n",
       "      <td>SP.DYN.LE00.IN</td>\n",
       "      <td>Yemen, Rep.</td>\n",
       "      <td>YEM</td>\n",
       "      <td>33.678</td>\n",
       "      <td>34.098</td>\n",
       "      <td>33.615</td>\n",
       "      <td>33.247</td>\n",
       "      <td>34.738</td>\n",
       "      <td>35.373</td>\n",
       "      <td>...</td>\n",
       "      <td>67.384</td>\n",
       "      <td>65.873</td>\n",
       "      <td>66.064</td>\n",
       "      <td>65.957</td>\n",
       "      <td>64.575</td>\n",
       "      <td>65.092</td>\n",
       "      <td>64.65</td>\n",
       "      <td>63.753</td>\n",
       "      <td>63.72</td>\n",
       "      <td>..</td>\n",
       "    </tr>\n",
       "    <tr>\n",
       "      <th>264</th>\n",
       "      <td>Life expectancy at birth, total (years)</td>\n",
       "      <td>SP.DYN.LE00.IN</td>\n",
       "      <td>Zambia</td>\n",
       "      <td>ZMB</td>\n",
       "      <td>49.042</td>\n",
       "      <td>49.452</td>\n",
       "      <td>49.794</td>\n",
       "      <td>50.133</td>\n",
       "      <td>49.849</td>\n",
       "      <td>50.563</td>\n",
       "      <td>...</td>\n",
       "      <td>60.699</td>\n",
       "      <td>61.208</td>\n",
       "      <td>61.794</td>\n",
       "      <td>62.12</td>\n",
       "      <td>62.342</td>\n",
       "      <td>62.793</td>\n",
       "      <td>62.38</td>\n",
       "      <td>61.223</td>\n",
       "      <td>61.803</td>\n",
       "      <td>..</td>\n",
       "    </tr>\n",
       "    <tr>\n",
       "      <th>265</th>\n",
       "      <td>Life expectancy at birth, total (years)</td>\n",
       "      <td>SP.DYN.LE00.IN</td>\n",
       "      <td>Zimbabwe</td>\n",
       "      <td>ZWE</td>\n",
       "      <td>53.235</td>\n",
       "      <td>53.619</td>\n",
       "      <td>54.071</td>\n",
       "      <td>54.549</td>\n",
       "      <td>54.994</td>\n",
       "      <td>55.459</td>\n",
       "      <td>...</td>\n",
       "      <td>58.846</td>\n",
       "      <td>59.591</td>\n",
       "      <td>60.306</td>\n",
       "      <td>60.709</td>\n",
       "      <td>61.414</td>\n",
       "      <td>61.292</td>\n",
       "      <td>61.124</td>\n",
       "      <td>59.253</td>\n",
       "      <td>59.391</td>\n",
       "      <td>..</td>\n",
       "    </tr>\n",
       "  </tbody>\n",
       "</table>\n",
       "<p>266 rows × 68 columns</p>\n",
       "</div>"
      ],
      "text/plain": [
       "                                 Series Name     Series Code  \\\n",
       "0    Life expectancy at birth, total (years)  SP.DYN.LE00.IN   \n",
       "1    Life expectancy at birth, total (years)  SP.DYN.LE00.IN   \n",
       "2    Life expectancy at birth, total (years)  SP.DYN.LE00.IN   \n",
       "3    Life expectancy at birth, total (years)  SP.DYN.LE00.IN   \n",
       "4    Life expectancy at birth, total (years)  SP.DYN.LE00.IN   \n",
       "..                                       ...             ...   \n",
       "261  Life expectancy at birth, total (years)  SP.DYN.LE00.IN   \n",
       "262  Life expectancy at birth, total (years)  SP.DYN.LE00.IN   \n",
       "263  Life expectancy at birth, total (years)  SP.DYN.LE00.IN   \n",
       "264  Life expectancy at birth, total (years)  SP.DYN.LE00.IN   \n",
       "265  Life expectancy at birth, total (years)  SP.DYN.LE00.IN   \n",
       "\n",
       "                    Country Name Country Code     1960 [YR1960]  \\\n",
       "0                    Afghanistan          AFG            32.535   \n",
       "1    Africa Eastern and Southern          AFE  44.0855518454965   \n",
       "2     Africa Western and Central          AFW  37.8451516181524   \n",
       "3                        Albania          ALB            54.439   \n",
       "4                        Algeria          DZA            40.532   \n",
       "..                           ...          ...               ...   \n",
       "261           West Bank and Gaza          PSE                ..   \n",
       "262                        World          WLD  50.8943305507684   \n",
       "263                  Yemen, Rep.          YEM            33.678   \n",
       "264                       Zambia          ZMB            49.042   \n",
       "265                     Zimbabwe          ZWE            53.235   \n",
       "\n",
       "        1961 [YR1961]     1962 [YR1962]     1963 [YR1963]     1964 [YR1964]  \\\n",
       "0              33.068            33.547            34.016            34.494   \n",
       "1     44.386696928982  44.7521818697994  44.9131593023895  45.4790430350925   \n",
       "2    38.1649497795417  38.7351018609467  39.0637152759625  39.3353602545353   \n",
       "3              55.634            56.671            57.844            58.983   \n",
       "4              40.516            39.323            42.908            42.788   \n",
       "..                ...               ...               ...               ...   \n",
       "261                ..                ..                ..                ..   \n",
       "262  52.8464774949131  55.2087826873784  55.5424296130641  56.0349528622533   \n",
       "263            34.098            33.615            33.247            34.738   \n",
       "264            49.452            49.794            50.133            49.849   \n",
       "265            53.619            54.071            54.549            54.994   \n",
       "\n",
       "        1965 [YR1965]  ...     2014 [YR2014]     2015 [YR2015]  \\\n",
       "0              34.953  ...            62.545            62.659   \n",
       "1    45.4983377851245  ...  61.3379174832409  61.8564581403595   \n",
       "2    39.6180376955522  ...  55.9222289908432  56.1958723463674   \n",
       "3              60.019  ...            78.407            78.644   \n",
       "4              42.714  ...             75.11            75.622   \n",
       "..                ...  ...               ...               ...   \n",
       "261                ..  ...            72.622            74.406   \n",
       "262  55.8607063131398  ...   71.880681611011  72.0941749992632   \n",
       "263            35.373  ...            67.384            65.873   \n",
       "264            50.563  ...            60.699            61.208   \n",
       "265            55.459  ...            58.846            59.591   \n",
       "\n",
       "        2016 [YR2016]     2017 [YR2017]     2018 [YR2018]     2019 [YR2019]  \\\n",
       "0              63.136            63.016            63.081            63.565   \n",
       "1     62.444050201953  62.9223896233502  63.3658626111831  63.7556779176533   \n",
       "2    56.5816784850503   56.888445830282  57.1891392680655  57.5557955517512   \n",
       "3               78.86            79.047            79.184            79.282   \n",
       "4              75.732            75.743            76.066            76.474   \n",
       "..                ...               ...               ...               ...   \n",
       "261            74.554            74.833            74.793            75.241   \n",
       "262  72.3442006684463  72.5413583850165  72.7830363532923  72.9790204176782   \n",
       "263            66.064            65.957            64.575            65.092   \n",
       "264            61.794             62.12            62.342            62.793   \n",
       "265            60.306            60.709            61.414            61.292   \n",
       "\n",
       "        2020 [YR2020]     2021 [YR2021]     2022 [YR2022] 2023 [YR2023]  \n",
       "0              62.575            61.982            62.879            ..  \n",
       "1     63.313860330682  62.4545896453864  62.8990306485382            ..  \n",
       "2    57.2263727312399  56.9886567820139   57.626176164197            ..  \n",
       "3              76.989            76.463            76.833            ..  \n",
       "4              74.453            76.377            77.129            ..  \n",
       "..                ...               ...               ...           ...  \n",
       "261            74.403            73.473            73.444            ..  \n",
       "262   72.242504599067  71.3271567374629  71.9963523835841            ..  \n",
       "263             64.65            63.753             63.72            ..  \n",
       "264             62.38            61.223            61.803            ..  \n",
       "265            61.124            59.253            59.391            ..  \n",
       "\n",
       "[266 rows x 68 columns]"
      ]
     },
     "execution_count": 7,
     "metadata": {},
     "output_type": "execute_result"
    }
   ],
   "source": [
    "df"
   ]
  },
  {
   "cell_type": "code",
   "execution_count": 8,
   "metadata": {},
   "outputs": [
    {
     "name": "stderr",
     "output_type": "stream",
     "text": [
      "<>:8: SyntaxWarning: invalid escape sequence '\\d'\n",
      "<>:8: SyntaxWarning: invalid escape sequence '\\d'\n",
      "/tmp/ipykernel_31010/2063172412.py:8: SyntaxWarning: invalid escape sequence '\\d'\n",
      "  df_long['Year'] = df_long['Year'].str.extract('(\\d{4})')\n"
     ]
    }
   ],
   "source": [
    "\n",
    "\n",
    "# Convert to long format\n",
    "df_long = pd.melt(df, \n",
    "                  id_vars=['Series Name', 'Series Code', 'Country Name', 'Country Code'], \n",
    "                  var_name='Year', \n",
    "                  value_name='Value')\n",
    "\n",
    "# Clean the 'Year' column to remove the '[YRxxxx]' part\n",
    "df_long['Year'] = df_long['Year'].str.extract('(\\d{4})')\n",
    "\n",
    "# Display the long format DataFrame"
   ]
  },
  {
   "cell_type": "code",
   "execution_count": 9,
   "metadata": {},
   "outputs": [
    {
     "data": {
      "text/html": [
       "<div>\n",
       "<style scoped>\n",
       "    .dataframe tbody tr th:only-of-type {\n",
       "        vertical-align: middle;\n",
       "    }\n",
       "\n",
       "    .dataframe tbody tr th {\n",
       "        vertical-align: top;\n",
       "    }\n",
       "\n",
       "    .dataframe thead th {\n",
       "        text-align: right;\n",
       "    }\n",
       "</style>\n",
       "<table border=\"1\" class=\"dataframe\">\n",
       "  <thead>\n",
       "    <tr style=\"text-align: right;\">\n",
       "      <th></th>\n",
       "      <th>Series Name</th>\n",
       "      <th>Series Code</th>\n",
       "      <th>Country Name</th>\n",
       "      <th>Country Code</th>\n",
       "      <th>Year</th>\n",
       "      <th>Value</th>\n",
       "    </tr>\n",
       "  </thead>\n",
       "  <tbody>\n",
       "    <tr>\n",
       "      <th>0</th>\n",
       "      <td>Life expectancy at birth, total (years)</td>\n",
       "      <td>SP.DYN.LE00.IN</td>\n",
       "      <td>Afghanistan</td>\n",
       "      <td>AFG</td>\n",
       "      <td>1960</td>\n",
       "      <td>32.535</td>\n",
       "    </tr>\n",
       "    <tr>\n",
       "      <th>1</th>\n",
       "      <td>Life expectancy at birth, total (years)</td>\n",
       "      <td>SP.DYN.LE00.IN</td>\n",
       "      <td>Africa Eastern and Southern</td>\n",
       "      <td>AFE</td>\n",
       "      <td>1960</td>\n",
       "      <td>44.0855518454965</td>\n",
       "    </tr>\n",
       "    <tr>\n",
       "      <th>2</th>\n",
       "      <td>Life expectancy at birth, total (years)</td>\n",
       "      <td>SP.DYN.LE00.IN</td>\n",
       "      <td>Africa Western and Central</td>\n",
       "      <td>AFW</td>\n",
       "      <td>1960</td>\n",
       "      <td>37.8451516181524</td>\n",
       "    </tr>\n",
       "    <tr>\n",
       "      <th>3</th>\n",
       "      <td>Life expectancy at birth, total (years)</td>\n",
       "      <td>SP.DYN.LE00.IN</td>\n",
       "      <td>Albania</td>\n",
       "      <td>ALB</td>\n",
       "      <td>1960</td>\n",
       "      <td>54.439</td>\n",
       "    </tr>\n",
       "    <tr>\n",
       "      <th>4</th>\n",
       "      <td>Life expectancy at birth, total (years)</td>\n",
       "      <td>SP.DYN.LE00.IN</td>\n",
       "      <td>Algeria</td>\n",
       "      <td>DZA</td>\n",
       "      <td>1960</td>\n",
       "      <td>40.532</td>\n",
       "    </tr>\n",
       "    <tr>\n",
       "      <th>...</th>\n",
       "      <td>...</td>\n",
       "      <td>...</td>\n",
       "      <td>...</td>\n",
       "      <td>...</td>\n",
       "      <td>...</td>\n",
       "      <td>...</td>\n",
       "    </tr>\n",
       "    <tr>\n",
       "      <th>17019</th>\n",
       "      <td>Life expectancy at birth, total (years)</td>\n",
       "      <td>SP.DYN.LE00.IN</td>\n",
       "      <td>West Bank and Gaza</td>\n",
       "      <td>PSE</td>\n",
       "      <td>2023</td>\n",
       "      <td>..</td>\n",
       "    </tr>\n",
       "    <tr>\n",
       "      <th>17020</th>\n",
       "      <td>Life expectancy at birth, total (years)</td>\n",
       "      <td>SP.DYN.LE00.IN</td>\n",
       "      <td>World</td>\n",
       "      <td>WLD</td>\n",
       "      <td>2023</td>\n",
       "      <td>..</td>\n",
       "    </tr>\n",
       "    <tr>\n",
       "      <th>17021</th>\n",
       "      <td>Life expectancy at birth, total (years)</td>\n",
       "      <td>SP.DYN.LE00.IN</td>\n",
       "      <td>Yemen, Rep.</td>\n",
       "      <td>YEM</td>\n",
       "      <td>2023</td>\n",
       "      <td>..</td>\n",
       "    </tr>\n",
       "    <tr>\n",
       "      <th>17022</th>\n",
       "      <td>Life expectancy at birth, total (years)</td>\n",
       "      <td>SP.DYN.LE00.IN</td>\n",
       "      <td>Zambia</td>\n",
       "      <td>ZMB</td>\n",
       "      <td>2023</td>\n",
       "      <td>..</td>\n",
       "    </tr>\n",
       "    <tr>\n",
       "      <th>17023</th>\n",
       "      <td>Life expectancy at birth, total (years)</td>\n",
       "      <td>SP.DYN.LE00.IN</td>\n",
       "      <td>Zimbabwe</td>\n",
       "      <td>ZWE</td>\n",
       "      <td>2023</td>\n",
       "      <td>..</td>\n",
       "    </tr>\n",
       "  </tbody>\n",
       "</table>\n",
       "<p>17024 rows × 6 columns</p>\n",
       "</div>"
      ],
      "text/plain": [
       "                                   Series Name     Series Code  \\\n",
       "0      Life expectancy at birth, total (years)  SP.DYN.LE00.IN   \n",
       "1      Life expectancy at birth, total (years)  SP.DYN.LE00.IN   \n",
       "2      Life expectancy at birth, total (years)  SP.DYN.LE00.IN   \n",
       "3      Life expectancy at birth, total (years)  SP.DYN.LE00.IN   \n",
       "4      Life expectancy at birth, total (years)  SP.DYN.LE00.IN   \n",
       "...                                        ...             ...   \n",
       "17019  Life expectancy at birth, total (years)  SP.DYN.LE00.IN   \n",
       "17020  Life expectancy at birth, total (years)  SP.DYN.LE00.IN   \n",
       "17021  Life expectancy at birth, total (years)  SP.DYN.LE00.IN   \n",
       "17022  Life expectancy at birth, total (years)  SP.DYN.LE00.IN   \n",
       "17023  Life expectancy at birth, total (years)  SP.DYN.LE00.IN   \n",
       "\n",
       "                      Country Name Country Code  Year             Value  \n",
       "0                      Afghanistan          AFG  1960            32.535  \n",
       "1      Africa Eastern and Southern          AFE  1960  44.0855518454965  \n",
       "2       Africa Western and Central          AFW  1960  37.8451516181524  \n",
       "3                          Albania          ALB  1960            54.439  \n",
       "4                          Algeria          DZA  1960            40.532  \n",
       "...                            ...          ...   ...               ...  \n",
       "17019           West Bank and Gaza          PSE  2023                ..  \n",
       "17020                        World          WLD  2023                ..  \n",
       "17021                  Yemen, Rep.          YEM  2023                ..  \n",
       "17022                       Zambia          ZMB  2023                ..  \n",
       "17023                     Zimbabwe          ZWE  2023                ..  \n",
       "\n",
       "[17024 rows x 6 columns]"
      ]
     },
     "execution_count": 9,
     "metadata": {},
     "output_type": "execute_result"
    }
   ],
   "source": [
    "df_long"
   ]
  },
  {
   "cell_type": "code",
   "execution_count": 11,
   "metadata": {},
   "outputs": [
    {
     "data": {
      "text/plain": [
       "Series Name     object\n",
       "Series Code     object\n",
       "Country Name    object\n",
       "Country Code    object\n",
       "Year            object\n",
       "Value           object\n",
       "dtype: object"
      ]
     },
     "execution_count": 11,
     "metadata": {},
     "output_type": "execute_result"
    }
   ],
   "source": [
    "df_long.dtypes"
   ]
  },
  {
   "cell_type": "code",
   "execution_count": 10,
   "metadata": {},
   "outputs": [],
   "source": [
    "df_long.to_pickle(\"life_expectancy.pkl\")"
   ]
  },
  {
   "cell_type": "markdown",
   "metadata": {},
   "source": []
  },
  {
   "cell_type": "code",
   "execution_count": 13,
   "metadata": {},
   "outputs": [],
   "source": [
    "df_new = pd.read_csv('wb_water.csv')"
   ]
  },
  {
   "cell_type": "code",
   "execution_count": 14,
   "metadata": {},
   "outputs": [
    {
     "data": {
      "text/html": [
       "<div>\n",
       "<style scoped>\n",
       "    .dataframe tbody tr th:only-of-type {\n",
       "        vertical-align: middle;\n",
       "    }\n",
       "\n",
       "    .dataframe tbody tr th {\n",
       "        vertical-align: top;\n",
       "    }\n",
       "\n",
       "    .dataframe thead th {\n",
       "        text-align: right;\n",
       "    }\n",
       "</style>\n",
       "<table border=\"1\" class=\"dataframe\">\n",
       "  <thead>\n",
       "    <tr style=\"text-align: right;\">\n",
       "      <th></th>\n",
       "      <th>Series Name</th>\n",
       "      <th>Series Code</th>\n",
       "      <th>Country Name</th>\n",
       "      <th>Country Code</th>\n",
       "      <th>1960 [YR1960]</th>\n",
       "      <th>1961 [YR1961]</th>\n",
       "      <th>1962 [YR1962]</th>\n",
       "      <th>1963 [YR1963]</th>\n",
       "      <th>1964 [YR1964]</th>\n",
       "      <th>1965 [YR1965]</th>\n",
       "      <th>...</th>\n",
       "      <th>2014 [YR2014]</th>\n",
       "      <th>2015 [YR2015]</th>\n",
       "      <th>2016 [YR2016]</th>\n",
       "      <th>2017 [YR2017]</th>\n",
       "      <th>2018 [YR2018]</th>\n",
       "      <th>2019 [YR2019]</th>\n",
       "      <th>2020 [YR2020]</th>\n",
       "      <th>2021 [YR2021]</th>\n",
       "      <th>2022 [YR2022]</th>\n",
       "      <th>2023 [YR2023]</th>\n",
       "    </tr>\n",
       "  </thead>\n",
       "  <tbody>\n",
       "    <tr>\n",
       "      <th>0</th>\n",
       "      <td>People using at least basic drinking water ser...</td>\n",
       "      <td>SH.H2O.BASW.ZS</td>\n",
       "      <td>Afghanistan</td>\n",
       "      <td>AFG</td>\n",
       "      <td>..</td>\n",
       "      <td>..</td>\n",
       "      <td>..</td>\n",
       "      <td>..</td>\n",
       "      <td>..</td>\n",
       "      <td>..</td>\n",
       "      <td>...</td>\n",
       "      <td>59.5981581738121</td>\n",
       "      <td>62.3696595585624</td>\n",
       "      <td>65.1721622599667</td>\n",
       "      <td>68.0088715856643</td>\n",
       "      <td>70.8799408932308</td>\n",
       "      <td>73.7846429967308</td>\n",
       "      <td>76.72225540254</td>\n",
       "      <td>79.6930784589074</td>\n",
       "      <td>82.1753711181706</td>\n",
       "      <td>..</td>\n",
       "    </tr>\n",
       "    <tr>\n",
       "      <th>1</th>\n",
       "      <td>People using at least basic drinking water ser...</td>\n",
       "      <td>SH.H2O.BASW.ZS</td>\n",
       "      <td>Africa Eastern and Southern</td>\n",
       "      <td>AFE</td>\n",
       "      <td>..</td>\n",
       "      <td>..</td>\n",
       "      <td>..</td>\n",
       "      <td>..</td>\n",
       "      <td>..</td>\n",
       "      <td>..</td>\n",
       "      <td>...</td>\n",
       "      <td>52.747072324836</td>\n",
       "      <td>53.6029859054055</td>\n",
       "      <td>54.4164559283868</td>\n",
       "      <td>55.2338909572547</td>\n",
       "      <td>56.0688342053276</td>\n",
       "      <td>56.8776971299163</td>\n",
       "      <td>57.6433851469426</td>\n",
       "      <td>58.3844552328201</td>\n",
       "      <td>59.1034631102632</td>\n",
       "      <td>..</td>\n",
       "    </tr>\n",
       "    <tr>\n",
       "      <th>2</th>\n",
       "      <td>People using at least basic drinking water ser...</td>\n",
       "      <td>SH.H2O.BASW.ZS</td>\n",
       "      <td>Africa Western and Central</td>\n",
       "      <td>AFW</td>\n",
       "      <td>..</td>\n",
       "      <td>..</td>\n",
       "      <td>..</td>\n",
       "      <td>..</td>\n",
       "      <td>..</td>\n",
       "      <td>..</td>\n",
       "      <td>...</td>\n",
       "      <td>65.4728152474777</td>\n",
       "      <td>66.5484071078333</td>\n",
       "      <td>67.6172260539602</td>\n",
       "      <td>68.6819602315201</td>\n",
       "      <td>69.7490709976563</td>\n",
       "      <td>70.7984871895402</td>\n",
       "      <td>71.8450630941457</td>\n",
       "      <td>72.9354910903632</td>\n",
       "      <td>74.0456398618969</td>\n",
       "      <td>..</td>\n",
       "    </tr>\n",
       "    <tr>\n",
       "      <th>3</th>\n",
       "      <td>People using at least basic drinking water ser...</td>\n",
       "      <td>SH.H2O.BASW.ZS</td>\n",
       "      <td>Albania</td>\n",
       "      <td>ALB</td>\n",
       "      <td>..</td>\n",
       "      <td>..</td>\n",
       "      <td>..</td>\n",
       "      <td>..</td>\n",
       "      <td>..</td>\n",
       "      <td>..</td>\n",
       "      <td>...</td>\n",
       "      <td>93.0200580597032</td>\n",
       "      <td>93.3943239683645</td>\n",
       "      <td>93.7548779094968</td>\n",
       "      <td>94.1020962002701</td>\n",
       "      <td>94.4363934347219</td>\n",
       "      <td>94.7582247174548</td>\n",
       "      <td>95.0680388145809</td>\n",
       "      <td>95.0815134425003</td>\n",
       "      <td>95.0945635220358</td>\n",
       "      <td>..</td>\n",
       "    </tr>\n",
       "    <tr>\n",
       "      <th>4</th>\n",
       "      <td>People using at least basic drinking water ser...</td>\n",
       "      <td>SH.H2O.BASW.ZS</td>\n",
       "      <td>Algeria</td>\n",
       "      <td>DZA</td>\n",
       "      <td>..</td>\n",
       "      <td>..</td>\n",
       "      <td>..</td>\n",
       "      <td>..</td>\n",
       "      <td>..</td>\n",
       "      <td>..</td>\n",
       "      <td>...</td>\n",
       "      <td>93.1923467804089</td>\n",
       "      <td>93.4095576469991</td>\n",
       "      <td>93.6227755358994</td>\n",
       "      <td>93.8319749303098</td>\n",
       "      <td>94.0374149250041</td>\n",
       "      <td>94.2391398601614</td>\n",
       "      <td>94.4373299704124</td>\n",
       "      <td>94.6321020435575</td>\n",
       "      <td>94.6613975479238</td>\n",
       "      <td>..</td>\n",
       "    </tr>\n",
       "    <tr>\n",
       "      <th>...</th>\n",
       "      <td>...</td>\n",
       "      <td>...</td>\n",
       "      <td>...</td>\n",
       "      <td>...</td>\n",
       "      <td>...</td>\n",
       "      <td>...</td>\n",
       "      <td>...</td>\n",
       "      <td>...</td>\n",
       "      <td>...</td>\n",
       "      <td>...</td>\n",
       "      <td>...</td>\n",
       "      <td>...</td>\n",
       "      <td>...</td>\n",
       "      <td>...</td>\n",
       "      <td>...</td>\n",
       "      <td>...</td>\n",
       "      <td>...</td>\n",
       "      <td>...</td>\n",
       "      <td>...</td>\n",
       "      <td>...</td>\n",
       "      <td>...</td>\n",
       "    </tr>\n",
       "    <tr>\n",
       "      <th>793</th>\n",
       "      <td>People using at least basic drinking water ser...</td>\n",
       "      <td>SH.H2O.BASW.UR.ZS</td>\n",
       "      <td>West Bank and Gaza</td>\n",
       "      <td>PSE</td>\n",
       "      <td>..</td>\n",
       "      <td>..</td>\n",
       "      <td>..</td>\n",
       "      <td>..</td>\n",
       "      <td>..</td>\n",
       "      <td>..</td>\n",
       "      <td>...</td>\n",
       "      <td>96.5188647722699</td>\n",
       "      <td>96.7062596213969</td>\n",
       "      <td>96.8925698416583</td>\n",
       "      <td>97.0777954330544</td>\n",
       "      <td>97.2619363955853</td>\n",
       "      <td>97.4449927292506</td>\n",
       "      <td>97.6269644340505</td>\n",
       "      <td>97.8078515099851</td>\n",
       "      <td>97.9876539570543</td>\n",
       "      <td>..</td>\n",
       "    </tr>\n",
       "    <tr>\n",
       "      <th>794</th>\n",
       "      <td>People using at least basic drinking water ser...</td>\n",
       "      <td>SH.H2O.BASW.UR.ZS</td>\n",
       "      <td>World</td>\n",
       "      <td>WLD</td>\n",
       "      <td>..</td>\n",
       "      <td>..</td>\n",
       "      <td>..</td>\n",
       "      <td>..</td>\n",
       "      <td>..</td>\n",
       "      <td>..</td>\n",
       "      <td>...</td>\n",
       "      <td>95.8758666771529</td>\n",
       "      <td>95.9790015799396</td>\n",
       "      <td>96.0640309149958</td>\n",
       "      <td>96.1592131211629</td>\n",
       "      <td>96.2606727266437</td>\n",
       "      <td>96.3470517444354</td>\n",
       "      <td>96.420603870836</td>\n",
       "      <td>96.4831857934123</td>\n",
       "      <td>96.557154513634</td>\n",
       "      <td>..</td>\n",
       "    </tr>\n",
       "    <tr>\n",
       "      <th>795</th>\n",
       "      <td>People using at least basic drinking water ser...</td>\n",
       "      <td>SH.H2O.BASW.UR.ZS</td>\n",
       "      <td>Yemen, Rep.</td>\n",
       "      <td>YEM</td>\n",
       "      <td>..</td>\n",
       "      <td>..</td>\n",
       "      <td>..</td>\n",
       "      <td>..</td>\n",
       "      <td>..</td>\n",
       "      <td>..</td>\n",
       "      <td>...</td>\n",
       "      <td>75.8831073619312</td>\n",
       "      <td>76.0725118960724</td>\n",
       "      <td>76.261556081852</td>\n",
       "      <td>76.4502399192702</td>\n",
       "      <td>76.6385634083269</td>\n",
       "      <td>76.826526549022</td>\n",
       "      <td>77.0141293413556</td>\n",
       "      <td>77.2013717853277</td>\n",
       "      <td>77.2013717853277</td>\n",
       "      <td>..</td>\n",
       "    </tr>\n",
       "    <tr>\n",
       "      <th>796</th>\n",
       "      <td>People using at least basic drinking water ser...</td>\n",
       "      <td>SH.H2O.BASW.UR.ZS</td>\n",
       "      <td>Zambia</td>\n",
       "      <td>ZMB</td>\n",
       "      <td>..</td>\n",
       "      <td>..</td>\n",
       "      <td>..</td>\n",
       "      <td>..</td>\n",
       "      <td>..</td>\n",
       "      <td>..</td>\n",
       "      <td>...</td>\n",
       "      <td>86.753853824335</td>\n",
       "      <td>87.0536400900434</td>\n",
       "      <td>87.3535240737351</td>\n",
       "      <td>87.65350577541</td>\n",
       "      <td>87.953585195068</td>\n",
       "      <td>88.2537623327093</td>\n",
       "      <td>88.5540371883338</td>\n",
       "      <td>88.5540371883338</td>\n",
       "      <td>88.5540371883338</td>\n",
       "      <td>..</td>\n",
       "    </tr>\n",
       "    <tr>\n",
       "      <th>797</th>\n",
       "      <td>People using at least basic drinking water ser...</td>\n",
       "      <td>SH.H2O.BASW.UR.ZS</td>\n",
       "      <td>Zimbabwe</td>\n",
       "      <td>ZWE</td>\n",
       "      <td>..</td>\n",
       "      <td>..</td>\n",
       "      <td>..</td>\n",
       "      <td>..</td>\n",
       "      <td>..</td>\n",
       "      <td>..</td>\n",
       "      <td>...</td>\n",
       "      <td>93.7032289824533</td>\n",
       "      <td>93.5686357413371</td>\n",
       "      <td>93.4340064613873</td>\n",
       "      <td>93.2993411426039</td>\n",
       "      <td>93.1646397849869</td>\n",
       "      <td>93.0299023885364</td>\n",
       "      <td>92.8951289532523</td>\n",
       "      <td>92.7603194791347</td>\n",
       "      <td>92.7603194791347</td>\n",
       "      <td>..</td>\n",
       "    </tr>\n",
       "  </tbody>\n",
       "</table>\n",
       "<p>798 rows × 68 columns</p>\n",
       "</div>"
      ],
      "text/plain": [
       "                                           Series Name        Series Code  \\\n",
       "0    People using at least basic drinking water ser...     SH.H2O.BASW.ZS   \n",
       "1    People using at least basic drinking water ser...     SH.H2O.BASW.ZS   \n",
       "2    People using at least basic drinking water ser...     SH.H2O.BASW.ZS   \n",
       "3    People using at least basic drinking water ser...     SH.H2O.BASW.ZS   \n",
       "4    People using at least basic drinking water ser...     SH.H2O.BASW.ZS   \n",
       "..                                                 ...                ...   \n",
       "793  People using at least basic drinking water ser...  SH.H2O.BASW.UR.ZS   \n",
       "794  People using at least basic drinking water ser...  SH.H2O.BASW.UR.ZS   \n",
       "795  People using at least basic drinking water ser...  SH.H2O.BASW.UR.ZS   \n",
       "796  People using at least basic drinking water ser...  SH.H2O.BASW.UR.ZS   \n",
       "797  People using at least basic drinking water ser...  SH.H2O.BASW.UR.ZS   \n",
       "\n",
       "                    Country Name Country Code 1960 [YR1960] 1961 [YR1961]  \\\n",
       "0                    Afghanistan          AFG            ..            ..   \n",
       "1    Africa Eastern and Southern          AFE            ..            ..   \n",
       "2     Africa Western and Central          AFW            ..            ..   \n",
       "3                        Albania          ALB            ..            ..   \n",
       "4                        Algeria          DZA            ..            ..   \n",
       "..                           ...          ...           ...           ...   \n",
       "793           West Bank and Gaza          PSE            ..            ..   \n",
       "794                        World          WLD            ..            ..   \n",
       "795                  Yemen, Rep.          YEM            ..            ..   \n",
       "796                       Zambia          ZMB            ..            ..   \n",
       "797                     Zimbabwe          ZWE            ..            ..   \n",
       "\n",
       "    1962 [YR1962] 1963 [YR1963] 1964 [YR1964] 1965 [YR1965]  ...  \\\n",
       "0              ..            ..            ..            ..  ...   \n",
       "1              ..            ..            ..            ..  ...   \n",
       "2              ..            ..            ..            ..  ...   \n",
       "3              ..            ..            ..            ..  ...   \n",
       "4              ..            ..            ..            ..  ...   \n",
       "..            ...           ...           ...           ...  ...   \n",
       "793            ..            ..            ..            ..  ...   \n",
       "794            ..            ..            ..            ..  ...   \n",
       "795            ..            ..            ..            ..  ...   \n",
       "796            ..            ..            ..            ..  ...   \n",
       "797            ..            ..            ..            ..  ...   \n",
       "\n",
       "        2014 [YR2014]     2015 [YR2015]     2016 [YR2016]     2017 [YR2017]  \\\n",
       "0    59.5981581738121  62.3696595585624  65.1721622599667  68.0088715856643   \n",
       "1     52.747072324836  53.6029859054055  54.4164559283868  55.2338909572547   \n",
       "2    65.4728152474777  66.5484071078333  67.6172260539602  68.6819602315201   \n",
       "3    93.0200580597032  93.3943239683645  93.7548779094968  94.1020962002701   \n",
       "4    93.1923467804089  93.4095576469991  93.6227755358994  93.8319749303098   \n",
       "..                ...               ...               ...               ...   \n",
       "793  96.5188647722699  96.7062596213969  96.8925698416583  97.0777954330544   \n",
       "794  95.8758666771529  95.9790015799396  96.0640309149958  96.1592131211629   \n",
       "795  75.8831073619312  76.0725118960724   76.261556081852  76.4502399192702   \n",
       "796   86.753853824335  87.0536400900434  87.3535240737351    87.65350577541   \n",
       "797  93.7032289824533  93.5686357413371  93.4340064613873  93.2993411426039   \n",
       "\n",
       "        2018 [YR2018]     2019 [YR2019]     2020 [YR2020]     2021 [YR2021]  \\\n",
       "0    70.8799408932308  73.7846429967308    76.72225540254  79.6930784589074   \n",
       "1    56.0688342053276  56.8776971299163  57.6433851469426  58.3844552328201   \n",
       "2    69.7490709976563  70.7984871895402  71.8450630941457  72.9354910903632   \n",
       "3    94.4363934347219  94.7582247174548  95.0680388145809  95.0815134425003   \n",
       "4    94.0374149250041  94.2391398601614  94.4373299704124  94.6321020435575   \n",
       "..                ...               ...               ...               ...   \n",
       "793  97.2619363955853  97.4449927292506  97.6269644340505  97.8078515099851   \n",
       "794  96.2606727266437  96.3470517444354   96.420603870836  96.4831857934123   \n",
       "795  76.6385634083269   76.826526549022  77.0141293413556  77.2013717853277   \n",
       "796   87.953585195068  88.2537623327093  88.5540371883338  88.5540371883338   \n",
       "797  93.1646397849869  93.0299023885364  92.8951289532523  92.7603194791347   \n",
       "\n",
       "        2022 [YR2022] 2023 [YR2023]  \n",
       "0    82.1753711181706            ..  \n",
       "1    59.1034631102632            ..  \n",
       "2    74.0456398618969            ..  \n",
       "3    95.0945635220358            ..  \n",
       "4    94.6613975479238            ..  \n",
       "..                ...           ...  \n",
       "793  97.9876539570543            ..  \n",
       "794   96.557154513634            ..  \n",
       "795  77.2013717853277            ..  \n",
       "796  88.5540371883338            ..  \n",
       "797  92.7603194791347            ..  \n",
       "\n",
       "[798 rows x 68 columns]"
      ]
     },
     "execution_count": 14,
     "metadata": {},
     "output_type": "execute_result"
    }
   ],
   "source": [
    "df_new"
   ]
  },
  {
   "cell_type": "code",
   "execution_count": 15,
   "metadata": {},
   "outputs": [
    {
     "name": "stderr",
     "output_type": "stream",
     "text": [
      "<>:8: SyntaxWarning: invalid escape sequence '\\d'\n",
      "<>:8: SyntaxWarning: invalid escape sequence '\\d'\n",
      "/tmp/ipykernel_31010/2816224648.py:8: SyntaxWarning: invalid escape sequence '\\d'\n",
      "  df_long_new['Year'] = df_long_new['Year'].str.extract('(\\d{4})')\n"
     ]
    }
   ],
   "source": [
    "\n",
    "\n",
    "# Convert to long format\n",
    "df_long_new = pd.melt(df_new, \n",
    "                  id_vars=['Series Name', 'Series Code', 'Country Name', 'Country Code'], \n",
    "                  var_name='Year', \n",
    "                  value_name='Value')\n",
    "\n",
    "# Clean the 'Year' column to remove the '[YRxxxx]' part\n",
    "df_long_new['Year'] = df_long_new['Year'].str.extract('(\\d{4})')\n",
    "\n",
    "# Display the long format DataFrame"
   ]
  },
  {
   "cell_type": "code",
   "execution_count": 16,
   "metadata": {},
   "outputs": [
    {
     "data": {
      "text/html": [
       "<div>\n",
       "<style scoped>\n",
       "    .dataframe tbody tr th:only-of-type {\n",
       "        vertical-align: middle;\n",
       "    }\n",
       "\n",
       "    .dataframe tbody tr th {\n",
       "        vertical-align: top;\n",
       "    }\n",
       "\n",
       "    .dataframe thead th {\n",
       "        text-align: right;\n",
       "    }\n",
       "</style>\n",
       "<table border=\"1\" class=\"dataframe\">\n",
       "  <thead>\n",
       "    <tr style=\"text-align: right;\">\n",
       "      <th></th>\n",
       "      <th>Series Name</th>\n",
       "      <th>Series Code</th>\n",
       "      <th>Country Name</th>\n",
       "      <th>Country Code</th>\n",
       "      <th>Year</th>\n",
       "      <th>Value</th>\n",
       "    </tr>\n",
       "  </thead>\n",
       "  <tbody>\n",
       "    <tr>\n",
       "      <th>0</th>\n",
       "      <td>People using at least basic drinking water ser...</td>\n",
       "      <td>SH.H2O.BASW.ZS</td>\n",
       "      <td>Afghanistan</td>\n",
       "      <td>AFG</td>\n",
       "      <td>1960</td>\n",
       "      <td>..</td>\n",
       "    </tr>\n",
       "    <tr>\n",
       "      <th>1</th>\n",
       "      <td>People using at least basic drinking water ser...</td>\n",
       "      <td>SH.H2O.BASW.ZS</td>\n",
       "      <td>Africa Eastern and Southern</td>\n",
       "      <td>AFE</td>\n",
       "      <td>1960</td>\n",
       "      <td>..</td>\n",
       "    </tr>\n",
       "    <tr>\n",
       "      <th>2</th>\n",
       "      <td>People using at least basic drinking water ser...</td>\n",
       "      <td>SH.H2O.BASW.ZS</td>\n",
       "      <td>Africa Western and Central</td>\n",
       "      <td>AFW</td>\n",
       "      <td>1960</td>\n",
       "      <td>..</td>\n",
       "    </tr>\n",
       "    <tr>\n",
       "      <th>3</th>\n",
       "      <td>People using at least basic drinking water ser...</td>\n",
       "      <td>SH.H2O.BASW.ZS</td>\n",
       "      <td>Albania</td>\n",
       "      <td>ALB</td>\n",
       "      <td>1960</td>\n",
       "      <td>..</td>\n",
       "    </tr>\n",
       "    <tr>\n",
       "      <th>4</th>\n",
       "      <td>People using at least basic drinking water ser...</td>\n",
       "      <td>SH.H2O.BASW.ZS</td>\n",
       "      <td>Algeria</td>\n",
       "      <td>DZA</td>\n",
       "      <td>1960</td>\n",
       "      <td>..</td>\n",
       "    </tr>\n",
       "    <tr>\n",
       "      <th>...</th>\n",
       "      <td>...</td>\n",
       "      <td>...</td>\n",
       "      <td>...</td>\n",
       "      <td>...</td>\n",
       "      <td>...</td>\n",
       "      <td>...</td>\n",
       "    </tr>\n",
       "    <tr>\n",
       "      <th>51067</th>\n",
       "      <td>People using at least basic drinking water ser...</td>\n",
       "      <td>SH.H2O.BASW.UR.ZS</td>\n",
       "      <td>West Bank and Gaza</td>\n",
       "      <td>PSE</td>\n",
       "      <td>2023</td>\n",
       "      <td>..</td>\n",
       "    </tr>\n",
       "    <tr>\n",
       "      <th>51068</th>\n",
       "      <td>People using at least basic drinking water ser...</td>\n",
       "      <td>SH.H2O.BASW.UR.ZS</td>\n",
       "      <td>World</td>\n",
       "      <td>WLD</td>\n",
       "      <td>2023</td>\n",
       "      <td>..</td>\n",
       "    </tr>\n",
       "    <tr>\n",
       "      <th>51069</th>\n",
       "      <td>People using at least basic drinking water ser...</td>\n",
       "      <td>SH.H2O.BASW.UR.ZS</td>\n",
       "      <td>Yemen, Rep.</td>\n",
       "      <td>YEM</td>\n",
       "      <td>2023</td>\n",
       "      <td>..</td>\n",
       "    </tr>\n",
       "    <tr>\n",
       "      <th>51070</th>\n",
       "      <td>People using at least basic drinking water ser...</td>\n",
       "      <td>SH.H2O.BASW.UR.ZS</td>\n",
       "      <td>Zambia</td>\n",
       "      <td>ZMB</td>\n",
       "      <td>2023</td>\n",
       "      <td>..</td>\n",
       "    </tr>\n",
       "    <tr>\n",
       "      <th>51071</th>\n",
       "      <td>People using at least basic drinking water ser...</td>\n",
       "      <td>SH.H2O.BASW.UR.ZS</td>\n",
       "      <td>Zimbabwe</td>\n",
       "      <td>ZWE</td>\n",
       "      <td>2023</td>\n",
       "      <td>..</td>\n",
       "    </tr>\n",
       "  </tbody>\n",
       "</table>\n",
       "<p>51072 rows × 6 columns</p>\n",
       "</div>"
      ],
      "text/plain": [
       "                                             Series Name        Series Code  \\\n",
       "0      People using at least basic drinking water ser...     SH.H2O.BASW.ZS   \n",
       "1      People using at least basic drinking water ser...     SH.H2O.BASW.ZS   \n",
       "2      People using at least basic drinking water ser...     SH.H2O.BASW.ZS   \n",
       "3      People using at least basic drinking water ser...     SH.H2O.BASW.ZS   \n",
       "4      People using at least basic drinking water ser...     SH.H2O.BASW.ZS   \n",
       "...                                                  ...                ...   \n",
       "51067  People using at least basic drinking water ser...  SH.H2O.BASW.UR.ZS   \n",
       "51068  People using at least basic drinking water ser...  SH.H2O.BASW.UR.ZS   \n",
       "51069  People using at least basic drinking water ser...  SH.H2O.BASW.UR.ZS   \n",
       "51070  People using at least basic drinking water ser...  SH.H2O.BASW.UR.ZS   \n",
       "51071  People using at least basic drinking water ser...  SH.H2O.BASW.UR.ZS   \n",
       "\n",
       "                      Country Name Country Code  Year Value  \n",
       "0                      Afghanistan          AFG  1960    ..  \n",
       "1      Africa Eastern and Southern          AFE  1960    ..  \n",
       "2       Africa Western and Central          AFW  1960    ..  \n",
       "3                          Albania          ALB  1960    ..  \n",
       "4                          Algeria          DZA  1960    ..  \n",
       "...                            ...          ...   ...   ...  \n",
       "51067           West Bank and Gaza          PSE  2023    ..  \n",
       "51068                        World          WLD  2023    ..  \n",
       "51069                  Yemen, Rep.          YEM  2023    ..  \n",
       "51070                       Zambia          ZMB  2023    ..  \n",
       "51071                     Zimbabwe          ZWE  2023    ..  \n",
       "\n",
       "[51072 rows x 6 columns]"
      ]
     },
     "execution_count": 16,
     "metadata": {},
     "output_type": "execute_result"
    }
   ],
   "source": [
    "df_long_new"
   ]
  },
  {
   "cell_type": "code",
   "execution_count": 17,
   "metadata": {},
   "outputs": [],
   "source": [
    "df_long_new.drop(columns=['Series Code'], inplace=True)"
   ]
  },
  {
   "cell_type": "code",
   "execution_count": 18,
   "metadata": {},
   "outputs": [],
   "source": [
    "def map_series_name(series_name):\n",
    "    if 'urban' in series_name.lower():\n",
    "        return 'URBAN'\n",
    "    elif 'rural' in series_name.lower():\n",
    "        return 'RURAL'\n",
    "    else:\n",
    "        return 'ALLAREA'\n",
    "\n",
    "df_long_new['Area'] = df_long_new['Series Name'].apply(map_series_name)"
   ]
  },
  {
   "cell_type": "code",
   "execution_count": 19,
   "metadata": {},
   "outputs": [
    {
     "data": {
      "text/html": [
       "<div>\n",
       "<style scoped>\n",
       "    .dataframe tbody tr th:only-of-type {\n",
       "        vertical-align: middle;\n",
       "    }\n",
       "\n",
       "    .dataframe tbody tr th {\n",
       "        vertical-align: top;\n",
       "    }\n",
       "\n",
       "    .dataframe thead th {\n",
       "        text-align: right;\n",
       "    }\n",
       "</style>\n",
       "<table border=\"1\" class=\"dataframe\">\n",
       "  <thead>\n",
       "    <tr style=\"text-align: right;\">\n",
       "      <th></th>\n",
       "      <th>Series Name</th>\n",
       "      <th>Country Name</th>\n",
       "      <th>Country Code</th>\n",
       "      <th>Year</th>\n",
       "      <th>Value</th>\n",
       "      <th>Area</th>\n",
       "    </tr>\n",
       "  </thead>\n",
       "  <tbody>\n",
       "    <tr>\n",
       "      <th>0</th>\n",
       "      <td>People using at least basic drinking water ser...</td>\n",
       "      <td>Afghanistan</td>\n",
       "      <td>AFG</td>\n",
       "      <td>1960</td>\n",
       "      <td>..</td>\n",
       "      <td>ALLAREA</td>\n",
       "    </tr>\n",
       "    <tr>\n",
       "      <th>1</th>\n",
       "      <td>People using at least basic drinking water ser...</td>\n",
       "      <td>Africa Eastern and Southern</td>\n",
       "      <td>AFE</td>\n",
       "      <td>1960</td>\n",
       "      <td>..</td>\n",
       "      <td>ALLAREA</td>\n",
       "    </tr>\n",
       "    <tr>\n",
       "      <th>2</th>\n",
       "      <td>People using at least basic drinking water ser...</td>\n",
       "      <td>Africa Western and Central</td>\n",
       "      <td>AFW</td>\n",
       "      <td>1960</td>\n",
       "      <td>..</td>\n",
       "      <td>ALLAREA</td>\n",
       "    </tr>\n",
       "    <tr>\n",
       "      <th>3</th>\n",
       "      <td>People using at least basic drinking water ser...</td>\n",
       "      <td>Albania</td>\n",
       "      <td>ALB</td>\n",
       "      <td>1960</td>\n",
       "      <td>..</td>\n",
       "      <td>ALLAREA</td>\n",
       "    </tr>\n",
       "    <tr>\n",
       "      <th>4</th>\n",
       "      <td>People using at least basic drinking water ser...</td>\n",
       "      <td>Algeria</td>\n",
       "      <td>DZA</td>\n",
       "      <td>1960</td>\n",
       "      <td>..</td>\n",
       "      <td>ALLAREA</td>\n",
       "    </tr>\n",
       "    <tr>\n",
       "      <th>...</th>\n",
       "      <td>...</td>\n",
       "      <td>...</td>\n",
       "      <td>...</td>\n",
       "      <td>...</td>\n",
       "      <td>...</td>\n",
       "      <td>...</td>\n",
       "    </tr>\n",
       "    <tr>\n",
       "      <th>51067</th>\n",
       "      <td>People using at least basic drinking water ser...</td>\n",
       "      <td>West Bank and Gaza</td>\n",
       "      <td>PSE</td>\n",
       "      <td>2023</td>\n",
       "      <td>..</td>\n",
       "      <td>URBAN</td>\n",
       "    </tr>\n",
       "    <tr>\n",
       "      <th>51068</th>\n",
       "      <td>People using at least basic drinking water ser...</td>\n",
       "      <td>World</td>\n",
       "      <td>WLD</td>\n",
       "      <td>2023</td>\n",
       "      <td>..</td>\n",
       "      <td>URBAN</td>\n",
       "    </tr>\n",
       "    <tr>\n",
       "      <th>51069</th>\n",
       "      <td>People using at least basic drinking water ser...</td>\n",
       "      <td>Yemen, Rep.</td>\n",
       "      <td>YEM</td>\n",
       "      <td>2023</td>\n",
       "      <td>..</td>\n",
       "      <td>URBAN</td>\n",
       "    </tr>\n",
       "    <tr>\n",
       "      <th>51070</th>\n",
       "      <td>People using at least basic drinking water ser...</td>\n",
       "      <td>Zambia</td>\n",
       "      <td>ZMB</td>\n",
       "      <td>2023</td>\n",
       "      <td>..</td>\n",
       "      <td>URBAN</td>\n",
       "    </tr>\n",
       "    <tr>\n",
       "      <th>51071</th>\n",
       "      <td>People using at least basic drinking water ser...</td>\n",
       "      <td>Zimbabwe</td>\n",
       "      <td>ZWE</td>\n",
       "      <td>2023</td>\n",
       "      <td>..</td>\n",
       "      <td>URBAN</td>\n",
       "    </tr>\n",
       "  </tbody>\n",
       "</table>\n",
       "<p>51072 rows × 6 columns</p>\n",
       "</div>"
      ],
      "text/plain": [
       "                                             Series Name  \\\n",
       "0      People using at least basic drinking water ser...   \n",
       "1      People using at least basic drinking water ser...   \n",
       "2      People using at least basic drinking water ser...   \n",
       "3      People using at least basic drinking water ser...   \n",
       "4      People using at least basic drinking water ser...   \n",
       "...                                                  ...   \n",
       "51067  People using at least basic drinking water ser...   \n",
       "51068  People using at least basic drinking water ser...   \n",
       "51069  People using at least basic drinking water ser...   \n",
       "51070  People using at least basic drinking water ser...   \n",
       "51071  People using at least basic drinking water ser...   \n",
       "\n",
       "                      Country Name Country Code  Year Value     Area  \n",
       "0                      Afghanistan          AFG  1960    ..  ALLAREA  \n",
       "1      Africa Eastern and Southern          AFE  1960    ..  ALLAREA  \n",
       "2       Africa Western and Central          AFW  1960    ..  ALLAREA  \n",
       "3                          Albania          ALB  1960    ..  ALLAREA  \n",
       "4                          Algeria          DZA  1960    ..  ALLAREA  \n",
       "...                            ...          ...   ...   ...      ...  \n",
       "51067           West Bank and Gaza          PSE  2023    ..    URBAN  \n",
       "51068                        World          WLD  2023    ..    URBAN  \n",
       "51069                  Yemen, Rep.          YEM  2023    ..    URBAN  \n",
       "51070                       Zambia          ZMB  2023    ..    URBAN  \n",
       "51071                     Zimbabwe          ZWE  2023    ..    URBAN  \n",
       "\n",
       "[51072 rows x 6 columns]"
      ]
     },
     "execution_count": 19,
     "metadata": {},
     "output_type": "execute_result"
    }
   ],
   "source": [
    "df_long_new"
   ]
  },
  {
   "cell_type": "code",
   "execution_count": 20,
   "metadata": {},
   "outputs": [],
   "source": [
    "df_long_new.to_pickle(\"wb_water_access.pkl\")"
   ]
  }
 ],
 "metadata": {
  "kernelspec": {
   "display_name": "venv",
   "language": "python",
   "name": "python3"
  },
  "language_info": {
   "codemirror_mode": {
    "name": "ipython",
    "version": 3
   },
   "file_extension": ".py",
   "mimetype": "text/x-python",
   "name": "python",
   "nbconvert_exporter": "python",
   "pygments_lexer": "ipython3",
   "version": "3.12.3"
  }
 },
 "nbformat": 4,
 "nbformat_minor": 2
}
